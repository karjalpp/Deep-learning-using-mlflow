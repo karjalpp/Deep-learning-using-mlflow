{
  "nbformat": 4,
  "nbformat_minor": 0,
  "metadata": {
    "colab": {
      "provenance": [],
      "gpuType": "T4",
      "include_colab_link": true
    },
    "kernelspec": {
      "name": "python3",
      "display_name": "Python 3"
    },
    "language_info": {
      "name": "python"
    },
    "accelerator": "GPU"
  },
  "cells": [
    {
      "cell_type": "markdown",
      "metadata": {
        "id": "view-in-github",
        "colab_type": "text"
      },
      "source": [
        "<a href=\"https://colab.research.google.com/github/karjalpp/Deep-learning-using-mlflow/blob/main/Multmodel_RAG_System_for_video_processing.ipynb\" target=\"_parent\"><img src=\"https://colab.research.google.com/assets/colab-badge.svg\" alt=\"Open In Colab\"/></a>"
      ]
    },
    {
      "cell_type": "markdown",
      "source": [
        "1. llamaindex framework\n",
        "2. Lancedb\n",
        "3. LLM model(GPT-4V)\n",
        "4. GEMINI-PRO-VISION"
      ],
      "metadata": {
        "id": "uTcFXUVl76Li"
      }
    },
    {
      "cell_type": "markdown",
      "source": [
        "Steps:\n",
        "1. Download video from YouTube, process and store it.\n",
        "\n",
        "2. Build Multi-Modal index and vector store for both texts and images.\n",
        "\n",
        "3. Retrieve relevant images and context, use both to augment the prompt.\n",
        "\n",
        "4. Using GPT4V for reasoning the correlations between the input query and augmented data and generating final response."
      ],
      "metadata": {
        "id": "M2QcYrOH_aLn"
      }
    },
    {
      "cell_type": "code",
      "execution_count": null,
      "metadata": {
        "colab": {
          "base_uri": "https://localhost:8080/"
        },
        "id": "OAsuGoD57sPC",
        "outputId": "95e79241-58a5-4f7c-a766-f7742f4fb35f"
      },
      "outputs": [
        {
          "output_type": "stream",
          "name": "stdout",
          "text": [
            "Collecting llama-index-vector-stores-lancedb\n",
            "  Downloading llama_index_vector_stores_lancedb-0.1.3-py3-none-any.whl (4.1 kB)\n",
            "Collecting lancedb<0.6.0,>=0.5.1 (from llama-index-vector-stores-lancedb)\n",
            "  Downloading lancedb-0.5.7-py3-none-any.whl (115 kB)\n",
            "\u001b[2K     \u001b[90m━━━━━━━━━━━━━━━━━━━━━━━━━━━━━━━━━━━━━━━━\u001b[0m \u001b[32m115.1/115.1 kB\u001b[0m \u001b[31m3.6 MB/s\u001b[0m eta \u001b[36m0:00:00\u001b[0m\n",
            "\u001b[?25hCollecting llama-index-core<0.11.0,>=0.10.1 (from llama-index-vector-stores-lancedb)\n",
            "  Downloading llama_index_core-0.10.29-py3-none-any.whl (15.4 MB)\n",
            "\u001b[2K     \u001b[90m━━━━━━━━━━━━━━━━━━━━━━━━━━━━━━━━━━━━━━━━\u001b[0m \u001b[32m15.4/15.4 MB\u001b[0m \u001b[31m46.2 MB/s\u001b[0m eta \u001b[36m0:00:00\u001b[0m\n",
            "\u001b[?25hCollecting deprecation (from lancedb<0.6.0,>=0.5.1->llama-index-vector-stores-lancedb)\n",
            "  Downloading deprecation-2.1.0-py2.py3-none-any.whl (11 kB)\n",
            "Collecting pylance==0.9.18 (from lancedb<0.6.0,>=0.5.1->llama-index-vector-stores-lancedb)\n",
            "  Downloading pylance-0.9.18-cp38-abi3-manylinux_2_17_x86_64.manylinux2014_x86_64.whl (21.6 MB)\n",
            "\u001b[2K     \u001b[90m━━━━━━━━━━━━━━━━━━━━━━━━━━━━━━━━━━━━━━━━\u001b[0m \u001b[32m21.6/21.6 MB\u001b[0m \u001b[31m45.5 MB/s\u001b[0m eta \u001b[36m0:00:00\u001b[0m\n",
            "\u001b[?25hCollecting ratelimiter~=1.0 (from lancedb<0.6.0,>=0.5.1->llama-index-vector-stores-lancedb)\n",
            "  Downloading ratelimiter-1.2.0.post0-py3-none-any.whl (6.6 kB)\n",
            "Collecting retry>=0.9.2 (from lancedb<0.6.0,>=0.5.1->llama-index-vector-stores-lancedb)\n",
            "  Downloading retry-0.9.2-py2.py3-none-any.whl (8.0 kB)\n",
            "Requirement already satisfied: tqdm>=4.27.0 in /usr/local/lib/python3.10/dist-packages (from lancedb<0.6.0,>=0.5.1->llama-index-vector-stores-lancedb) (4.66.2)\n",
            "Requirement already satisfied: pydantic>=1.10 in /usr/local/lib/python3.10/dist-packages (from lancedb<0.6.0,>=0.5.1->llama-index-vector-stores-lancedb) (2.6.4)\n",
            "Requirement already satisfied: attrs>=21.3.0 in /usr/local/lib/python3.10/dist-packages (from lancedb<0.6.0,>=0.5.1->llama-index-vector-stores-lancedb) (23.2.0)\n",
            "Collecting semver>=3.0 (from lancedb<0.6.0,>=0.5.1->llama-index-vector-stores-lancedb)\n",
            "  Downloading semver-3.0.2-py3-none-any.whl (17 kB)\n",
            "Requirement already satisfied: cachetools in /usr/local/lib/python3.10/dist-packages (from lancedb<0.6.0,>=0.5.1->llama-index-vector-stores-lancedb) (5.3.3)\n",
            "Requirement already satisfied: pyyaml>=6.0 in /usr/local/lib/python3.10/dist-packages (from lancedb<0.6.0,>=0.5.1->llama-index-vector-stores-lancedb) (6.0.1)\n",
            "Requirement already satisfied: click>=8.1.7 in /usr/local/lib/python3.10/dist-packages (from lancedb<0.6.0,>=0.5.1->llama-index-vector-stores-lancedb) (8.1.7)\n",
            "Requirement already satisfied: requests>=2.31.0 in /usr/local/lib/python3.10/dist-packages (from lancedb<0.6.0,>=0.5.1->llama-index-vector-stores-lancedb) (2.31.0)\n",
            "Collecting overrides>=0.7 (from lancedb<0.6.0,>=0.5.1->llama-index-vector-stores-lancedb)\n",
            "  Downloading overrides-7.7.0-py3-none-any.whl (17 kB)\n",
            "Requirement already satisfied: pyarrow>=12 in /usr/local/lib/python3.10/dist-packages (from pylance==0.9.18->lancedb<0.6.0,>=0.5.1->llama-index-vector-stores-lancedb) (14.0.2)\n",
            "Requirement already satisfied: numpy>=1.22 in /usr/local/lib/python3.10/dist-packages (from pylance==0.9.18->lancedb<0.6.0,>=0.5.1->llama-index-vector-stores-lancedb) (1.25.2)\n",
            "Requirement already satisfied: SQLAlchemy[asyncio]>=1.4.49 in /usr/local/lib/python3.10/dist-packages (from llama-index-core<0.11.0,>=0.10.1->llama-index-vector-stores-lancedb) (2.0.29)\n",
            "Requirement already satisfied: aiohttp<4.0.0,>=3.8.6 in /usr/local/lib/python3.10/dist-packages (from llama-index-core<0.11.0,>=0.10.1->llama-index-vector-stores-lancedb) (3.9.3)\n",
            "Collecting dataclasses-json (from llama-index-core<0.11.0,>=0.10.1->llama-index-vector-stores-lancedb)\n",
            "  Downloading dataclasses_json-0.6.4-py3-none-any.whl (28 kB)\n",
            "Collecting deprecated>=1.2.9.3 (from llama-index-core<0.11.0,>=0.10.1->llama-index-vector-stores-lancedb)\n",
            "  Downloading Deprecated-1.2.14-py2.py3-none-any.whl (9.6 kB)\n",
            "Collecting dirtyjson<2.0.0,>=1.0.8 (from llama-index-core<0.11.0,>=0.10.1->llama-index-vector-stores-lancedb)\n",
            "  Downloading dirtyjson-1.0.8-py3-none-any.whl (25 kB)\n",
            "Requirement already satisfied: fsspec>=2023.5.0 in /usr/local/lib/python3.10/dist-packages (from llama-index-core<0.11.0,>=0.10.1->llama-index-vector-stores-lancedb) (2023.6.0)\n",
            "Collecting httpx (from llama-index-core<0.11.0,>=0.10.1->llama-index-vector-stores-lancedb)\n",
            "  Downloading httpx-0.27.0-py3-none-any.whl (75 kB)\n",
            "\u001b[2K     \u001b[90m━━━━━━━━━━━━━━━━━━━━━━━━━━━━━━━━━━━━━━━━\u001b[0m \u001b[32m75.6/75.6 kB\u001b[0m \u001b[31m7.9 MB/s\u001b[0m eta \u001b[36m0:00:00\u001b[0m\n",
            "\u001b[?25hCollecting llamaindex-py-client<0.2.0,>=0.1.18 (from llama-index-core<0.11.0,>=0.10.1->llama-index-vector-stores-lancedb)\n",
            "  Downloading llamaindex_py_client-0.1.18-py3-none-any.whl (136 kB)\n",
            "\u001b[2K     \u001b[90m━━━━━━━━━━━━━━━━━━━━━━━━━━━━━━━━━━━━━━━━\u001b[0m \u001b[32m136.1/136.1 kB\u001b[0m \u001b[31m17.5 MB/s\u001b[0m eta \u001b[36m0:00:00\u001b[0m\n",
            "\u001b[?25hRequirement already satisfied: nest-asyncio<2.0.0,>=1.5.8 in /usr/local/lib/python3.10/dist-packages (from llama-index-core<0.11.0,>=0.10.1->llama-index-vector-stores-lancedb) (1.6.0)\n",
            "Requirement already satisfied: networkx>=3.0 in /usr/local/lib/python3.10/dist-packages (from llama-index-core<0.11.0,>=0.10.1->llama-index-vector-stores-lancedb) (3.3)\n",
            "Requirement already satisfied: nltk<4.0.0,>=3.8.1 in /usr/local/lib/python3.10/dist-packages (from llama-index-core<0.11.0,>=0.10.1->llama-index-vector-stores-lancedb) (3.8.1)\n",
            "Collecting openai>=1.1.0 (from llama-index-core<0.11.0,>=0.10.1->llama-index-vector-stores-lancedb)\n",
            "  Downloading openai-1.17.1-py3-none-any.whl (268 kB)\n",
            "\u001b[2K     \u001b[90m━━━━━━━━━━━━━━━━━━━━━━━━━━━━━━━━━━━━━━━━\u001b[0m \u001b[32m268.3/268.3 kB\u001b[0m \u001b[31m33.7 MB/s\u001b[0m eta \u001b[36m0:00:00\u001b[0m\n",
            "\u001b[?25hRequirement already satisfied: pandas in /usr/local/lib/python3.10/dist-packages (from llama-index-core<0.11.0,>=0.10.1->llama-index-vector-stores-lancedb) (2.0.3)\n",
            "Requirement already satisfied: pillow>=9.0.0 in /usr/local/lib/python3.10/dist-packages (from llama-index-core<0.11.0,>=0.10.1->llama-index-vector-stores-lancedb) (9.4.0)\n",
            "Requirement already satisfied: tenacity<9.0.0,>=8.2.0 in /usr/local/lib/python3.10/dist-packages (from llama-index-core<0.11.0,>=0.10.1->llama-index-vector-stores-lancedb) (8.2.3)\n",
            "Collecting tiktoken>=0.3.3 (from llama-index-core<0.11.0,>=0.10.1->llama-index-vector-stores-lancedb)\n",
            "  Downloading tiktoken-0.6.0-cp310-cp310-manylinux_2_17_x86_64.manylinux2014_x86_64.whl (1.8 MB)\n",
            "\u001b[2K     \u001b[90m━━━━━━━━━━━━━━━━━━━━━━━━━━━━━━━━━━━━━━━━\u001b[0m \u001b[32m1.8/1.8 MB\u001b[0m \u001b[31m88.4 MB/s\u001b[0m eta \u001b[36m0:00:00\u001b[0m\n",
            "\u001b[?25hRequirement already satisfied: typing-extensions>=4.5.0 in /usr/local/lib/python3.10/dist-packages (from llama-index-core<0.11.0,>=0.10.1->llama-index-vector-stores-lancedb) (4.11.0)\n",
            "Collecting typing-inspect>=0.8.0 (from llama-index-core<0.11.0,>=0.10.1->llama-index-vector-stores-lancedb)\n",
            "  Downloading typing_inspect-0.9.0-py3-none-any.whl (8.8 kB)\n",
            "Requirement already satisfied: wrapt in /usr/local/lib/python3.10/dist-packages (from llama-index-core<0.11.0,>=0.10.1->llama-index-vector-stores-lancedb) (1.14.1)\n",
            "Requirement already satisfied: aiosignal>=1.1.2 in /usr/local/lib/python3.10/dist-packages (from aiohttp<4.0.0,>=3.8.6->llama-index-core<0.11.0,>=0.10.1->llama-index-vector-stores-lancedb) (1.3.1)\n",
            "Requirement already satisfied: frozenlist>=1.1.1 in /usr/local/lib/python3.10/dist-packages (from aiohttp<4.0.0,>=3.8.6->llama-index-core<0.11.0,>=0.10.1->llama-index-vector-stores-lancedb) (1.4.1)\n",
            "Requirement already satisfied: multidict<7.0,>=4.5 in /usr/local/lib/python3.10/dist-packages (from aiohttp<4.0.0,>=3.8.6->llama-index-core<0.11.0,>=0.10.1->llama-index-vector-stores-lancedb) (6.0.5)\n",
            "Requirement already satisfied: yarl<2.0,>=1.0 in /usr/local/lib/python3.10/dist-packages (from aiohttp<4.0.0,>=3.8.6->llama-index-core<0.11.0,>=0.10.1->llama-index-vector-stores-lancedb) (1.9.4)\n",
            "Requirement already satisfied: async-timeout<5.0,>=4.0 in /usr/local/lib/python3.10/dist-packages (from aiohttp<4.0.0,>=3.8.6->llama-index-core<0.11.0,>=0.10.1->llama-index-vector-stores-lancedb) (4.0.3)\n",
            "Requirement already satisfied: anyio in /usr/local/lib/python3.10/dist-packages (from httpx->llama-index-core<0.11.0,>=0.10.1->llama-index-vector-stores-lancedb) (3.7.1)\n",
            "Requirement already satisfied: certifi in /usr/local/lib/python3.10/dist-packages (from httpx->llama-index-core<0.11.0,>=0.10.1->llama-index-vector-stores-lancedb) (2024.2.2)\n",
            "Collecting httpcore==1.* (from httpx->llama-index-core<0.11.0,>=0.10.1->llama-index-vector-stores-lancedb)\n",
            "  Downloading httpcore-1.0.5-py3-none-any.whl (77 kB)\n",
            "\u001b[2K     \u001b[90m━━━━━━━━━━━━━━━━━━━━━━━━━━━━━━━━━━━━━━━━\u001b[0m \u001b[32m77.9/77.9 kB\u001b[0m \u001b[31m12.6 MB/s\u001b[0m eta \u001b[36m0:00:00\u001b[0m\n",
            "\u001b[?25hRequirement already satisfied: idna in /usr/local/lib/python3.10/dist-packages (from httpx->llama-index-core<0.11.0,>=0.10.1->llama-index-vector-stores-lancedb) (3.6)\n",
            "Requirement already satisfied: sniffio in /usr/local/lib/python3.10/dist-packages (from httpx->llama-index-core<0.11.0,>=0.10.1->llama-index-vector-stores-lancedb) (1.3.1)\n",
            "Collecting h11<0.15,>=0.13 (from httpcore==1.*->httpx->llama-index-core<0.11.0,>=0.10.1->llama-index-vector-stores-lancedb)\n",
            "  Downloading h11-0.14.0-py3-none-any.whl (58 kB)\n",
            "\u001b[2K     \u001b[90m━━━━━━━━━━━━━━━━━━━━━━━━━━━━━━━━━━━━━━━━\u001b[0m \u001b[32m58.3/58.3 kB\u001b[0m \u001b[31m9.1 MB/s\u001b[0m eta \u001b[36m0:00:00\u001b[0m\n",
            "\u001b[?25hRequirement already satisfied: joblib in /usr/local/lib/python3.10/dist-packages (from nltk<4.0.0,>=3.8.1->llama-index-core<0.11.0,>=0.10.1->llama-index-vector-stores-lancedb) (1.4.0)\n",
            "Requirement already satisfied: regex>=2021.8.3 in /usr/local/lib/python3.10/dist-packages (from nltk<4.0.0,>=3.8.1->llama-index-core<0.11.0,>=0.10.1->llama-index-vector-stores-lancedb) (2023.12.25)\n",
            "Requirement already satisfied: distro<2,>=1.7.0 in /usr/lib/python3/dist-packages (from openai>=1.1.0->llama-index-core<0.11.0,>=0.10.1->llama-index-vector-stores-lancedb) (1.7.0)\n",
            "Requirement already satisfied: annotated-types>=0.4.0 in /usr/local/lib/python3.10/dist-packages (from pydantic>=1.10->lancedb<0.6.0,>=0.5.1->llama-index-vector-stores-lancedb) (0.6.0)\n",
            "Requirement already satisfied: pydantic-core==2.16.3 in /usr/local/lib/python3.10/dist-packages (from pydantic>=1.10->lancedb<0.6.0,>=0.5.1->llama-index-vector-stores-lancedb) (2.16.3)\n",
            "Requirement already satisfied: charset-normalizer<4,>=2 in /usr/local/lib/python3.10/dist-packages (from requests>=2.31.0->lancedb<0.6.0,>=0.5.1->llama-index-vector-stores-lancedb) (3.3.2)\n",
            "Requirement already satisfied: urllib3<3,>=1.21.1 in /usr/local/lib/python3.10/dist-packages (from requests>=2.31.0->lancedb<0.6.0,>=0.5.1->llama-index-vector-stores-lancedb) (2.0.7)\n",
            "Requirement already satisfied: decorator>=3.4.2 in /usr/local/lib/python3.10/dist-packages (from retry>=0.9.2->lancedb<0.6.0,>=0.5.1->llama-index-vector-stores-lancedb) (4.4.2)\n",
            "Collecting py<2.0.0,>=1.4.26 (from retry>=0.9.2->lancedb<0.6.0,>=0.5.1->llama-index-vector-stores-lancedb)\n",
            "  Downloading py-1.11.0-py2.py3-none-any.whl (98 kB)\n",
            "\u001b[2K     \u001b[90m━━━━━━━━━━━━━━━━━━━━━━━━━━━━━━━━━━━━━━━━\u001b[0m \u001b[32m98.7/98.7 kB\u001b[0m \u001b[31m15.3 MB/s\u001b[0m eta \u001b[36m0:00:00\u001b[0m\n",
            "\u001b[?25hRequirement already satisfied: greenlet!=0.4.17 in /usr/local/lib/python3.10/dist-packages (from SQLAlchemy[asyncio]>=1.4.49->llama-index-core<0.11.0,>=0.10.1->llama-index-vector-stores-lancedb) (3.0.3)\n",
            "Collecting mypy-extensions>=0.3.0 (from typing-inspect>=0.8.0->llama-index-core<0.11.0,>=0.10.1->llama-index-vector-stores-lancedb)\n",
            "  Downloading mypy_extensions-1.0.0-py3-none-any.whl (4.7 kB)\n",
            "Collecting marshmallow<4.0.0,>=3.18.0 (from dataclasses-json->llama-index-core<0.11.0,>=0.10.1->llama-index-vector-stores-lancedb)\n",
            "  Downloading marshmallow-3.21.1-py3-none-any.whl (49 kB)\n",
            "\u001b[2K     \u001b[90m━━━━━━━━━━━━━━━━━━━━━━━━━━━━━━━━━━━━━━━━\u001b[0m \u001b[32m49.4/49.4 kB\u001b[0m \u001b[31m7.5 MB/s\u001b[0m eta \u001b[36m0:00:00\u001b[0m\n",
            "\u001b[?25hRequirement already satisfied: packaging in /usr/local/lib/python3.10/dist-packages (from deprecation->lancedb<0.6.0,>=0.5.1->llama-index-vector-stores-lancedb) (24.0)\n",
            "Requirement already satisfied: python-dateutil>=2.8.2 in /usr/local/lib/python3.10/dist-packages (from pandas->llama-index-core<0.11.0,>=0.10.1->llama-index-vector-stores-lancedb) (2.8.2)\n",
            "Requirement already satisfied: pytz>=2020.1 in /usr/local/lib/python3.10/dist-packages (from pandas->llama-index-core<0.11.0,>=0.10.1->llama-index-vector-stores-lancedb) (2023.4)\n",
            "Requirement already satisfied: tzdata>=2022.1 in /usr/local/lib/python3.10/dist-packages (from pandas->llama-index-core<0.11.0,>=0.10.1->llama-index-vector-stores-lancedb) (2024.1)\n",
            "Requirement already satisfied: exceptiongroup in /usr/local/lib/python3.10/dist-packages (from anyio->httpx->llama-index-core<0.11.0,>=0.10.1->llama-index-vector-stores-lancedb) (1.2.0)\n",
            "Requirement already satisfied: six>=1.5 in /usr/local/lib/python3.10/dist-packages (from python-dateutil>=2.8.2->pandas->llama-index-core<0.11.0,>=0.10.1->llama-index-vector-stores-lancedb) (1.16.0)\n",
            "Installing collected packages: ratelimiter, dirtyjson, semver, py, overrides, mypy-extensions, marshmallow, h11, deprecation, deprecated, typing-inspect, tiktoken, retry, pylance, httpcore, lancedb, httpx, dataclasses-json, openai, llamaindex-py-client, llama-index-core, llama-index-vector-stores-lancedb\n",
            "Successfully installed dataclasses-json-0.6.4 deprecated-1.2.14 deprecation-2.1.0 dirtyjson-1.0.8 h11-0.14.0 httpcore-1.0.5 httpx-0.27.0 lancedb-0.5.7 llama-index-core-0.10.29 llama-index-vector-stores-lancedb-0.1.3 llamaindex-py-client-0.1.18 marshmallow-3.21.1 mypy-extensions-1.0.0 openai-1.17.1 overrides-7.7.0 py-1.11.0 pylance-0.9.18 ratelimiter-1.2.0.post0 retry-0.9.2 semver-3.0.2 tiktoken-0.6.0 typing-inspect-0.9.0\n",
            "Collecting llama-index-multi-modal-llms-openai\n",
            "  Downloading llama_index_multi_modal_llms_openai-0.1.5-py3-none-any.whl (5.8 kB)\n",
            "Requirement already satisfied: llama-index-core<0.11.0,>=0.10.1 in /usr/local/lib/python3.10/dist-packages (from llama-index-multi-modal-llms-openai) (0.10.29)\n",
            "Collecting llama-index-llms-openai<0.2.0,>=0.1.1 (from llama-index-multi-modal-llms-openai)\n",
            "  Downloading llama_index_llms_openai-0.1.15-py3-none-any.whl (10 kB)\n",
            "Requirement already satisfied: PyYAML>=6.0.1 in /usr/local/lib/python3.10/dist-packages (from llama-index-core<0.11.0,>=0.10.1->llama-index-multi-modal-llms-openai) (6.0.1)\n",
            "Requirement already satisfied: SQLAlchemy[asyncio]>=1.4.49 in /usr/local/lib/python3.10/dist-packages (from llama-index-core<0.11.0,>=0.10.1->llama-index-multi-modal-llms-openai) (2.0.29)\n",
            "Requirement already satisfied: aiohttp<4.0.0,>=3.8.6 in /usr/local/lib/python3.10/dist-packages (from llama-index-core<0.11.0,>=0.10.1->llama-index-multi-modal-llms-openai) (3.9.3)\n",
            "Requirement already satisfied: dataclasses-json in /usr/local/lib/python3.10/dist-packages (from llama-index-core<0.11.0,>=0.10.1->llama-index-multi-modal-llms-openai) (0.6.4)\n",
            "Requirement already satisfied: deprecated>=1.2.9.3 in /usr/local/lib/python3.10/dist-packages (from llama-index-core<0.11.0,>=0.10.1->llama-index-multi-modal-llms-openai) (1.2.14)\n",
            "Requirement already satisfied: dirtyjson<2.0.0,>=1.0.8 in /usr/local/lib/python3.10/dist-packages (from llama-index-core<0.11.0,>=0.10.1->llama-index-multi-modal-llms-openai) (1.0.8)\n",
            "Requirement already satisfied: fsspec>=2023.5.0 in /usr/local/lib/python3.10/dist-packages (from llama-index-core<0.11.0,>=0.10.1->llama-index-multi-modal-llms-openai) (2023.6.0)\n",
            "Requirement already satisfied: httpx in /usr/local/lib/python3.10/dist-packages (from llama-index-core<0.11.0,>=0.10.1->llama-index-multi-modal-llms-openai) (0.27.0)\n",
            "Requirement already satisfied: llamaindex-py-client<0.2.0,>=0.1.18 in /usr/local/lib/python3.10/dist-packages (from llama-index-core<0.11.0,>=0.10.1->llama-index-multi-modal-llms-openai) (0.1.18)\n",
            "Requirement already satisfied: nest-asyncio<2.0.0,>=1.5.8 in /usr/local/lib/python3.10/dist-packages (from llama-index-core<0.11.0,>=0.10.1->llama-index-multi-modal-llms-openai) (1.6.0)\n",
            "Requirement already satisfied: networkx>=3.0 in /usr/local/lib/python3.10/dist-packages (from llama-index-core<0.11.0,>=0.10.1->llama-index-multi-modal-llms-openai) (3.3)\n",
            "Requirement already satisfied: nltk<4.0.0,>=3.8.1 in /usr/local/lib/python3.10/dist-packages (from llama-index-core<0.11.0,>=0.10.1->llama-index-multi-modal-llms-openai) (3.8.1)\n",
            "Requirement already satisfied: numpy in /usr/local/lib/python3.10/dist-packages (from llama-index-core<0.11.0,>=0.10.1->llama-index-multi-modal-llms-openai) (1.25.2)\n",
            "Requirement already satisfied: openai>=1.1.0 in /usr/local/lib/python3.10/dist-packages (from llama-index-core<0.11.0,>=0.10.1->llama-index-multi-modal-llms-openai) (1.17.1)\n",
            "Requirement already satisfied: pandas in /usr/local/lib/python3.10/dist-packages (from llama-index-core<0.11.0,>=0.10.1->llama-index-multi-modal-llms-openai) (2.0.3)\n",
            "Requirement already satisfied: pillow>=9.0.0 in /usr/local/lib/python3.10/dist-packages (from llama-index-core<0.11.0,>=0.10.1->llama-index-multi-modal-llms-openai) (9.4.0)\n",
            "Requirement already satisfied: requests>=2.31.0 in /usr/local/lib/python3.10/dist-packages (from llama-index-core<0.11.0,>=0.10.1->llama-index-multi-modal-llms-openai) (2.31.0)\n",
            "Requirement already satisfied: tenacity<9.0.0,>=8.2.0 in /usr/local/lib/python3.10/dist-packages (from llama-index-core<0.11.0,>=0.10.1->llama-index-multi-modal-llms-openai) (8.2.3)\n",
            "Requirement already satisfied: tiktoken>=0.3.3 in /usr/local/lib/python3.10/dist-packages (from llama-index-core<0.11.0,>=0.10.1->llama-index-multi-modal-llms-openai) (0.6.0)\n",
            "Requirement already satisfied: tqdm<5.0.0,>=4.66.1 in /usr/local/lib/python3.10/dist-packages (from llama-index-core<0.11.0,>=0.10.1->llama-index-multi-modal-llms-openai) (4.66.2)\n",
            "Requirement already satisfied: typing-extensions>=4.5.0 in /usr/local/lib/python3.10/dist-packages (from llama-index-core<0.11.0,>=0.10.1->llama-index-multi-modal-llms-openai) (4.11.0)\n",
            "Requirement already satisfied: typing-inspect>=0.8.0 in /usr/local/lib/python3.10/dist-packages (from llama-index-core<0.11.0,>=0.10.1->llama-index-multi-modal-llms-openai) (0.9.0)\n",
            "Requirement already satisfied: wrapt in /usr/local/lib/python3.10/dist-packages (from llama-index-core<0.11.0,>=0.10.1->llama-index-multi-modal-llms-openai) (1.14.1)\n",
            "Requirement already satisfied: aiosignal>=1.1.2 in /usr/local/lib/python3.10/dist-packages (from aiohttp<4.0.0,>=3.8.6->llama-index-core<0.11.0,>=0.10.1->llama-index-multi-modal-llms-openai) (1.3.1)\n",
            "Requirement already satisfied: attrs>=17.3.0 in /usr/local/lib/python3.10/dist-packages (from aiohttp<4.0.0,>=3.8.6->llama-index-core<0.11.0,>=0.10.1->llama-index-multi-modal-llms-openai) (23.2.0)\n",
            "Requirement already satisfied: frozenlist>=1.1.1 in /usr/local/lib/python3.10/dist-packages (from aiohttp<4.0.0,>=3.8.6->llama-index-core<0.11.0,>=0.10.1->llama-index-multi-modal-llms-openai) (1.4.1)\n",
            "Requirement already satisfied: multidict<7.0,>=4.5 in /usr/local/lib/python3.10/dist-packages (from aiohttp<4.0.0,>=3.8.6->llama-index-core<0.11.0,>=0.10.1->llama-index-multi-modal-llms-openai) (6.0.5)\n",
            "Requirement already satisfied: yarl<2.0,>=1.0 in /usr/local/lib/python3.10/dist-packages (from aiohttp<4.0.0,>=3.8.6->llama-index-core<0.11.0,>=0.10.1->llama-index-multi-modal-llms-openai) (1.9.4)\n",
            "Requirement already satisfied: async-timeout<5.0,>=4.0 in /usr/local/lib/python3.10/dist-packages (from aiohttp<4.0.0,>=3.8.6->llama-index-core<0.11.0,>=0.10.1->llama-index-multi-modal-llms-openai) (4.0.3)\n",
            "Requirement already satisfied: pydantic>=1.10 in /usr/local/lib/python3.10/dist-packages (from llamaindex-py-client<0.2.0,>=0.1.18->llama-index-core<0.11.0,>=0.10.1->llama-index-multi-modal-llms-openai) (2.6.4)\n",
            "Requirement already satisfied: anyio in /usr/local/lib/python3.10/dist-packages (from httpx->llama-index-core<0.11.0,>=0.10.1->llama-index-multi-modal-llms-openai) (3.7.1)\n",
            "Requirement already satisfied: certifi in /usr/local/lib/python3.10/dist-packages (from httpx->llama-index-core<0.11.0,>=0.10.1->llama-index-multi-modal-llms-openai) (2024.2.2)\n",
            "Requirement already satisfied: httpcore==1.* in /usr/local/lib/python3.10/dist-packages (from httpx->llama-index-core<0.11.0,>=0.10.1->llama-index-multi-modal-llms-openai) (1.0.5)\n",
            "Requirement already satisfied: idna in /usr/local/lib/python3.10/dist-packages (from httpx->llama-index-core<0.11.0,>=0.10.1->llama-index-multi-modal-llms-openai) (3.6)\n",
            "Requirement already satisfied: sniffio in /usr/local/lib/python3.10/dist-packages (from httpx->llama-index-core<0.11.0,>=0.10.1->llama-index-multi-modal-llms-openai) (1.3.1)\n",
            "Requirement already satisfied: h11<0.15,>=0.13 in /usr/local/lib/python3.10/dist-packages (from httpcore==1.*->httpx->llama-index-core<0.11.0,>=0.10.1->llama-index-multi-modal-llms-openai) (0.14.0)\n",
            "Requirement already satisfied: click in /usr/local/lib/python3.10/dist-packages (from nltk<4.0.0,>=3.8.1->llama-index-core<0.11.0,>=0.10.1->llama-index-multi-modal-llms-openai) (8.1.7)\n",
            "Requirement already satisfied: joblib in /usr/local/lib/python3.10/dist-packages (from nltk<4.0.0,>=3.8.1->llama-index-core<0.11.0,>=0.10.1->llama-index-multi-modal-llms-openai) (1.4.0)\n",
            "Requirement already satisfied: regex>=2021.8.3 in /usr/local/lib/python3.10/dist-packages (from nltk<4.0.0,>=3.8.1->llama-index-core<0.11.0,>=0.10.1->llama-index-multi-modal-llms-openai) (2023.12.25)\n",
            "Requirement already satisfied: distro<2,>=1.7.0 in /usr/lib/python3/dist-packages (from openai>=1.1.0->llama-index-core<0.11.0,>=0.10.1->llama-index-multi-modal-llms-openai) (1.7.0)\n",
            "Requirement already satisfied: charset-normalizer<4,>=2 in /usr/local/lib/python3.10/dist-packages (from requests>=2.31.0->llama-index-core<0.11.0,>=0.10.1->llama-index-multi-modal-llms-openai) (3.3.2)\n",
            "Requirement already satisfied: urllib3<3,>=1.21.1 in /usr/local/lib/python3.10/dist-packages (from requests>=2.31.0->llama-index-core<0.11.0,>=0.10.1->llama-index-multi-modal-llms-openai) (2.0.7)\n",
            "Requirement already satisfied: greenlet!=0.4.17 in /usr/local/lib/python3.10/dist-packages (from SQLAlchemy[asyncio]>=1.4.49->llama-index-core<0.11.0,>=0.10.1->llama-index-multi-modal-llms-openai) (3.0.3)\n",
            "Requirement already satisfied: mypy-extensions>=0.3.0 in /usr/local/lib/python3.10/dist-packages (from typing-inspect>=0.8.0->llama-index-core<0.11.0,>=0.10.1->llama-index-multi-modal-llms-openai) (1.0.0)\n",
            "Requirement already satisfied: marshmallow<4.0.0,>=3.18.0 in /usr/local/lib/python3.10/dist-packages (from dataclasses-json->llama-index-core<0.11.0,>=0.10.1->llama-index-multi-modal-llms-openai) (3.21.1)\n",
            "Requirement already satisfied: python-dateutil>=2.8.2 in /usr/local/lib/python3.10/dist-packages (from pandas->llama-index-core<0.11.0,>=0.10.1->llama-index-multi-modal-llms-openai) (2.8.2)\n",
            "Requirement already satisfied: pytz>=2020.1 in /usr/local/lib/python3.10/dist-packages (from pandas->llama-index-core<0.11.0,>=0.10.1->llama-index-multi-modal-llms-openai) (2023.4)\n",
            "Requirement already satisfied: tzdata>=2022.1 in /usr/local/lib/python3.10/dist-packages (from pandas->llama-index-core<0.11.0,>=0.10.1->llama-index-multi-modal-llms-openai) (2024.1)\n",
            "Requirement already satisfied: exceptiongroup in /usr/local/lib/python3.10/dist-packages (from anyio->httpx->llama-index-core<0.11.0,>=0.10.1->llama-index-multi-modal-llms-openai) (1.2.0)\n",
            "Requirement already satisfied: packaging>=17.0 in /usr/local/lib/python3.10/dist-packages (from marshmallow<4.0.0,>=3.18.0->dataclasses-json->llama-index-core<0.11.0,>=0.10.1->llama-index-multi-modal-llms-openai) (24.0)\n",
            "Requirement already satisfied: annotated-types>=0.4.0 in /usr/local/lib/python3.10/dist-packages (from pydantic>=1.10->llamaindex-py-client<0.2.0,>=0.1.18->llama-index-core<0.11.0,>=0.10.1->llama-index-multi-modal-llms-openai) (0.6.0)\n",
            "Requirement already satisfied: pydantic-core==2.16.3 in /usr/local/lib/python3.10/dist-packages (from pydantic>=1.10->llamaindex-py-client<0.2.0,>=0.1.18->llama-index-core<0.11.0,>=0.10.1->llama-index-multi-modal-llms-openai) (2.16.3)\n",
            "Requirement already satisfied: six>=1.5 in /usr/local/lib/python3.10/dist-packages (from python-dateutil>=2.8.2->pandas->llama-index-core<0.11.0,>=0.10.1->llama-index-multi-modal-llms-openai) (1.16.0)\n",
            "Installing collected packages: llama-index-llms-openai, llama-index-multi-modal-llms-openai\n",
            "Successfully installed llama-index-llms-openai-0.1.15 llama-index-multi-modal-llms-openai-0.1.5\n"
          ]
        }
      ],
      "source": [
        "%pip install llama-index-vector-stores-lancedb\n",
        "%pip install llama-index-multi-modal-llms-openai"
      ]
    },
    {
      "cell_type": "code",
      "source": [
        "#%pip install llama-index-multi-modal-llms-openai\n",
        "#%pip install llama-index-vector-stores-lancedb\n",
        "%pip install llama-index-embeddings-clip"
      ],
      "metadata": {
        "colab": {
          "base_uri": "https://localhost:8080/",
          "height": 1000
        },
        "id": "R6wIq_e8AXua",
        "outputId": "a9ac875b-8287-4227-b644-191fadfa8c96"
      },
      "execution_count": null,
      "outputs": [
        {
          "output_type": "stream",
          "name": "stdout",
          "text": [
            "Collecting llama-index-embeddings-clip\n",
            "  Downloading llama_index_embeddings_clip-0.1.5-py3-none-any.whl (3.2 kB)\n",
            "Collecting ftfy<7.0.0,>=6.1.3 (from llama-index-embeddings-clip)\n",
            "  Downloading ftfy-6.2.0-py3-none-any.whl (54 kB)\n",
            "\u001b[2K     \u001b[90m━━━━━━━━━━━━━━━━━━━━━━━━━━━━━━━━━━━━━━━━\u001b[0m \u001b[32m54.4/54.4 kB\u001b[0m \u001b[31m2.7 MB/s\u001b[0m eta \u001b[36m0:00:00\u001b[0m\n",
            "\u001b[?25hRequirement already satisfied: llama-index-core<0.11.0,>=0.10.1 in /usr/local/lib/python3.10/dist-packages (from llama-index-embeddings-clip) (0.10.29)\n",
            "Collecting pillow<11.0.0,>=10.2.0 (from llama-index-embeddings-clip)\n",
            "  Downloading pillow-10.3.0-cp310-cp310-manylinux_2_28_x86_64.whl (4.5 MB)\n",
            "\u001b[2K     \u001b[90m━━━━━━━━━━━━━━━━━━━━━━━━━━━━━━━━━━━━━━━━\u001b[0m \u001b[32m4.5/4.5 MB\u001b[0m \u001b[31m21.1 MB/s\u001b[0m eta \u001b[36m0:00:00\u001b[0m\n",
            "\u001b[?25hRequirement already satisfied: torch<3.0.0,>=2.1.2 in /usr/local/lib/python3.10/dist-packages (from llama-index-embeddings-clip) (2.2.1+cu121)\n",
            "Requirement already satisfied: torchvision<0.18.0,>=0.17.0 in /usr/local/lib/python3.10/dist-packages (from llama-index-embeddings-clip) (0.17.1+cu121)\n",
            "Requirement already satisfied: wcwidth<0.3.0,>=0.2.12 in /usr/local/lib/python3.10/dist-packages (from ftfy<7.0.0,>=6.1.3->llama-index-embeddings-clip) (0.2.13)\n",
            "Requirement already satisfied: PyYAML>=6.0.1 in /usr/local/lib/python3.10/dist-packages (from llama-index-core<0.11.0,>=0.10.1->llama-index-embeddings-clip) (6.0.1)\n",
            "Requirement already satisfied: SQLAlchemy[asyncio]>=1.4.49 in /usr/local/lib/python3.10/dist-packages (from llama-index-core<0.11.0,>=0.10.1->llama-index-embeddings-clip) (2.0.29)\n",
            "Requirement already satisfied: aiohttp<4.0.0,>=3.8.6 in /usr/local/lib/python3.10/dist-packages (from llama-index-core<0.11.0,>=0.10.1->llama-index-embeddings-clip) (3.9.3)\n",
            "Requirement already satisfied: dataclasses-json in /usr/local/lib/python3.10/dist-packages (from llama-index-core<0.11.0,>=0.10.1->llama-index-embeddings-clip) (0.6.4)\n",
            "Requirement already satisfied: deprecated>=1.2.9.3 in /usr/local/lib/python3.10/dist-packages (from llama-index-core<0.11.0,>=0.10.1->llama-index-embeddings-clip) (1.2.14)\n",
            "Requirement already satisfied: dirtyjson<2.0.0,>=1.0.8 in /usr/local/lib/python3.10/dist-packages (from llama-index-core<0.11.0,>=0.10.1->llama-index-embeddings-clip) (1.0.8)\n",
            "Requirement already satisfied: fsspec>=2023.5.0 in /usr/local/lib/python3.10/dist-packages (from llama-index-core<0.11.0,>=0.10.1->llama-index-embeddings-clip) (2023.6.0)\n",
            "Requirement already satisfied: httpx in /usr/local/lib/python3.10/dist-packages (from llama-index-core<0.11.0,>=0.10.1->llama-index-embeddings-clip) (0.27.0)\n",
            "Requirement already satisfied: llamaindex-py-client<0.2.0,>=0.1.18 in /usr/local/lib/python3.10/dist-packages (from llama-index-core<0.11.0,>=0.10.1->llama-index-embeddings-clip) (0.1.18)\n",
            "Requirement already satisfied: nest-asyncio<2.0.0,>=1.5.8 in /usr/local/lib/python3.10/dist-packages (from llama-index-core<0.11.0,>=0.10.1->llama-index-embeddings-clip) (1.6.0)\n",
            "Requirement already satisfied: networkx>=3.0 in /usr/local/lib/python3.10/dist-packages (from llama-index-core<0.11.0,>=0.10.1->llama-index-embeddings-clip) (3.3)\n",
            "Requirement already satisfied: nltk<4.0.0,>=3.8.1 in /usr/local/lib/python3.10/dist-packages (from llama-index-core<0.11.0,>=0.10.1->llama-index-embeddings-clip) (3.8.1)\n",
            "Requirement already satisfied: numpy in /usr/local/lib/python3.10/dist-packages (from llama-index-core<0.11.0,>=0.10.1->llama-index-embeddings-clip) (1.25.2)\n",
            "Requirement already satisfied: openai>=1.1.0 in /usr/local/lib/python3.10/dist-packages (from llama-index-core<0.11.0,>=0.10.1->llama-index-embeddings-clip) (1.17.1)\n",
            "Requirement already satisfied: pandas in /usr/local/lib/python3.10/dist-packages (from llama-index-core<0.11.0,>=0.10.1->llama-index-embeddings-clip) (2.0.3)\n",
            "Requirement already satisfied: requests>=2.31.0 in /usr/local/lib/python3.10/dist-packages (from llama-index-core<0.11.0,>=0.10.1->llama-index-embeddings-clip) (2.31.0)\n",
            "Requirement already satisfied: tenacity<9.0.0,>=8.2.0 in /usr/local/lib/python3.10/dist-packages (from llama-index-core<0.11.0,>=0.10.1->llama-index-embeddings-clip) (8.2.3)\n",
            "Requirement already satisfied: tiktoken>=0.3.3 in /usr/local/lib/python3.10/dist-packages (from llama-index-core<0.11.0,>=0.10.1->llama-index-embeddings-clip) (0.6.0)\n",
            "Requirement already satisfied: tqdm<5.0.0,>=4.66.1 in /usr/local/lib/python3.10/dist-packages (from llama-index-core<0.11.0,>=0.10.1->llama-index-embeddings-clip) (4.66.2)\n",
            "Requirement already satisfied: typing-extensions>=4.5.0 in /usr/local/lib/python3.10/dist-packages (from llama-index-core<0.11.0,>=0.10.1->llama-index-embeddings-clip) (4.11.0)\n",
            "Requirement already satisfied: typing-inspect>=0.8.0 in /usr/local/lib/python3.10/dist-packages (from llama-index-core<0.11.0,>=0.10.1->llama-index-embeddings-clip) (0.9.0)\n",
            "Requirement already satisfied: wrapt in /usr/local/lib/python3.10/dist-packages (from llama-index-core<0.11.0,>=0.10.1->llama-index-embeddings-clip) (1.14.1)\n",
            "Requirement already satisfied: filelock in /usr/local/lib/python3.10/dist-packages (from torch<3.0.0,>=2.1.2->llama-index-embeddings-clip) (3.13.4)\n",
            "Requirement already satisfied: sympy in /usr/local/lib/python3.10/dist-packages (from torch<3.0.0,>=2.1.2->llama-index-embeddings-clip) (1.12)\n",
            "Requirement already satisfied: jinja2 in /usr/local/lib/python3.10/dist-packages (from torch<3.0.0,>=2.1.2->llama-index-embeddings-clip) (3.1.3)\n",
            "Collecting nvidia-cuda-nvrtc-cu12==12.1.105 (from torch<3.0.0,>=2.1.2->llama-index-embeddings-clip)\n",
            "  Using cached nvidia_cuda_nvrtc_cu12-12.1.105-py3-none-manylinux1_x86_64.whl (23.7 MB)\n",
            "Collecting nvidia-cuda-runtime-cu12==12.1.105 (from torch<3.0.0,>=2.1.2->llama-index-embeddings-clip)\n",
            "  Using cached nvidia_cuda_runtime_cu12-12.1.105-py3-none-manylinux1_x86_64.whl (823 kB)\n",
            "Collecting nvidia-cuda-cupti-cu12==12.1.105 (from torch<3.0.0,>=2.1.2->llama-index-embeddings-clip)\n",
            "  Using cached nvidia_cuda_cupti_cu12-12.1.105-py3-none-manylinux1_x86_64.whl (14.1 MB)\n",
            "Collecting nvidia-cudnn-cu12==8.9.2.26 (from torch<3.0.0,>=2.1.2->llama-index-embeddings-clip)\n",
            "  Using cached nvidia_cudnn_cu12-8.9.2.26-py3-none-manylinux1_x86_64.whl (731.7 MB)\n",
            "Collecting nvidia-cublas-cu12==12.1.3.1 (from torch<3.0.0,>=2.1.2->llama-index-embeddings-clip)\n",
            "  Using cached nvidia_cublas_cu12-12.1.3.1-py3-none-manylinux1_x86_64.whl (410.6 MB)\n",
            "Collecting nvidia-cufft-cu12==11.0.2.54 (from torch<3.0.0,>=2.1.2->llama-index-embeddings-clip)\n",
            "  Using cached nvidia_cufft_cu12-11.0.2.54-py3-none-manylinux1_x86_64.whl (121.6 MB)\n",
            "Collecting nvidia-curand-cu12==10.3.2.106 (from torch<3.0.0,>=2.1.2->llama-index-embeddings-clip)\n",
            "  Using cached nvidia_curand_cu12-10.3.2.106-py3-none-manylinux1_x86_64.whl (56.5 MB)\n",
            "Collecting nvidia-cusolver-cu12==11.4.5.107 (from torch<3.0.0,>=2.1.2->llama-index-embeddings-clip)\n",
            "  Using cached nvidia_cusolver_cu12-11.4.5.107-py3-none-manylinux1_x86_64.whl (124.2 MB)\n",
            "Collecting nvidia-cusparse-cu12==12.1.0.106 (from torch<3.0.0,>=2.1.2->llama-index-embeddings-clip)\n",
            "  Using cached nvidia_cusparse_cu12-12.1.0.106-py3-none-manylinux1_x86_64.whl (196.0 MB)\n",
            "Collecting nvidia-nccl-cu12==2.19.3 (from torch<3.0.0,>=2.1.2->llama-index-embeddings-clip)\n",
            "  Using cached nvidia_nccl_cu12-2.19.3-py3-none-manylinux1_x86_64.whl (166.0 MB)\n",
            "Collecting nvidia-nvtx-cu12==12.1.105 (from torch<3.0.0,>=2.1.2->llama-index-embeddings-clip)\n",
            "  Using cached nvidia_nvtx_cu12-12.1.105-py3-none-manylinux1_x86_64.whl (99 kB)\n",
            "Requirement already satisfied: triton==2.2.0 in /usr/local/lib/python3.10/dist-packages (from torch<3.0.0,>=2.1.2->llama-index-embeddings-clip) (2.2.0)\n",
            "Collecting nvidia-nvjitlink-cu12 (from nvidia-cusolver-cu12==11.4.5.107->torch<3.0.0,>=2.1.2->llama-index-embeddings-clip)\n",
            "  Using cached nvidia_nvjitlink_cu12-12.4.127-py3-none-manylinux2014_x86_64.whl (21.1 MB)\n",
            "Requirement already satisfied: aiosignal>=1.1.2 in /usr/local/lib/python3.10/dist-packages (from aiohttp<4.0.0,>=3.8.6->llama-index-core<0.11.0,>=0.10.1->llama-index-embeddings-clip) (1.3.1)\n",
            "Requirement already satisfied: attrs>=17.3.0 in /usr/local/lib/python3.10/dist-packages (from aiohttp<4.0.0,>=3.8.6->llama-index-core<0.11.0,>=0.10.1->llama-index-embeddings-clip) (23.2.0)\n",
            "Requirement already satisfied: frozenlist>=1.1.1 in /usr/local/lib/python3.10/dist-packages (from aiohttp<4.0.0,>=3.8.6->llama-index-core<0.11.0,>=0.10.1->llama-index-embeddings-clip) (1.4.1)\n",
            "Requirement already satisfied: multidict<7.0,>=4.5 in /usr/local/lib/python3.10/dist-packages (from aiohttp<4.0.0,>=3.8.6->llama-index-core<0.11.0,>=0.10.1->llama-index-embeddings-clip) (6.0.5)\n",
            "Requirement already satisfied: yarl<2.0,>=1.0 in /usr/local/lib/python3.10/dist-packages (from aiohttp<4.0.0,>=3.8.6->llama-index-core<0.11.0,>=0.10.1->llama-index-embeddings-clip) (1.9.4)\n",
            "Requirement already satisfied: async-timeout<5.0,>=4.0 in /usr/local/lib/python3.10/dist-packages (from aiohttp<4.0.0,>=3.8.6->llama-index-core<0.11.0,>=0.10.1->llama-index-embeddings-clip) (4.0.3)\n",
            "Requirement already satisfied: pydantic>=1.10 in /usr/local/lib/python3.10/dist-packages (from llamaindex-py-client<0.2.0,>=0.1.18->llama-index-core<0.11.0,>=0.10.1->llama-index-embeddings-clip) (2.6.4)\n",
            "Requirement already satisfied: anyio in /usr/local/lib/python3.10/dist-packages (from httpx->llama-index-core<0.11.0,>=0.10.1->llama-index-embeddings-clip) (3.7.1)\n",
            "Requirement already satisfied: certifi in /usr/local/lib/python3.10/dist-packages (from httpx->llama-index-core<0.11.0,>=0.10.1->llama-index-embeddings-clip) (2024.2.2)\n",
            "Requirement already satisfied: httpcore==1.* in /usr/local/lib/python3.10/dist-packages (from httpx->llama-index-core<0.11.0,>=0.10.1->llama-index-embeddings-clip) (1.0.5)\n",
            "Requirement already satisfied: idna in /usr/local/lib/python3.10/dist-packages (from httpx->llama-index-core<0.11.0,>=0.10.1->llama-index-embeddings-clip) (3.6)\n",
            "Requirement already satisfied: sniffio in /usr/local/lib/python3.10/dist-packages (from httpx->llama-index-core<0.11.0,>=0.10.1->llama-index-embeddings-clip) (1.3.1)\n",
            "Requirement already satisfied: h11<0.15,>=0.13 in /usr/local/lib/python3.10/dist-packages (from httpcore==1.*->httpx->llama-index-core<0.11.0,>=0.10.1->llama-index-embeddings-clip) (0.14.0)\n",
            "Requirement already satisfied: click in /usr/local/lib/python3.10/dist-packages (from nltk<4.0.0,>=3.8.1->llama-index-core<0.11.0,>=0.10.1->llama-index-embeddings-clip) (8.1.7)\n",
            "Requirement already satisfied: joblib in /usr/local/lib/python3.10/dist-packages (from nltk<4.0.0,>=3.8.1->llama-index-core<0.11.0,>=0.10.1->llama-index-embeddings-clip) (1.4.0)\n",
            "Requirement already satisfied: regex>=2021.8.3 in /usr/local/lib/python3.10/dist-packages (from nltk<4.0.0,>=3.8.1->llama-index-core<0.11.0,>=0.10.1->llama-index-embeddings-clip) (2023.12.25)\n",
            "Requirement already satisfied: distro<2,>=1.7.0 in /usr/lib/python3/dist-packages (from openai>=1.1.0->llama-index-core<0.11.0,>=0.10.1->llama-index-embeddings-clip) (1.7.0)\n",
            "Requirement already satisfied: charset-normalizer<4,>=2 in /usr/local/lib/python3.10/dist-packages (from requests>=2.31.0->llama-index-core<0.11.0,>=0.10.1->llama-index-embeddings-clip) (3.3.2)\n",
            "Requirement already satisfied: urllib3<3,>=1.21.1 in /usr/local/lib/python3.10/dist-packages (from requests>=2.31.0->llama-index-core<0.11.0,>=0.10.1->llama-index-embeddings-clip) (2.0.7)\n",
            "Requirement already satisfied: greenlet!=0.4.17 in /usr/local/lib/python3.10/dist-packages (from SQLAlchemy[asyncio]>=1.4.49->llama-index-core<0.11.0,>=0.10.1->llama-index-embeddings-clip) (3.0.3)\n",
            "Requirement already satisfied: mypy-extensions>=0.3.0 in /usr/local/lib/python3.10/dist-packages (from typing-inspect>=0.8.0->llama-index-core<0.11.0,>=0.10.1->llama-index-embeddings-clip) (1.0.0)\n",
            "Requirement already satisfied: marshmallow<4.0.0,>=3.18.0 in /usr/local/lib/python3.10/dist-packages (from dataclasses-json->llama-index-core<0.11.0,>=0.10.1->llama-index-embeddings-clip) (3.21.1)\n",
            "Requirement already satisfied: MarkupSafe>=2.0 in /usr/local/lib/python3.10/dist-packages (from jinja2->torch<3.0.0,>=2.1.2->llama-index-embeddings-clip) (2.1.5)\n",
            "Requirement already satisfied: python-dateutil>=2.8.2 in /usr/local/lib/python3.10/dist-packages (from pandas->llama-index-core<0.11.0,>=0.10.1->llama-index-embeddings-clip) (2.8.2)\n",
            "Requirement already satisfied: pytz>=2020.1 in /usr/local/lib/python3.10/dist-packages (from pandas->llama-index-core<0.11.0,>=0.10.1->llama-index-embeddings-clip) (2023.4)\n",
            "Requirement already satisfied: tzdata>=2022.1 in /usr/local/lib/python3.10/dist-packages (from pandas->llama-index-core<0.11.0,>=0.10.1->llama-index-embeddings-clip) (2024.1)\n",
            "Requirement already satisfied: mpmath>=0.19 in /usr/local/lib/python3.10/dist-packages (from sympy->torch<3.0.0,>=2.1.2->llama-index-embeddings-clip) (1.3.0)\n",
            "Requirement already satisfied: exceptiongroup in /usr/local/lib/python3.10/dist-packages (from anyio->httpx->llama-index-core<0.11.0,>=0.10.1->llama-index-embeddings-clip) (1.2.0)\n",
            "Requirement already satisfied: packaging>=17.0 in /usr/local/lib/python3.10/dist-packages (from marshmallow<4.0.0,>=3.18.0->dataclasses-json->llama-index-core<0.11.0,>=0.10.1->llama-index-embeddings-clip) (24.0)\n",
            "Requirement already satisfied: annotated-types>=0.4.0 in /usr/local/lib/python3.10/dist-packages (from pydantic>=1.10->llamaindex-py-client<0.2.0,>=0.1.18->llama-index-core<0.11.0,>=0.10.1->llama-index-embeddings-clip) (0.6.0)\n",
            "Requirement already satisfied: pydantic-core==2.16.3 in /usr/local/lib/python3.10/dist-packages (from pydantic>=1.10->llamaindex-py-client<0.2.0,>=0.1.18->llama-index-core<0.11.0,>=0.10.1->llama-index-embeddings-clip) (2.16.3)\n",
            "Requirement already satisfied: six>=1.5 in /usr/local/lib/python3.10/dist-packages (from python-dateutil>=2.8.2->pandas->llama-index-core<0.11.0,>=0.10.1->llama-index-embeddings-clip) (1.16.0)\n",
            "Installing collected packages: pillow, nvidia-nvtx-cu12, nvidia-nvjitlink-cu12, nvidia-nccl-cu12, nvidia-curand-cu12, nvidia-cufft-cu12, nvidia-cuda-runtime-cu12, nvidia-cuda-nvrtc-cu12, nvidia-cuda-cupti-cu12, nvidia-cublas-cu12, ftfy, nvidia-cusparse-cu12, nvidia-cudnn-cu12, nvidia-cusolver-cu12, llama-index-embeddings-clip\n",
            "  Attempting uninstall: pillow\n",
            "    Found existing installation: Pillow 9.4.0\n",
            "    Uninstalling Pillow-9.4.0:\n",
            "      Successfully uninstalled Pillow-9.4.0\n",
            "\u001b[31mERROR: pip's dependency resolver does not currently take into account all the packages that are installed. This behaviour is the source of the following dependency conflicts.\n",
            "imageio 2.31.6 requires pillow<10.1.0,>=8.3.2, but you have pillow 10.3.0 which is incompatible.\u001b[0m\u001b[31m\n",
            "\u001b[0mSuccessfully installed ftfy-6.2.0 llama-index-embeddings-clip-0.1.5 nvidia-cublas-cu12-12.1.3.1 nvidia-cuda-cupti-cu12-12.1.105 nvidia-cuda-nvrtc-cu12-12.1.105 nvidia-cuda-runtime-cu12-12.1.105 nvidia-cudnn-cu12-8.9.2.26 nvidia-cufft-cu12-11.0.2.54 nvidia-curand-cu12-10.3.2.106 nvidia-cusolver-cu12-11.4.5.107 nvidia-cusparse-cu12-12.1.0.106 nvidia-nccl-cu12-2.19.3 nvidia-nvjitlink-cu12-12.4.127 nvidia-nvtx-cu12-12.1.105 pillow-10.3.0\n"
          ]
        },
        {
          "output_type": "display_data",
          "data": {
            "application/vnd.colab-display-data+json": {
              "pip_warning": {
                "packages": [
                  "PIL"
                ]
              },
              "id": "403973b3056d45c79e9eba2a3b68c189"
            }
          },
          "metadata": {}
        }
      ]
    },
    {
      "cell_type": "code",
      "source": [
        "%pip install llama_index ftfy regex tqdm\n",
        "%pip install -U openai-whisper\n",
        "%pip install git+https://github.com/openai/CLIP.git\n",
        "%pip install torch torchvision\n",
        "%pip install matplotlib scikit-image\n",
        "%pip install lancedb\n",
        "%pip install moviepy\n",
        "%pip install pytube\n",
        "%pip install pydub\n",
        "%pip install SpeechRecognition\n",
        "%pip install ffmpeg-python\n",
        "%pip install soundfile"
      ],
      "metadata": {
        "colab": {
          "base_uri": "https://localhost:8080/",
          "height": 1000
        },
        "id": "NwSkX7yVA7D9",
        "outputId": "0c1b6108-52c8-49c5-d683-34ea6fa21da6"
      },
      "execution_count": null,
      "outputs": [
        {
          "output_type": "stream",
          "name": "stdout",
          "text": [
            "Collecting llama_index\n",
            "  Downloading llama_index-0.10.28-py3-none-any.whl (6.9 kB)\n",
            "Requirement already satisfied: ftfy in /usr/local/lib/python3.10/dist-packages (6.2.0)\n",
            "Requirement already satisfied: regex in /usr/local/lib/python3.10/dist-packages (2023.12.25)\n",
            "Requirement already satisfied: tqdm in /usr/local/lib/python3.10/dist-packages (4.66.2)\n",
            "Collecting llama-index-agent-openai<0.3.0,>=0.1.4 (from llama_index)\n",
            "  Downloading llama_index_agent_openai-0.2.2-py3-none-any.whl (12 kB)\n",
            "Collecting llama-index-cli<0.2.0,>=0.1.2 (from llama_index)\n",
            "  Downloading llama_index_cli-0.1.11-py3-none-any.whl (26 kB)\n",
            "Requirement already satisfied: llama-index-core<0.11.0,>=0.10.28 in /usr/local/lib/python3.10/dist-packages (from llama_index) (0.10.29)\n",
            "Collecting llama-index-embeddings-openai<0.2.0,>=0.1.5 (from llama_index)\n",
            "  Downloading llama_index_embeddings_openai-0.1.7-py3-none-any.whl (6.0 kB)\n",
            "Collecting llama-index-indices-managed-llama-cloud<0.2.0,>=0.1.2 (from llama_index)\n",
            "  Downloading llama_index_indices_managed_llama_cloud-0.1.5-py3-none-any.whl (6.7 kB)\n",
            "Collecting llama-index-legacy<0.10.0,>=0.9.48 (from llama_index)\n",
            "  Downloading llama_index_legacy-0.9.48-py3-none-any.whl (2.0 MB)\n",
            "\u001b[2K     \u001b[90m━━━━━━━━━━━━━━━━━━━━━━━━━━━━━━━━━━━━━━━━\u001b[0m \u001b[32m2.0/2.0 MB\u001b[0m \u001b[31m41.6 MB/s\u001b[0m eta \u001b[36m0:00:00\u001b[0m\n",
            "\u001b[?25hRequirement already satisfied: llama-index-llms-openai<0.2.0,>=0.1.13 in /usr/local/lib/python3.10/dist-packages (from llama_index) (0.1.15)\n",
            "Requirement already satisfied: llama-index-multi-modal-llms-openai<0.2.0,>=0.1.3 in /usr/local/lib/python3.10/dist-packages (from llama_index) (0.1.5)\n",
            "Collecting llama-index-program-openai<0.2.0,>=0.1.3 (from llama_index)\n",
            "  Downloading llama_index_program_openai-0.1.5-py3-none-any.whl (4.1 kB)\n",
            "Collecting llama-index-question-gen-openai<0.2.0,>=0.1.2 (from llama_index)\n",
            "  Downloading llama_index_question_gen_openai-0.1.3-py3-none-any.whl (2.9 kB)\n",
            "Collecting llama-index-readers-file<0.2.0,>=0.1.4 (from llama_index)\n",
            "  Downloading llama_index_readers_file-0.1.17-py3-none-any.whl (36 kB)\n",
            "Collecting llama-index-readers-llama-parse<0.2.0,>=0.1.2 (from llama_index)\n",
            "  Downloading llama_index_readers_llama_parse-0.1.4-py3-none-any.whl (2.5 kB)\n",
            "Requirement already satisfied: wcwidth<0.3.0,>=0.2.12 in /usr/local/lib/python3.10/dist-packages (from ftfy) (0.2.13)\n",
            "Requirement already satisfied: openai>=1.14.0 in /usr/local/lib/python3.10/dist-packages (from llama-index-agent-openai<0.3.0,>=0.1.4->llama_index) (1.17.1)\n",
            "Requirement already satisfied: PyYAML>=6.0.1 in /usr/local/lib/python3.10/dist-packages (from llama-index-core<0.11.0,>=0.10.28->llama_index) (6.0.1)\n",
            "Requirement already satisfied: SQLAlchemy[asyncio]>=1.4.49 in /usr/local/lib/python3.10/dist-packages (from llama-index-core<0.11.0,>=0.10.28->llama_index) (2.0.29)\n",
            "Requirement already satisfied: aiohttp<4.0.0,>=3.8.6 in /usr/local/lib/python3.10/dist-packages (from llama-index-core<0.11.0,>=0.10.28->llama_index) (3.9.3)\n",
            "Requirement already satisfied: dataclasses-json in /usr/local/lib/python3.10/dist-packages (from llama-index-core<0.11.0,>=0.10.28->llama_index) (0.6.4)\n",
            "Requirement already satisfied: deprecated>=1.2.9.3 in /usr/local/lib/python3.10/dist-packages (from llama-index-core<0.11.0,>=0.10.28->llama_index) (1.2.14)\n",
            "Requirement already satisfied: dirtyjson<2.0.0,>=1.0.8 in /usr/local/lib/python3.10/dist-packages (from llama-index-core<0.11.0,>=0.10.28->llama_index) (1.0.8)\n",
            "Requirement already satisfied: fsspec>=2023.5.0 in /usr/local/lib/python3.10/dist-packages (from llama-index-core<0.11.0,>=0.10.28->llama_index) (2023.6.0)\n",
            "Requirement already satisfied: httpx in /usr/local/lib/python3.10/dist-packages (from llama-index-core<0.11.0,>=0.10.28->llama_index) (0.27.0)\n",
            "Requirement already satisfied: llamaindex-py-client<0.2.0,>=0.1.18 in /usr/local/lib/python3.10/dist-packages (from llama-index-core<0.11.0,>=0.10.28->llama_index) (0.1.18)\n",
            "Requirement already satisfied: nest-asyncio<2.0.0,>=1.5.8 in /usr/local/lib/python3.10/dist-packages (from llama-index-core<0.11.0,>=0.10.28->llama_index) (1.6.0)\n",
            "Requirement already satisfied: networkx>=3.0 in /usr/local/lib/python3.10/dist-packages (from llama-index-core<0.11.0,>=0.10.28->llama_index) (3.3)\n",
            "Requirement already satisfied: nltk<4.0.0,>=3.8.1 in /usr/local/lib/python3.10/dist-packages (from llama-index-core<0.11.0,>=0.10.28->llama_index) (3.8.1)\n",
            "Requirement already satisfied: numpy in /usr/local/lib/python3.10/dist-packages (from llama-index-core<0.11.0,>=0.10.28->llama_index) (1.25.2)\n",
            "Requirement already satisfied: pandas in /usr/local/lib/python3.10/dist-packages (from llama-index-core<0.11.0,>=0.10.28->llama_index) (2.0.3)\n",
            "Requirement already satisfied: pillow>=9.0.0 in /usr/local/lib/python3.10/dist-packages (from llama-index-core<0.11.0,>=0.10.28->llama_index) (10.3.0)\n",
            "Requirement already satisfied: requests>=2.31.0 in /usr/local/lib/python3.10/dist-packages (from llama-index-core<0.11.0,>=0.10.28->llama_index) (2.31.0)\n",
            "Requirement already satisfied: tenacity<9.0.0,>=8.2.0 in /usr/local/lib/python3.10/dist-packages (from llama-index-core<0.11.0,>=0.10.28->llama_index) (8.2.3)\n",
            "Requirement already satisfied: tiktoken>=0.3.3 in /usr/local/lib/python3.10/dist-packages (from llama-index-core<0.11.0,>=0.10.28->llama_index) (0.6.0)\n",
            "Requirement already satisfied: typing-extensions>=4.5.0 in /usr/local/lib/python3.10/dist-packages (from llama-index-core<0.11.0,>=0.10.28->llama_index) (4.11.0)\n",
            "Requirement already satisfied: typing-inspect>=0.8.0 in /usr/local/lib/python3.10/dist-packages (from llama-index-core<0.11.0,>=0.10.28->llama_index) (0.9.0)\n",
            "Requirement already satisfied: wrapt in /usr/local/lib/python3.10/dist-packages (from llama-index-core<0.11.0,>=0.10.28->llama_index) (1.14.1)\n",
            "Requirement already satisfied: beautifulsoup4<5.0.0,>=4.12.3 in /usr/local/lib/python3.10/dist-packages (from llama-index-readers-file<0.2.0,>=0.1.4->llama_index) (4.12.3)\n",
            "Collecting pypdf<5.0.0,>=4.0.1 (from llama-index-readers-file<0.2.0,>=0.1.4->llama_index)\n",
            "  Downloading pypdf-4.2.0-py3-none-any.whl (290 kB)\n",
            "\u001b[2K     \u001b[90m━━━━━━━━━━━━━━━━━━━━━━━━━━━━━━━━━━━━━━━━\u001b[0m \u001b[32m290.4/290.4 kB\u001b[0m \u001b[31m31.0 MB/s\u001b[0m eta \u001b[36m0:00:00\u001b[0m\n",
            "\u001b[?25hCollecting striprtf<0.0.27,>=0.0.26 (from llama-index-readers-file<0.2.0,>=0.1.4->llama_index)\n",
            "  Downloading striprtf-0.0.26-py3-none-any.whl (6.9 kB)\n",
            "Collecting llama-parse<0.5.0,>=0.4.0 (from llama-index-readers-llama-parse<0.2.0,>=0.1.2->llama_index)\n",
            "  Downloading llama_parse-0.4.0-py3-none-any.whl (7.0 kB)\n",
            "Requirement already satisfied: aiosignal>=1.1.2 in /usr/local/lib/python3.10/dist-packages (from aiohttp<4.0.0,>=3.8.6->llama-index-core<0.11.0,>=0.10.28->llama_index) (1.3.1)\n",
            "Requirement already satisfied: attrs>=17.3.0 in /usr/local/lib/python3.10/dist-packages (from aiohttp<4.0.0,>=3.8.6->llama-index-core<0.11.0,>=0.10.28->llama_index) (23.2.0)\n",
            "Requirement already satisfied: frozenlist>=1.1.1 in /usr/local/lib/python3.10/dist-packages (from aiohttp<4.0.0,>=3.8.6->llama-index-core<0.11.0,>=0.10.28->llama_index) (1.4.1)\n",
            "Requirement already satisfied: multidict<7.0,>=4.5 in /usr/local/lib/python3.10/dist-packages (from aiohttp<4.0.0,>=3.8.6->llama-index-core<0.11.0,>=0.10.28->llama_index) (6.0.5)\n",
            "Requirement already satisfied: yarl<2.0,>=1.0 in /usr/local/lib/python3.10/dist-packages (from aiohttp<4.0.0,>=3.8.6->llama-index-core<0.11.0,>=0.10.28->llama_index) (1.9.4)\n",
            "Requirement already satisfied: async-timeout<5.0,>=4.0 in /usr/local/lib/python3.10/dist-packages (from aiohttp<4.0.0,>=3.8.6->llama-index-core<0.11.0,>=0.10.28->llama_index) (4.0.3)\n",
            "Requirement already satisfied: soupsieve>1.2 in /usr/local/lib/python3.10/dist-packages (from beautifulsoup4<5.0.0,>=4.12.3->llama-index-readers-file<0.2.0,>=0.1.4->llama_index) (2.5)\n",
            "Requirement already satisfied: pydantic>=1.10 in /usr/local/lib/python3.10/dist-packages (from llamaindex-py-client<0.2.0,>=0.1.18->llama-index-core<0.11.0,>=0.10.28->llama_index) (2.6.4)\n",
            "Requirement already satisfied: anyio in /usr/local/lib/python3.10/dist-packages (from httpx->llama-index-core<0.11.0,>=0.10.28->llama_index) (3.7.1)\n",
            "Requirement already satisfied: certifi in /usr/local/lib/python3.10/dist-packages (from httpx->llama-index-core<0.11.0,>=0.10.28->llama_index) (2024.2.2)\n",
            "Requirement already satisfied: httpcore==1.* in /usr/local/lib/python3.10/dist-packages (from httpx->llama-index-core<0.11.0,>=0.10.28->llama_index) (1.0.5)\n",
            "Requirement already satisfied: idna in /usr/local/lib/python3.10/dist-packages (from httpx->llama-index-core<0.11.0,>=0.10.28->llama_index) (3.6)\n",
            "Requirement already satisfied: sniffio in /usr/local/lib/python3.10/dist-packages (from httpx->llama-index-core<0.11.0,>=0.10.28->llama_index) (1.3.1)\n",
            "Requirement already satisfied: h11<0.15,>=0.13 in /usr/local/lib/python3.10/dist-packages (from httpcore==1.*->httpx->llama-index-core<0.11.0,>=0.10.28->llama_index) (0.14.0)\n",
            "Requirement already satisfied: click in /usr/local/lib/python3.10/dist-packages (from nltk<4.0.0,>=3.8.1->llama-index-core<0.11.0,>=0.10.28->llama_index) (8.1.7)\n",
            "Requirement already satisfied: joblib in /usr/local/lib/python3.10/dist-packages (from nltk<4.0.0,>=3.8.1->llama-index-core<0.11.0,>=0.10.28->llama_index) (1.4.0)\n",
            "Requirement already satisfied: distro<2,>=1.7.0 in /usr/lib/python3/dist-packages (from openai>=1.14.0->llama-index-agent-openai<0.3.0,>=0.1.4->llama_index) (1.7.0)\n",
            "Requirement already satisfied: charset-normalizer<4,>=2 in /usr/local/lib/python3.10/dist-packages (from requests>=2.31.0->llama-index-core<0.11.0,>=0.10.28->llama_index) (3.3.2)\n",
            "Requirement already satisfied: urllib3<3,>=1.21.1 in /usr/local/lib/python3.10/dist-packages (from requests>=2.31.0->llama-index-core<0.11.0,>=0.10.28->llama_index) (2.0.7)\n",
            "Requirement already satisfied: greenlet!=0.4.17 in /usr/local/lib/python3.10/dist-packages (from SQLAlchemy[asyncio]>=1.4.49->llama-index-core<0.11.0,>=0.10.28->llama_index) (3.0.3)\n",
            "Requirement already satisfied: mypy-extensions>=0.3.0 in /usr/local/lib/python3.10/dist-packages (from typing-inspect>=0.8.0->llama-index-core<0.11.0,>=0.10.28->llama_index) (1.0.0)\n",
            "Requirement already satisfied: marshmallow<4.0.0,>=3.18.0 in /usr/local/lib/python3.10/dist-packages (from dataclasses-json->llama-index-core<0.11.0,>=0.10.28->llama_index) (3.21.1)\n",
            "Requirement already satisfied: python-dateutil>=2.8.2 in /usr/local/lib/python3.10/dist-packages (from pandas->llama-index-core<0.11.0,>=0.10.28->llama_index) (2.8.2)\n",
            "Requirement already satisfied: pytz>=2020.1 in /usr/local/lib/python3.10/dist-packages (from pandas->llama-index-core<0.11.0,>=0.10.28->llama_index) (2023.4)\n",
            "Requirement already satisfied: tzdata>=2022.1 in /usr/local/lib/python3.10/dist-packages (from pandas->llama-index-core<0.11.0,>=0.10.28->llama_index) (2024.1)\n",
            "Requirement already satisfied: exceptiongroup in /usr/local/lib/python3.10/dist-packages (from anyio->httpx->llama-index-core<0.11.0,>=0.10.28->llama_index) (1.2.0)\n",
            "Requirement already satisfied: packaging>=17.0 in /usr/local/lib/python3.10/dist-packages (from marshmallow<4.0.0,>=3.18.0->dataclasses-json->llama-index-core<0.11.0,>=0.10.28->llama_index) (24.0)\n",
            "Requirement already satisfied: annotated-types>=0.4.0 in /usr/local/lib/python3.10/dist-packages (from pydantic>=1.10->llamaindex-py-client<0.2.0,>=0.1.18->llama-index-core<0.11.0,>=0.10.28->llama_index) (0.6.0)\n",
            "Requirement already satisfied: pydantic-core==2.16.3 in /usr/local/lib/python3.10/dist-packages (from pydantic>=1.10->llamaindex-py-client<0.2.0,>=0.1.18->llama-index-core<0.11.0,>=0.10.28->llama_index) (2.16.3)\n",
            "Requirement already satisfied: six>=1.5 in /usr/local/lib/python3.10/dist-packages (from python-dateutil>=2.8.2->pandas->llama-index-core<0.11.0,>=0.10.28->llama_index) (1.16.0)\n",
            "Installing collected packages: striprtf, pypdf, llama-index-legacy, llama-parse, llama-index-readers-file, llama-index-indices-managed-llama-cloud, llama-index-embeddings-openai, llama-index-readers-llama-parse, llama-index-cli, llama-index-agent-openai, llama-index-program-openai, llama-index-question-gen-openai, llama_index\n",
            "Successfully installed llama-index-agent-openai-0.2.2 llama-index-cli-0.1.11 llama-index-embeddings-openai-0.1.7 llama-index-indices-managed-llama-cloud-0.1.5 llama-index-legacy-0.9.48 llama-index-program-openai-0.1.5 llama-index-question-gen-openai-0.1.3 llama-index-readers-file-0.1.17 llama-index-readers-llama-parse-0.1.4 llama-parse-0.4.0 llama_index-0.10.28 pypdf-4.2.0 striprtf-0.0.26\n",
            "Collecting openai-whisper\n",
            "  Downloading openai-whisper-20231117.tar.gz (798 kB)\n",
            "\u001b[2K     \u001b[90m━━━━━━━━━━━━━━━━━━━━━━━━━━━━━━━━━━━━━━━━\u001b[0m \u001b[32m798.6/798.6 kB\u001b[0m \u001b[31m11.1 MB/s\u001b[0m eta \u001b[36m0:00:00\u001b[0m\n",
            "\u001b[?25h  Installing build dependencies ... \u001b[?25l\u001b[?25hdone\n",
            "  Getting requirements to build wheel ... \u001b[?25l\u001b[?25hdone\n",
            "  Preparing metadata (pyproject.toml) ... \u001b[?25l\u001b[?25hdone\n",
            "Requirement already satisfied: triton<3,>=2.0.0 in /usr/local/lib/python3.10/dist-packages (from openai-whisper) (2.2.0)\n",
            "Requirement already satisfied: numba in /usr/local/lib/python3.10/dist-packages (from openai-whisper) (0.58.1)\n",
            "Requirement already satisfied: numpy in /usr/local/lib/python3.10/dist-packages (from openai-whisper) (1.25.2)\n",
            "Requirement already satisfied: torch in /usr/local/lib/python3.10/dist-packages (from openai-whisper) (2.2.1+cu121)\n",
            "Requirement already satisfied: tqdm in /usr/local/lib/python3.10/dist-packages (from openai-whisper) (4.66.2)\n",
            "Requirement already satisfied: more-itertools in /usr/local/lib/python3.10/dist-packages (from openai-whisper) (10.1.0)\n",
            "Requirement already satisfied: tiktoken in /usr/local/lib/python3.10/dist-packages (from openai-whisper) (0.6.0)\n",
            "Requirement already satisfied: filelock in /usr/local/lib/python3.10/dist-packages (from triton<3,>=2.0.0->openai-whisper) (3.13.4)\n",
            "Requirement already satisfied: llvmlite<0.42,>=0.41.0dev0 in /usr/local/lib/python3.10/dist-packages (from numba->openai-whisper) (0.41.1)\n",
            "Requirement already satisfied: regex>=2022.1.18 in /usr/local/lib/python3.10/dist-packages (from tiktoken->openai-whisper) (2023.12.25)\n",
            "Requirement already satisfied: requests>=2.26.0 in /usr/local/lib/python3.10/dist-packages (from tiktoken->openai-whisper) (2.31.0)\n",
            "Requirement already satisfied: typing-extensions>=4.8.0 in /usr/local/lib/python3.10/dist-packages (from torch->openai-whisper) (4.11.0)\n",
            "Requirement already satisfied: sympy in /usr/local/lib/python3.10/dist-packages (from torch->openai-whisper) (1.12)\n",
            "Requirement already satisfied: networkx in /usr/local/lib/python3.10/dist-packages (from torch->openai-whisper) (3.3)\n",
            "Requirement already satisfied: jinja2 in /usr/local/lib/python3.10/dist-packages (from torch->openai-whisper) (3.1.3)\n",
            "Requirement already satisfied: fsspec in /usr/local/lib/python3.10/dist-packages (from torch->openai-whisper) (2023.6.0)\n",
            "Requirement already satisfied: nvidia-cuda-nvrtc-cu12==12.1.105 in /usr/local/lib/python3.10/dist-packages (from torch->openai-whisper) (12.1.105)\n",
            "Requirement already satisfied: nvidia-cuda-runtime-cu12==12.1.105 in /usr/local/lib/python3.10/dist-packages (from torch->openai-whisper) (12.1.105)\n",
            "Requirement already satisfied: nvidia-cuda-cupti-cu12==12.1.105 in /usr/local/lib/python3.10/dist-packages (from torch->openai-whisper) (12.1.105)\n",
            "Requirement already satisfied: nvidia-cudnn-cu12==8.9.2.26 in /usr/local/lib/python3.10/dist-packages (from torch->openai-whisper) (8.9.2.26)\n",
            "Requirement already satisfied: nvidia-cublas-cu12==12.1.3.1 in /usr/local/lib/python3.10/dist-packages (from torch->openai-whisper) (12.1.3.1)\n",
            "Requirement already satisfied: nvidia-cufft-cu12==11.0.2.54 in /usr/local/lib/python3.10/dist-packages (from torch->openai-whisper) (11.0.2.54)\n",
            "Requirement already satisfied: nvidia-curand-cu12==10.3.2.106 in /usr/local/lib/python3.10/dist-packages (from torch->openai-whisper) (10.3.2.106)\n",
            "Requirement already satisfied: nvidia-cusolver-cu12==11.4.5.107 in /usr/local/lib/python3.10/dist-packages (from torch->openai-whisper) (11.4.5.107)\n",
            "Requirement already satisfied: nvidia-cusparse-cu12==12.1.0.106 in /usr/local/lib/python3.10/dist-packages (from torch->openai-whisper) (12.1.0.106)\n",
            "Requirement already satisfied: nvidia-nccl-cu12==2.19.3 in /usr/local/lib/python3.10/dist-packages (from torch->openai-whisper) (2.19.3)\n",
            "Requirement already satisfied: nvidia-nvtx-cu12==12.1.105 in /usr/local/lib/python3.10/dist-packages (from torch->openai-whisper) (12.1.105)\n",
            "Requirement already satisfied: nvidia-nvjitlink-cu12 in /usr/local/lib/python3.10/dist-packages (from nvidia-cusolver-cu12==11.4.5.107->torch->openai-whisper) (12.4.127)\n",
            "Requirement already satisfied: charset-normalizer<4,>=2 in /usr/local/lib/python3.10/dist-packages (from requests>=2.26.0->tiktoken->openai-whisper) (3.3.2)\n",
            "Requirement already satisfied: idna<4,>=2.5 in /usr/local/lib/python3.10/dist-packages (from requests>=2.26.0->tiktoken->openai-whisper) (3.6)\n",
            "Requirement already satisfied: urllib3<3,>=1.21.1 in /usr/local/lib/python3.10/dist-packages (from requests>=2.26.0->tiktoken->openai-whisper) (2.0.7)\n",
            "Requirement already satisfied: certifi>=2017.4.17 in /usr/local/lib/python3.10/dist-packages (from requests>=2.26.0->tiktoken->openai-whisper) (2024.2.2)\n",
            "Requirement already satisfied: MarkupSafe>=2.0 in /usr/local/lib/python3.10/dist-packages (from jinja2->torch->openai-whisper) (2.1.5)\n",
            "Requirement already satisfied: mpmath>=0.19 in /usr/local/lib/python3.10/dist-packages (from sympy->torch->openai-whisper) (1.3.0)\n",
            "Building wheels for collected packages: openai-whisper\n",
            "  Building wheel for openai-whisper (pyproject.toml) ... \u001b[?25l\u001b[?25hdone\n",
            "  Created wheel for openai-whisper: filename=openai_whisper-20231117-py3-none-any.whl size=801358 sha256=2e69c164d282fd57b06e019bee495f1d70870c7c7d0de7ff90d8ca026a9b0af9\n",
            "  Stored in directory: /root/.cache/pip/wheels/d0/85/e1/9361b4cbea7dd4b7f6702fa4c3afc94877952eeb2b62f45f56\n",
            "Successfully built openai-whisper\n",
            "Installing collected packages: openai-whisper\n",
            "Successfully installed openai-whisper-20231117\n",
            "Collecting git+https://github.com/openai/CLIP.git\n",
            "  Cloning https://github.com/openai/CLIP.git to /tmp/pip-req-build-y96odbde\n",
            "  Running command git clone --filter=blob:none --quiet https://github.com/openai/CLIP.git /tmp/pip-req-build-y96odbde\n",
            "  Resolved https://github.com/openai/CLIP.git to commit a1d071733d7111c9c014f024669f959182114e33\n",
            "  Preparing metadata (setup.py) ... \u001b[?25l\u001b[?25hdone\n",
            "Requirement already satisfied: ftfy in /usr/local/lib/python3.10/dist-packages (from clip==1.0) (6.2.0)\n",
            "Requirement already satisfied: regex in /usr/local/lib/python3.10/dist-packages (from clip==1.0) (2023.12.25)\n",
            "Requirement already satisfied: tqdm in /usr/local/lib/python3.10/dist-packages (from clip==1.0) (4.66.2)\n",
            "Requirement already satisfied: torch in /usr/local/lib/python3.10/dist-packages (from clip==1.0) (2.2.1+cu121)\n",
            "Requirement already satisfied: torchvision in /usr/local/lib/python3.10/dist-packages (from clip==1.0) (0.17.1+cu121)\n",
            "Requirement already satisfied: wcwidth<0.3.0,>=0.2.12 in /usr/local/lib/python3.10/dist-packages (from ftfy->clip==1.0) (0.2.13)\n",
            "Requirement already satisfied: filelock in /usr/local/lib/python3.10/dist-packages (from torch->clip==1.0) (3.13.4)\n",
            "Requirement already satisfied: typing-extensions>=4.8.0 in /usr/local/lib/python3.10/dist-packages (from torch->clip==1.0) (4.11.0)\n",
            "Requirement already satisfied: sympy in /usr/local/lib/python3.10/dist-packages (from torch->clip==1.0) (1.12)\n",
            "Requirement already satisfied: networkx in /usr/local/lib/python3.10/dist-packages (from torch->clip==1.0) (3.3)\n",
            "Requirement already satisfied: jinja2 in /usr/local/lib/python3.10/dist-packages (from torch->clip==1.0) (3.1.3)\n",
            "Requirement already satisfied: fsspec in /usr/local/lib/python3.10/dist-packages (from torch->clip==1.0) (2023.6.0)\n",
            "Requirement already satisfied: nvidia-cuda-nvrtc-cu12==12.1.105 in /usr/local/lib/python3.10/dist-packages (from torch->clip==1.0) (12.1.105)\n",
            "Requirement already satisfied: nvidia-cuda-runtime-cu12==12.1.105 in /usr/local/lib/python3.10/dist-packages (from torch->clip==1.0) (12.1.105)\n",
            "Requirement already satisfied: nvidia-cuda-cupti-cu12==12.1.105 in /usr/local/lib/python3.10/dist-packages (from torch->clip==1.0) (12.1.105)\n",
            "Requirement already satisfied: nvidia-cudnn-cu12==8.9.2.26 in /usr/local/lib/python3.10/dist-packages (from torch->clip==1.0) (8.9.2.26)\n",
            "Requirement already satisfied: nvidia-cublas-cu12==12.1.3.1 in /usr/local/lib/python3.10/dist-packages (from torch->clip==1.0) (12.1.3.1)\n",
            "Requirement already satisfied: nvidia-cufft-cu12==11.0.2.54 in /usr/local/lib/python3.10/dist-packages (from torch->clip==1.0) (11.0.2.54)\n",
            "Requirement already satisfied: nvidia-curand-cu12==10.3.2.106 in /usr/local/lib/python3.10/dist-packages (from torch->clip==1.0) (10.3.2.106)\n",
            "Requirement already satisfied: nvidia-cusolver-cu12==11.4.5.107 in /usr/local/lib/python3.10/dist-packages (from torch->clip==1.0) (11.4.5.107)\n",
            "Requirement already satisfied: nvidia-cusparse-cu12==12.1.0.106 in /usr/local/lib/python3.10/dist-packages (from torch->clip==1.0) (12.1.0.106)\n",
            "Requirement already satisfied: nvidia-nccl-cu12==2.19.3 in /usr/local/lib/python3.10/dist-packages (from torch->clip==1.0) (2.19.3)\n",
            "Requirement already satisfied: nvidia-nvtx-cu12==12.1.105 in /usr/local/lib/python3.10/dist-packages (from torch->clip==1.0) (12.1.105)\n",
            "Requirement already satisfied: triton==2.2.0 in /usr/local/lib/python3.10/dist-packages (from torch->clip==1.0) (2.2.0)\n",
            "Requirement already satisfied: nvidia-nvjitlink-cu12 in /usr/local/lib/python3.10/dist-packages (from nvidia-cusolver-cu12==11.4.5.107->torch->clip==1.0) (12.4.127)\n",
            "Requirement already satisfied: numpy in /usr/local/lib/python3.10/dist-packages (from torchvision->clip==1.0) (1.25.2)\n",
            "Requirement already satisfied: pillow!=8.3.*,>=5.3.0 in /usr/local/lib/python3.10/dist-packages (from torchvision->clip==1.0) (10.3.0)\n",
            "Requirement already satisfied: MarkupSafe>=2.0 in /usr/local/lib/python3.10/dist-packages (from jinja2->torch->clip==1.0) (2.1.5)\n",
            "Requirement already satisfied: mpmath>=0.19 in /usr/local/lib/python3.10/dist-packages (from sympy->torch->clip==1.0) (1.3.0)\n",
            "Building wheels for collected packages: clip\n",
            "  Building wheel for clip (setup.py) ... \u001b[?25l\u001b[?25hdone\n",
            "  Created wheel for clip: filename=clip-1.0-py3-none-any.whl size=1369499 sha256=567c4bd8569b6a6988b27c3e739025d293dec8963c76e29ffa95f305defbff3f\n",
            "  Stored in directory: /tmp/pip-ephem-wheel-cache-avu2lxs8/wheels/da/2b/4c/d6691fa9597aac8bb85d2ac13b112deb897d5b50f5ad9a37e4\n",
            "Successfully built clip\n",
            "Installing collected packages: clip\n",
            "Successfully installed clip-1.0\n",
            "Requirement already satisfied: torch in /usr/local/lib/python3.10/dist-packages (2.2.1+cu121)\n",
            "Requirement already satisfied: torchvision in /usr/local/lib/python3.10/dist-packages (0.17.1+cu121)\n",
            "Requirement already satisfied: filelock in /usr/local/lib/python3.10/dist-packages (from torch) (3.13.4)\n",
            "Requirement already satisfied: typing-extensions>=4.8.0 in /usr/local/lib/python3.10/dist-packages (from torch) (4.11.0)\n",
            "Requirement already satisfied: sympy in /usr/local/lib/python3.10/dist-packages (from torch) (1.12)\n",
            "Requirement already satisfied: networkx in /usr/local/lib/python3.10/dist-packages (from torch) (3.3)\n",
            "Requirement already satisfied: jinja2 in /usr/local/lib/python3.10/dist-packages (from torch) (3.1.3)\n",
            "Requirement already satisfied: fsspec in /usr/local/lib/python3.10/dist-packages (from torch) (2023.6.0)\n",
            "Requirement already satisfied: nvidia-cuda-nvrtc-cu12==12.1.105 in /usr/local/lib/python3.10/dist-packages (from torch) (12.1.105)\n",
            "Requirement already satisfied: nvidia-cuda-runtime-cu12==12.1.105 in /usr/local/lib/python3.10/dist-packages (from torch) (12.1.105)\n",
            "Requirement already satisfied: nvidia-cuda-cupti-cu12==12.1.105 in /usr/local/lib/python3.10/dist-packages (from torch) (12.1.105)\n",
            "Requirement already satisfied: nvidia-cudnn-cu12==8.9.2.26 in /usr/local/lib/python3.10/dist-packages (from torch) (8.9.2.26)\n",
            "Requirement already satisfied: nvidia-cublas-cu12==12.1.3.1 in /usr/local/lib/python3.10/dist-packages (from torch) (12.1.3.1)\n",
            "Requirement already satisfied: nvidia-cufft-cu12==11.0.2.54 in /usr/local/lib/python3.10/dist-packages (from torch) (11.0.2.54)\n",
            "Requirement already satisfied: nvidia-curand-cu12==10.3.2.106 in /usr/local/lib/python3.10/dist-packages (from torch) (10.3.2.106)\n",
            "Requirement already satisfied: nvidia-cusolver-cu12==11.4.5.107 in /usr/local/lib/python3.10/dist-packages (from torch) (11.4.5.107)\n",
            "Requirement already satisfied: nvidia-cusparse-cu12==12.1.0.106 in /usr/local/lib/python3.10/dist-packages (from torch) (12.1.0.106)\n",
            "Requirement already satisfied: nvidia-nccl-cu12==2.19.3 in /usr/local/lib/python3.10/dist-packages (from torch) (2.19.3)\n",
            "Requirement already satisfied: nvidia-nvtx-cu12==12.1.105 in /usr/local/lib/python3.10/dist-packages (from torch) (12.1.105)\n",
            "Requirement already satisfied: triton==2.2.0 in /usr/local/lib/python3.10/dist-packages (from torch) (2.2.0)\n",
            "Requirement already satisfied: nvidia-nvjitlink-cu12 in /usr/local/lib/python3.10/dist-packages (from nvidia-cusolver-cu12==11.4.5.107->torch) (12.4.127)\n",
            "Requirement already satisfied: numpy in /usr/local/lib/python3.10/dist-packages (from torchvision) (1.25.2)\n",
            "Requirement already satisfied: pillow!=8.3.*,>=5.3.0 in /usr/local/lib/python3.10/dist-packages (from torchvision) (10.3.0)\n",
            "Requirement already satisfied: MarkupSafe>=2.0 in /usr/local/lib/python3.10/dist-packages (from jinja2->torch) (2.1.5)\n",
            "Requirement already satisfied: mpmath>=0.19 in /usr/local/lib/python3.10/dist-packages (from sympy->torch) (1.3.0)\n",
            "Requirement already satisfied: matplotlib in /usr/local/lib/python3.10/dist-packages (3.7.1)\n",
            "Requirement already satisfied: scikit-image in /usr/local/lib/python3.10/dist-packages (0.19.3)\n",
            "Requirement already satisfied: contourpy>=1.0.1 in /usr/local/lib/python3.10/dist-packages (from matplotlib) (1.2.1)\n",
            "Requirement already satisfied: cycler>=0.10 in /usr/local/lib/python3.10/dist-packages (from matplotlib) (0.12.1)\n",
            "Requirement already satisfied: fonttools>=4.22.0 in /usr/local/lib/python3.10/dist-packages (from matplotlib) (4.51.0)\n",
            "Requirement already satisfied: kiwisolver>=1.0.1 in /usr/local/lib/python3.10/dist-packages (from matplotlib) (1.4.5)\n",
            "Requirement already satisfied: numpy>=1.20 in /usr/local/lib/python3.10/dist-packages (from matplotlib) (1.25.2)\n",
            "Requirement already satisfied: packaging>=20.0 in /usr/local/lib/python3.10/dist-packages (from matplotlib) (24.0)\n",
            "Requirement already satisfied: pillow>=6.2.0 in /usr/local/lib/python3.10/dist-packages (from matplotlib) (10.3.0)\n",
            "Requirement already satisfied: pyparsing>=2.3.1 in /usr/local/lib/python3.10/dist-packages (from matplotlib) (3.1.2)\n",
            "Requirement already satisfied: python-dateutil>=2.7 in /usr/local/lib/python3.10/dist-packages (from matplotlib) (2.8.2)\n",
            "Requirement already satisfied: scipy>=1.4.1 in /usr/local/lib/python3.10/dist-packages (from scikit-image) (1.11.4)\n",
            "Requirement already satisfied: networkx>=2.2 in /usr/local/lib/python3.10/dist-packages (from scikit-image) (3.3)\n",
            "Requirement already satisfied: imageio>=2.4.1 in /usr/local/lib/python3.10/dist-packages (from scikit-image) (2.31.6)\n",
            "Requirement already satisfied: tifffile>=2019.7.26 in /usr/local/lib/python3.10/dist-packages (from scikit-image) (2024.2.12)\n",
            "Requirement already satisfied: PyWavelets>=1.1.1 in /usr/local/lib/python3.10/dist-packages (from scikit-image) (1.6.0)\n",
            "Collecting pillow>=6.2.0 (from matplotlib)\n",
            "  Downloading Pillow-10.0.1-cp310-cp310-manylinux_2_28_x86_64.whl (3.6 MB)\n",
            "\u001b[2K     \u001b[90m━━━━━━━━━━━━━━━━━━━━━━━━━━━━━━━━━━━━━━━━\u001b[0m \u001b[32m3.6/3.6 MB\u001b[0m \u001b[31m13.6 MB/s\u001b[0m eta \u001b[36m0:00:00\u001b[0m\n",
            "\u001b[?25hRequirement already satisfied: six>=1.5 in /usr/local/lib/python3.10/dist-packages (from python-dateutil>=2.7->matplotlib) (1.16.0)\n",
            "Installing collected packages: pillow\n",
            "  Attempting uninstall: pillow\n",
            "    Found existing installation: pillow 10.3.0\n",
            "    Uninstalling pillow-10.3.0:\n",
            "      Successfully uninstalled pillow-10.3.0\n",
            "\u001b[31mERROR: pip's dependency resolver does not currently take into account all the packages that are installed. This behaviour is the source of the following dependency conflicts.\n",
            "llama-index-embeddings-clip 0.1.5 requires pillow<11.0.0,>=10.2.0, but you have pillow 10.0.1 which is incompatible.\u001b[0m\u001b[31m\n",
            "\u001b[0mSuccessfully installed pillow-10.0.1\n"
          ]
        },
        {
          "output_type": "display_data",
          "data": {
            "application/vnd.colab-display-data+json": {
              "pip_warning": {
                "packages": [
                  "PIL"
                ]
              },
              "id": "52c3e989ada54d8191050371cedbeab1"
            }
          },
          "metadata": {}
        },
        {
          "output_type": "stream",
          "name": "stdout",
          "text": [
            "Requirement already satisfied: lancedb in /usr/local/lib/python3.10/dist-packages (0.5.7)\n",
            "Requirement already satisfied: deprecation in /usr/local/lib/python3.10/dist-packages (from lancedb) (2.1.0)\n",
            "Requirement already satisfied: pylance==0.9.18 in /usr/local/lib/python3.10/dist-packages (from lancedb) (0.9.18)\n",
            "Requirement already satisfied: ratelimiter~=1.0 in /usr/local/lib/python3.10/dist-packages (from lancedb) (1.2.0.post0)\n",
            "Requirement already satisfied: retry>=0.9.2 in /usr/local/lib/python3.10/dist-packages (from lancedb) (0.9.2)\n",
            "Requirement already satisfied: tqdm>=4.27.0 in /usr/local/lib/python3.10/dist-packages (from lancedb) (4.66.2)\n",
            "Requirement already satisfied: pydantic>=1.10 in /usr/local/lib/python3.10/dist-packages (from lancedb) (2.6.4)\n",
            "Requirement already satisfied: attrs>=21.3.0 in /usr/local/lib/python3.10/dist-packages (from lancedb) (23.2.0)\n",
            "Requirement already satisfied: semver>=3.0 in /usr/local/lib/python3.10/dist-packages (from lancedb) (3.0.2)\n",
            "Requirement already satisfied: cachetools in /usr/local/lib/python3.10/dist-packages (from lancedb) (5.3.3)\n",
            "Requirement already satisfied: pyyaml>=6.0 in /usr/local/lib/python3.10/dist-packages (from lancedb) (6.0.1)\n",
            "Requirement already satisfied: click>=8.1.7 in /usr/local/lib/python3.10/dist-packages (from lancedb) (8.1.7)\n",
            "Requirement already satisfied: requests>=2.31.0 in /usr/local/lib/python3.10/dist-packages (from lancedb) (2.31.0)\n",
            "Requirement already satisfied: overrides>=0.7 in /usr/local/lib/python3.10/dist-packages (from lancedb) (7.7.0)\n",
            "Requirement already satisfied: pyarrow>=12 in /usr/local/lib/python3.10/dist-packages (from pylance==0.9.18->lancedb) (14.0.2)\n",
            "Requirement already satisfied: numpy>=1.22 in /usr/local/lib/python3.10/dist-packages (from pylance==0.9.18->lancedb) (1.25.2)\n",
            "Requirement already satisfied: annotated-types>=0.4.0 in /usr/local/lib/python3.10/dist-packages (from pydantic>=1.10->lancedb) (0.6.0)\n",
            "Requirement already satisfied: pydantic-core==2.16.3 in /usr/local/lib/python3.10/dist-packages (from pydantic>=1.10->lancedb) (2.16.3)\n",
            "Requirement already satisfied: typing-extensions>=4.6.1 in /usr/local/lib/python3.10/dist-packages (from pydantic>=1.10->lancedb) (4.11.0)\n",
            "Requirement already satisfied: charset-normalizer<4,>=2 in /usr/local/lib/python3.10/dist-packages (from requests>=2.31.0->lancedb) (3.3.2)\n",
            "Requirement already satisfied: idna<4,>=2.5 in /usr/local/lib/python3.10/dist-packages (from requests>=2.31.0->lancedb) (3.6)\n",
            "Requirement already satisfied: urllib3<3,>=1.21.1 in /usr/local/lib/python3.10/dist-packages (from requests>=2.31.0->lancedb) (2.0.7)\n",
            "Requirement already satisfied: certifi>=2017.4.17 in /usr/local/lib/python3.10/dist-packages (from requests>=2.31.0->lancedb) (2024.2.2)\n",
            "Requirement already satisfied: decorator>=3.4.2 in /usr/local/lib/python3.10/dist-packages (from retry>=0.9.2->lancedb) (4.4.2)\n",
            "Requirement already satisfied: py<2.0.0,>=1.4.26 in /usr/local/lib/python3.10/dist-packages (from retry>=0.9.2->lancedb) (1.11.0)\n",
            "Requirement already satisfied: packaging in /usr/local/lib/python3.10/dist-packages (from deprecation->lancedb) (24.0)\n",
            "Requirement already satisfied: moviepy in /usr/local/lib/python3.10/dist-packages (1.0.3)\n",
            "Requirement already satisfied: decorator<5.0,>=4.0.2 in /usr/local/lib/python3.10/dist-packages (from moviepy) (4.4.2)\n",
            "Requirement already satisfied: tqdm<5.0,>=4.11.2 in /usr/local/lib/python3.10/dist-packages (from moviepy) (4.66.2)\n",
            "Requirement already satisfied: requests<3.0,>=2.8.1 in /usr/local/lib/python3.10/dist-packages (from moviepy) (2.31.0)\n",
            "Requirement already satisfied: proglog<=1.0.0 in /usr/local/lib/python3.10/dist-packages (from moviepy) (0.1.10)\n",
            "Requirement already satisfied: numpy>=1.17.3 in /usr/local/lib/python3.10/dist-packages (from moviepy) (1.25.2)\n",
            "Requirement already satisfied: imageio<3.0,>=2.5 in /usr/local/lib/python3.10/dist-packages (from moviepy) (2.31.6)\n",
            "Requirement already satisfied: imageio-ffmpeg>=0.2.0 in /usr/local/lib/python3.10/dist-packages (from moviepy) (0.4.9)\n",
            "Requirement already satisfied: pillow<10.1.0,>=8.3.2 in /usr/local/lib/python3.10/dist-packages (from imageio<3.0,>=2.5->moviepy) (10.0.1)\n",
            "Requirement already satisfied: setuptools in /usr/local/lib/python3.10/dist-packages (from imageio-ffmpeg>=0.2.0->moviepy) (67.7.2)\n",
            "Requirement already satisfied: charset-normalizer<4,>=2 in /usr/local/lib/python3.10/dist-packages (from requests<3.0,>=2.8.1->moviepy) (3.3.2)\n",
            "Requirement already satisfied: idna<4,>=2.5 in /usr/local/lib/python3.10/dist-packages (from requests<3.0,>=2.8.1->moviepy) (3.6)\n",
            "Requirement already satisfied: urllib3<3,>=1.21.1 in /usr/local/lib/python3.10/dist-packages (from requests<3.0,>=2.8.1->moviepy) (2.0.7)\n",
            "Requirement already satisfied: certifi>=2017.4.17 in /usr/local/lib/python3.10/dist-packages (from requests<3.0,>=2.8.1->moviepy) (2024.2.2)\n",
            "Collecting pytube\n",
            "  Downloading pytube-15.0.0-py3-none-any.whl (57 kB)\n",
            "\u001b[2K     \u001b[90m━━━━━━━━━━━━━━━━━━━━━━━━━━━━━━━━━━━━━━━━\u001b[0m \u001b[32m57.6/57.6 kB\u001b[0m \u001b[31m2.6 MB/s\u001b[0m eta \u001b[36m0:00:00\u001b[0m\n",
            "\u001b[?25hInstalling collected packages: pytube\n",
            "Successfully installed pytube-15.0.0\n",
            "Collecting pydub\n",
            "  Downloading pydub-0.25.1-py2.py3-none-any.whl (32 kB)\n",
            "Installing collected packages: pydub\n",
            "Successfully installed pydub-0.25.1\n",
            "Collecting SpeechRecognition\n",
            "  Downloading SpeechRecognition-3.10.3-py2.py3-none-any.whl (32.8 MB)\n",
            "\u001b[2K     \u001b[90m━━━━━━━━━━━━━━━━━━━━━━━━━━━━━━━━━━━━━━━━\u001b[0m \u001b[32m32.8/32.8 MB\u001b[0m \u001b[31m46.1 MB/s\u001b[0m eta \u001b[36m0:00:00\u001b[0m\n",
            "\u001b[?25hRequirement already satisfied: requests>=2.26.0 in /usr/local/lib/python3.10/dist-packages (from SpeechRecognition) (2.31.0)\n",
            "Requirement already satisfied: typing-extensions in /usr/local/lib/python3.10/dist-packages (from SpeechRecognition) (4.11.0)\n",
            "Requirement already satisfied: charset-normalizer<4,>=2 in /usr/local/lib/python3.10/dist-packages (from requests>=2.26.0->SpeechRecognition) (3.3.2)\n",
            "Requirement already satisfied: idna<4,>=2.5 in /usr/local/lib/python3.10/dist-packages (from requests>=2.26.0->SpeechRecognition) (3.6)\n",
            "Requirement already satisfied: urllib3<3,>=1.21.1 in /usr/local/lib/python3.10/dist-packages (from requests>=2.26.0->SpeechRecognition) (2.0.7)\n",
            "Requirement already satisfied: certifi>=2017.4.17 in /usr/local/lib/python3.10/dist-packages (from requests>=2.26.0->SpeechRecognition) (2024.2.2)\n",
            "Installing collected packages: SpeechRecognition\n",
            "Successfully installed SpeechRecognition-3.10.3\n",
            "Collecting ffmpeg-python\n",
            "  Downloading ffmpeg_python-0.2.0-py3-none-any.whl (25 kB)\n",
            "Requirement already satisfied: future in /usr/local/lib/python3.10/dist-packages (from ffmpeg-python) (0.18.3)\n",
            "Installing collected packages: ffmpeg-python\n",
            "Successfully installed ffmpeg-python-0.2.0\n",
            "Requirement already satisfied: soundfile in /usr/local/lib/python3.10/dist-packages (0.12.1)\n",
            "Requirement already satisfied: cffi>=1.0 in /usr/local/lib/python3.10/dist-packages (from soundfile) (1.16.0)\n",
            "Requirement already satisfied: pycparser in /usr/local/lib/python3.10/dist-packages (from cffi>=1.0->soundfile) (2.22)\n"
          ]
        }
      ]
    },
    {
      "cell_type": "code",
      "source": [
        "from moviepy.editor import VideoFileClip\n",
        "from pathlib import Path\n",
        "import speech_recognition as sr\n",
        "from pytube import YouTube\n",
        "from pprint import pprint"
      ],
      "metadata": {
        "id": "Y2keTnMeBVtH"
      },
      "execution_count": null,
      "outputs": []
    },
    {
      "cell_type": "code",
      "source": [
        "from google.colab import userdata\n",
        "OPENAI_API_TOKEN=userdata.get('OPENAI_API_KEY')"
      ],
      "metadata": {
        "id": "lmthLkvMChQS"
      },
      "execution_count": null,
      "outputs": []
    },
    {
      "cell_type": "code",
      "source": [
        "import os\n",
        "os.environ[\"OPENAI_API_KEY\"] = OPENAI_API_TOKEN"
      ],
      "metadata": {
        "id": "9ap37E5eDqEL"
      },
      "execution_count": null,
      "outputs": []
    },
    {
      "cell_type": "code",
      "source": [
        "from PIL import Image\n",
        "import matplotlib.pyplot as plt"
      ],
      "metadata": {
        "id": "0lGPRPxPDy_J"
      },
      "execution_count": null,
      "outputs": []
    },
    {
      "cell_type": "code",
      "source": [
        "import os\n",
        "os.getcwd()"
      ],
      "metadata": {
        "colab": {
          "base_uri": "https://localhost:8080/",
          "height": 35
        },
        "id": "qQB_g8nQGWtA",
        "outputId": "2918aa61-42ff-43a8-ea57-bc53b5ad44b7"
      },
      "execution_count": null,
      "outputs": [
        {
          "output_type": "execute_result",
          "data": {
            "text/plain": [
              "'/content'"
            ],
            "application/vnd.google.colaboratory.intrinsic+json": {
              "type": "string"
            }
          },
          "metadata": {},
          "execution_count": 13
        }
      ]
    },
    {
      "cell_type": "code",
      "source": [
        "video_url=\"https://youtu.be/3dhcmeOTZ_Q\"\n",
        "output_video_path = \"/content/video_data/\"\n",
        "output_folder = \"/content/mixed_data/\"\n",
        "output_audio_path = \"/content/mixed_data/output_audio.wav\""
      ],
      "metadata": {
        "id": "kmX07RnNF6F5"
      },
      "execution_count": null,
      "outputs": []
    },
    {
      "cell_type": "code",
      "source": [
        "filepath=output_video_path + \"input_vid.mp4\""
      ],
      "metadata": {
        "id": "-DhH97a0G3Ll"
      },
      "execution_count": null,
      "outputs": []
    },
    {
      "cell_type": "code",
      "source": [
        "filepath"
      ],
      "metadata": {
        "colab": {
          "base_uri": "https://localhost:8080/",
          "height": 35
        },
        "id": "UhGYQ3zmHjCJ",
        "outputId": "661d1a8b-cabd-46d3-cb84-00841fe24156"
      },
      "execution_count": null,
      "outputs": [
        {
          "output_type": "execute_result",
          "data": {
            "text/plain": [
              "'/content/video_data/input_vid.mp4'"
            ],
            "application/vnd.google.colaboratory.intrinsic+json": {
              "type": "string"
            }
          },
          "metadata": {},
          "execution_count": 59
        }
      ]
    },
    {
      "cell_type": "code",
      "source": [
        "#filepath = output_video_path + \"input_vid.mp4\"\n",
        "#Path(output_folder).mkdir(parents=True, exist_ok=True)"
      ],
      "metadata": {
        "id": "lH_PgqOsNfgH"
      },
      "execution_count": null,
      "outputs": []
    },
    {
      "cell_type": "code",
      "source": [
        "#Path(filepath).mkdir(parents=True,exist_ok=True)"
      ],
      "metadata": {
        "id": "HjIRbvJPHEZ_"
      },
      "execution_count": null,
      "outputs": []
    },
    {
      "cell_type": "code",
      "source": [
        "import matplotlib.pyplot as plt"
      ],
      "metadata": {
        "id": "d6-GS6emcwGX"
      },
      "execution_count": null,
      "outputs": []
    },
    {
      "cell_type": "code",
      "source": [
        "def plot_images(images_path):\n",
        "  images_shown = 0\n",
        "  plt.figure(figsize=(16, 9))\n",
        "  for img_path in images_path:\n",
        "        if os.path.isfile(img_path):\n",
        "            image = Image.open(img_path)\n",
        "\n",
        "            plt.subplot(2, 3, images_shown + 1)\n",
        "            plt.imshow(image)\n",
        "            plt.xticks([])\n",
        "            plt.yticks([])\n",
        "\n",
        "            images_shown += 1\n",
        "            if images_shown >= 5:\n",
        "                break\n"
      ],
      "metadata": {
        "id": "LKHUF4Q0ENJU"
      },
      "execution_count": null,
      "outputs": []
    },
    {
      "cell_type": "code",
      "source": [
        "from pytube import YouTube\n",
        "def download_video(url,output_path):\n",
        "  yt = YouTube(url)\n",
        "  metadata = {\"Author\": yt.author, \"Title\": yt.title, \"Views\": yt.views}\n",
        "  yt.streams.get_highest_resolution().download(\n",
        "        output_path=output_path, filename=\"input_vid.mp4\"\n",
        "    )\n",
        "  return metadata"
      ],
      "metadata": {
        "id": "24d4PPpPEVaQ"
      },
      "execution_count": null,
      "outputs": []
    },
    {
      "cell_type": "markdown",
      "source": [],
      "metadata": {
        "id": "EjeMcQfEI4tF"
      }
    },
    {
      "cell_type": "code",
      "source": [
        "from moviepy.editor import VideoFileClip\n",
        "def video_to_images(video_path,output_flder):\n",
        "  clip=VideoFileClip(video_path)\n",
        "  clip.write_images_sequence(\n",
        "      os.path.join(output_folder,\"frame%04d.png\"),fps=0.2\n",
        "  )"
      ],
      "metadata": {
        "id": "SxcZxu2kEgnm"
      },
      "execution_count": null,
      "outputs": []
    },
    {
      "cell_type": "code",
      "source": [
        "def video_to_audio(video_path,output_audio_path):\n",
        "  clip=VideoFileClip(video_path)\n",
        "  audio=clip.audio\n",
        "  audio.write_audiofile(output_audio_path)\n"
      ],
      "metadata": {
        "id": "xpVSgmxwEm7n"
      },
      "execution_count": null,
      "outputs": []
    },
    {
      "cell_type": "code",
      "source": [
        "def audio_to_text(audio_path):\n",
        "  recognizer=sr.Recognizer()\n",
        "  audio=sr.AudioFile(audio_path)\n",
        "\n",
        "  with audio as source:\n",
        "    audio_data=recognizer.record(source)\n",
        "\n",
        "    try:\n",
        "\n",
        "      #recognize the speech\n",
        "      text = recognizer.recognize_whisper(audio_data)\n",
        "\n",
        "    except sr.UnknownValueError:\n",
        "      print(\"Speech recognition could not understand the audio.\")\n",
        "  return text\n",
        "\n"
      ],
      "metadata": {
        "id": "Ta1Dg7kFEt_L"
      },
      "execution_count": null,
      "outputs": []
    },
    {
      "cell_type": "code",
      "source": [
        "video_url"
      ],
      "metadata": {
        "colab": {
          "base_uri": "https://localhost:8080/",
          "height": 35
        },
        "id": "ngE6B1nSMx8H",
        "outputId": "3a724991-c672-44dd-bbf9-80466bdf0ff6"
      },
      "execution_count": null,
      "outputs": [
        {
          "output_type": "execute_result",
          "data": {
            "text/plain": [
              "'https://youtu.be/3dhcmeOTZ_Q'"
            ],
            "application/vnd.google.colaboratory.intrinsic+json": {
              "type": "string"
            }
          },
          "metadata": {},
          "execution_count": 33
        }
      ]
    },
    {
      "cell_type": "code",
      "source": [
        "output_video_path"
      ],
      "metadata": {
        "colab": {
          "base_uri": "https://localhost:8080/",
          "height": 35
        },
        "id": "gUv75rWcM0Do",
        "outputId": "88ff7609-7350-4329-862f-7b87edcf92c6"
      },
      "execution_count": null,
      "outputs": [
        {
          "output_type": "execute_result",
          "data": {
            "text/plain": [
              "'/content/video_data/'"
            ],
            "application/vnd.google.colaboratory.intrinsic+json": {
              "type": "string"
            }
          },
          "metadata": {},
          "execution_count": 87
        }
      ]
    },
    {
      "cell_type": "code",
      "source": [
        "metadata_vid = download_video(video_url, output_video_path)"
      ],
      "metadata": {
        "id": "Ud8qttH3E-1B"
      },
      "execution_count": null,
      "outputs": []
    },
    {
      "cell_type": "code",
      "source": [
        "metadata_vid"
      ],
      "metadata": {
        "colab": {
          "base_uri": "https://localhost:8080/"
        },
        "id": "cAnP0dakOFvi",
        "outputId": "0a859888-de76-4e5d-d3b2-3c3ff482be92"
      },
      "execution_count": null,
      "outputs": [
        {
          "output_type": "execute_result",
          "data": {
            "text/plain": [
              "{'Author': '3-Minute Data Science',\n",
              " 'Title': 'Linear Regression in 3 Minutes',\n",
              " 'Views': 7121}"
            ]
          },
          "metadata": {},
          "execution_count": 62
        }
      ]
    },
    {
      "cell_type": "code",
      "source": [
        "filepath"
      ],
      "metadata": {
        "colab": {
          "base_uri": "https://localhost:8080/",
          "height": 35
        },
        "id": "gN-zZjTBOSWV",
        "outputId": "2ac6cdc1-4fd0-45ca-b9d6-ab3cda561f2a"
      },
      "execution_count": null,
      "outputs": [
        {
          "output_type": "execute_result",
          "data": {
            "text/plain": [
              "'/content/video_data/input_vid.mp4'"
            ],
            "application/vnd.google.colaboratory.intrinsic+json": {
              "type": "string"
            }
          },
          "metadata": {},
          "execution_count": 63
        }
      ]
    },
    {
      "cell_type": "code",
      "source": [
        "output_folder"
      ],
      "metadata": {
        "colab": {
          "base_uri": "https://localhost:8080/",
          "height": 35
        },
        "id": "Gc1hUebpOVQj",
        "outputId": "47903177-18a5-4b96-b1f8-b77a23630daf"
      },
      "execution_count": null,
      "outputs": [
        {
          "output_type": "execute_result",
          "data": {
            "text/plain": [
              "'/content/mixed_data/'"
            ],
            "application/vnd.google.colaboratory.intrinsic+json": {
              "type": "string"
            }
          },
          "metadata": {},
          "execution_count": 64
        }
      ]
    },
    {
      "cell_type": "code",
      "source": [
        "!mkdir mixed_data"
      ],
      "metadata": {
        "id": "6G5EqofoPfzX"
      },
      "execution_count": null,
      "outputs": []
    },
    {
      "cell_type": "code",
      "source": [
        "filepath"
      ],
      "metadata": {
        "colab": {
          "base_uri": "https://localhost:8080/",
          "height": 35
        },
        "id": "h75pp_KcSkxJ",
        "outputId": "3179c596-e824-428c-c173-35759d6ab37a"
      },
      "execution_count": null,
      "outputs": [
        {
          "output_type": "execute_result",
          "data": {
            "text/plain": [
              "'/content/video_data/input_vid.mp4'"
            ],
            "application/vnd.google.colaboratory.intrinsic+json": {
              "type": "string"
            }
          },
          "metadata": {},
          "execution_count": 89
        }
      ]
    },
    {
      "cell_type": "code",
      "source": [
        "output_folder"
      ],
      "metadata": {
        "colab": {
          "base_uri": "https://localhost:8080/",
          "height": 35
        },
        "id": "t5c3EeX-SoDv",
        "outputId": "1e090121-efa6-41a9-8f16-1558f9611ff6"
      },
      "execution_count": null,
      "outputs": [
        {
          "output_type": "execute_result",
          "data": {
            "text/plain": [
              "'/content/mixed_data/'"
            ],
            "application/vnd.google.colaboratory.intrinsic+json": {
              "type": "string"
            }
          },
          "metadata": {},
          "execution_count": 90
        }
      ]
    },
    {
      "cell_type": "code",
      "source": [
        "video_to_images(filepath,output_folder)"
      ],
      "metadata": {
        "colab": {
          "base_uri": "https://localhost:8080/"
        },
        "id": "1CsWOGQcFYjX",
        "outputId": "a8cf2a9b-0ea4-4c57-843e-fabc733e9bd4"
      },
      "execution_count": null,
      "outputs": [
        {
          "output_type": "stream",
          "name": "stderr",
          "text": [
            "\n",
            "t:   2%|▏         | 1/47 [02:10<1:40:23, 130.94s/it, now=None]\n",
            "t:   2%|▏         | 1/47 [00:35<27:35, 35.99s/it, now=None]\u001b[A"
          ]
        },
        {
          "output_type": "stream",
          "name": "stdout",
          "text": [
            "Moviepy - Writing frames /content/mixed_data/frame%04d.png.\n"
          ]
        },
        {
          "output_type": "stream",
          "name": "stderr",
          "text": [
            "\n",
            "\n",
            "t:   0%|          | 0/47 [00:00<?, ?it/s, now=None]\u001b[A\u001b[A\n",
            "\n",
            "t:   6%|▋         | 3/47 [00:00<00:06,  7.07it/s, now=None]\u001b[A\u001b[A\n",
            "\n",
            "t:   9%|▊         | 4/47 [00:00<00:07,  5.50it/s, now=None]\u001b[A\u001b[A\n",
            "\n",
            "t:  11%|█         | 5/47 [00:00<00:08,  4.67it/s, now=None]\u001b[A\u001b[A\n",
            "\n",
            "t:  13%|█▎        | 6/47 [00:01<00:09,  4.25it/s, now=None]\u001b[A\u001b[A\n",
            "\n",
            "t:  15%|█▍        | 7/47 [00:01<00:09,  4.19it/s, now=None]\u001b[A\u001b[A\n",
            "\n",
            "t:  17%|█▋        | 8/47 [00:01<00:09,  4.03it/s, now=None]\u001b[A\u001b[A\n",
            "\n",
            "t:  19%|█▉        | 9/47 [00:02<00:09,  3.98it/s, now=None]\u001b[A\u001b[A\n",
            "\n",
            "t:  21%|██▏       | 10/47 [00:02<00:09,  3.86it/s, now=None]\u001b[A\u001b[A\n",
            "\n",
            "t:  23%|██▎       | 11/47 [00:02<00:09,  3.88it/s, now=None]\u001b[A\u001b[A\n",
            "\n",
            "t:  26%|██▌       | 12/47 [00:02<00:08,  3.99it/s, now=None]\u001b[A\u001b[A\n",
            "\n",
            "t:  28%|██▊       | 13/47 [00:03<00:08,  4.05it/s, now=None]\u001b[A\u001b[A\n",
            "\n",
            "t:  30%|██▉       | 14/47 [00:03<00:08,  4.12it/s, now=None]\u001b[A\u001b[A\n",
            "\n",
            "t:  32%|███▏      | 15/47 [00:03<00:07,  4.13it/s, now=None]\u001b[A\u001b[A\n",
            "\n",
            "t:  34%|███▍      | 16/47 [00:03<00:07,  4.18it/s, now=None]\u001b[A\u001b[A\n",
            "\n",
            "t:  36%|███▌      | 17/47 [00:03<00:07,  4.27it/s, now=None]\u001b[A\u001b[A\n",
            "\n",
            "t:  38%|███▊      | 18/47 [00:04<00:06,  4.17it/s, now=None]\u001b[A\u001b[A\n",
            "\n",
            "t:  40%|████      | 19/47 [00:04<00:06,  4.31it/s, now=None]\u001b[A\u001b[A\n",
            "\n",
            "t:  43%|████▎     | 20/47 [00:04<00:06,  4.25it/s, now=None]\u001b[A\u001b[A\n",
            "\n",
            "t:  45%|████▍     | 21/47 [00:04<00:06,  3.94it/s, now=None]\u001b[A\u001b[A\n",
            "\n",
            "t:  47%|████▋     | 22/47 [00:05<00:06,  3.92it/s, now=None]\u001b[A\u001b[A\n",
            "\n",
            "t:  49%|████▉     | 23/47 [00:05<00:05,  4.05it/s, now=None]\u001b[A\u001b[A\n",
            "\n",
            "t:  51%|█████     | 24/47 [00:05<00:05,  4.12it/s, now=None]\u001b[A\u001b[A\n",
            "\n",
            "t:  53%|█████▎    | 25/47 [00:05<00:05,  4.28it/s, now=None]\u001b[A\u001b[A\n",
            "\n",
            "t:  55%|█████▌    | 26/47 [00:06<00:04,  4.40it/s, now=None]\u001b[A\u001b[A\n",
            "\n",
            "t:  57%|█████▋    | 27/47 [00:06<00:04,  4.47it/s, now=None]\u001b[A\u001b[A\n",
            "\n",
            "t:  60%|█████▉    | 28/47 [00:06<00:04,  4.50it/s, now=None]\u001b[A\u001b[A\n",
            "\n",
            "t:  62%|██████▏   | 29/47 [00:06<00:03,  4.65it/s, now=None]\u001b[A\u001b[A\n",
            "\n",
            "t:  64%|██████▍   | 30/47 [00:06<00:03,  4.68it/s, now=None]\u001b[A\u001b[A\n",
            "\n",
            "t:  66%|██████▌   | 31/47 [00:07<00:03,  4.58it/s, now=None]\u001b[A\u001b[A\n",
            "\n",
            "t:  68%|██████▊   | 32/47 [00:07<00:03,  4.61it/s, now=None]\u001b[A\u001b[A\n",
            "\n",
            "t:  70%|███████   | 33/47 [00:07<00:03,  4.61it/s, now=None]\u001b[A\u001b[A\n",
            "\n",
            "t:  72%|███████▏  | 34/47 [00:07<00:02,  4.72it/s, now=None]\u001b[A\u001b[A\n",
            "\n",
            "t:  74%|███████▍  | 35/47 [00:08<00:02,  4.75it/s, now=None]\u001b[A\u001b[A\n",
            "\n",
            "t:  77%|███████▋  | 36/47 [00:08<00:02,  4.84it/s, now=None]\u001b[A\u001b[A\n",
            "\n",
            "t:  79%|███████▊  | 37/47 [00:08<00:02,  4.93it/s, now=None]\u001b[A\u001b[A\n",
            "\n",
            "t:  81%|████████  | 38/47 [00:08<00:01,  4.86it/s, now=None]\u001b[A\u001b[A\n",
            "\n",
            "t:  83%|████████▎ | 39/47 [00:08<00:01,  5.01it/s, now=None]\u001b[A\u001b[A\n",
            "\n",
            "t:  85%|████████▌ | 40/47 [00:08<00:01,  5.35it/s, now=None]\u001b[A\u001b[A\n",
            "\n",
            "t:  87%|████████▋ | 41/47 [00:09<00:01,  5.40it/s, now=None]\u001b[A\u001b[A\n",
            "\n",
            "t:  89%|████████▉ | 42/47 [00:09<00:00,  5.26it/s, now=None]\u001b[A\u001b[A\n",
            "\n",
            "t:  91%|█████████▏| 43/47 [00:09<00:00,  5.08it/s, now=None]\u001b[A\u001b[A\n",
            "\n",
            "t:  94%|█████████▎| 44/47 [00:09<00:00,  4.98it/s, now=None]\u001b[A\u001b[A\n",
            "\n",
            "t:  96%|█████████▌| 45/47 [00:10<00:00,  4.49it/s, now=None]\u001b[A\u001b[A\n",
            "\n",
            "t:  98%|█████████▊| 46/47 [00:10<00:00,  4.69it/s, now=None]\u001b[A\u001b[A\n",
            "\n",
            "t: 100%|██████████| 47/47 [00:10<00:00,  4.26it/s, now=None]\u001b[A\u001b[A\n",
            "\n",
            "\n",
            "t:   2%|▏         | 1/47 [02:21<1:48:41, 141.76s/it, now=None]\n",
            "t:   2%|▏         | 1/47 [00:46<35:53, 46.81s/it, now=None]\u001b[A"
          ]
        },
        {
          "output_type": "stream",
          "name": "stdout",
          "text": [
            "Moviepy - Done writing frames /content/mixed_data/frame%04d.png.\n"
          ]
        }
      ]
    },
    {
      "cell_type": "code",
      "source": [
        "filepath"
      ],
      "metadata": {
        "colab": {
          "base_uri": "https://localhost:8080/",
          "height": 35
        },
        "id": "ACWYdKGUP9YU",
        "outputId": "8f00bbee-c54c-4a1a-81f6-631d1b778ca1"
      },
      "execution_count": null,
      "outputs": [
        {
          "output_type": "execute_result",
          "data": {
            "text/plain": [
              "'/content/video_data/input_vid.mp4'"
            ],
            "application/vnd.google.colaboratory.intrinsic+json": {
              "type": "string"
            }
          },
          "metadata": {},
          "execution_count": 70
        }
      ]
    },
    {
      "cell_type": "code",
      "source": [
        "output_audio_path"
      ],
      "metadata": {
        "colab": {
          "base_uri": "https://localhost:8080/",
          "height": 35
        },
        "id": "qhIVN_xhTCF1",
        "outputId": "fc579bc6-ce0a-485e-8697-250e5c2e1ccb"
      },
      "execution_count": null,
      "outputs": [
        {
          "output_type": "execute_result",
          "data": {
            "text/plain": [
              "'/content/mixed_data/output_audio.wav'"
            ],
            "application/vnd.google.colaboratory.intrinsic+json": {
              "type": "string"
            }
          },
          "metadata": {},
          "execution_count": 91
        }
      ]
    },
    {
      "cell_type": "code",
      "source": [
        "video_to_audio(filepath,output_audio_path)"
      ],
      "metadata": {
        "colab": {
          "base_uri": "https://localhost:8080/"
        },
        "id": "tUNUGX1QFeX-",
        "outputId": "02cefe73-62d7-41b8-fd9b-bd2b7fe8a306"
      },
      "execution_count": null,
      "outputs": [
        {
          "output_type": "stream",
          "name": "stderr",
          "text": [
            "\n",
            "t:   2%|▏         | 1/47 [03:30<2:41:01, 210.04s/it, now=None]\n",
            "t:   2%|▏         | 1/47 [01:55<1:28:13, 115.08s/it, now=None]\u001b[A"
          ]
        },
        {
          "output_type": "stream",
          "name": "stdout",
          "text": [
            "MoviePy - Writing audio in ./mixed_data/output_audio.wav\n"
          ]
        },
        {
          "output_type": "stream",
          "name": "stderr",
          "text": [
            "\n",
            "\n",
            "chunk:   0%|          | 0/5160 [00:00<?, ?it/s, now=None]\u001b[A\u001b[A\n",
            "\n",
            "chunk:   6%|▌         | 306/5160 [00:00<00:01, 3004.99it/s, now=None]\u001b[A\u001b[A\n",
            "\n",
            "chunk:  12%|█▏        | 607/5160 [00:00<00:01, 2896.96it/s, now=None]\u001b[A\u001b[A\n",
            "\n",
            "chunk:  17%|█▋        | 897/5160 [00:00<00:01, 2798.07it/s, now=None]\u001b[A\u001b[A\n",
            "\n",
            "chunk:  23%|██▎       | 1178/5160 [00:00<00:01, 2688.05it/s, now=None]\u001b[A\u001b[A\n",
            "\n",
            "chunk:  28%|██▊       | 1448/5160 [00:00<00:01, 2654.32it/s, now=None]\u001b[A\u001b[A\n",
            "\n",
            "chunk:  34%|███▎      | 1734/5160 [00:00<00:01, 2684.75it/s, now=None]\u001b[A\u001b[A\n",
            "\n",
            "chunk:  39%|███▉      | 2003/5160 [00:00<00:01, 2656.38it/s, now=None]\u001b[A\u001b[A\n",
            "\n",
            "chunk:  44%|████▍     | 2279/5160 [00:00<00:01, 2688.12it/s, now=None]\u001b[A\u001b[A\n",
            "\n",
            "chunk:  49%|████▉     | 2550/5160 [00:00<00:00, 2679.82it/s, now=None]\u001b[A\u001b[A\n",
            "\n",
            "chunk:  55%|█████▍    | 2819/5160 [00:01<00:00, 2674.83it/s, now=None]\u001b[A\u001b[A\n",
            "\n",
            "chunk:  60%|██████    | 3106/5160 [00:01<00:00, 2733.44it/s, now=None]\u001b[A\u001b[A\n",
            "\n",
            "chunk:  66%|██████▌   | 3380/5160 [00:01<00:00, 2703.39it/s, now=None]\u001b[A\u001b[A\n",
            "\n",
            "chunk:  71%|███████   | 3660/5160 [00:01<00:00, 2731.23it/s, now=None]\u001b[A\u001b[A\n",
            "\n",
            "chunk:  76%|███████▌  | 3934/5160 [00:01<00:00, 2691.26it/s, now=None]\u001b[A\u001b[A\n",
            "\n",
            "chunk:  82%|████████▏ | 4214/5160 [00:01<00:00, 2722.11it/s, now=None]\u001b[A\u001b[A\n",
            "\n",
            "chunk:  87%|████████▋ | 4488/5160 [00:01<00:00, 2711.27it/s, now=None]\u001b[A\u001b[A\n",
            "\n",
            "chunk:  92%|█████████▏| 4760/5160 [00:01<00:00, 2662.06it/s, now=None]\u001b[A\u001b[A\n",
            "\n",
            "chunk:  97%|█████████▋| 5027/5160 [00:01<00:00, 2661.03it/s, now=None]\u001b[A\u001b[A\n",
            "\n",
            "\n",
            "t:   2%|▏         | 1/47 [03:31<2:42:31, 211.99s/it, now=None]\n",
            "t:   2%|▏         | 1/47 [01:57<1:29:43, 117.03s/it, now=None]\u001b[A"
          ]
        },
        {
          "output_type": "stream",
          "name": "stdout",
          "text": [
            "MoviePy - Done.\n"
          ]
        }
      ]
    },
    {
      "cell_type": "code",
      "source": [
        "output_audio_path"
      ],
      "metadata": {
        "colab": {
          "base_uri": "https://localhost:8080/",
          "height": 35
        },
        "id": "Q9jGOIxfTWlO",
        "outputId": "67d11a0d-8673-46da-eece-9d77196a6570"
      },
      "execution_count": null,
      "outputs": [
        {
          "output_type": "execute_result",
          "data": {
            "text/plain": [
              "'/content/mixed_data/output_audio.wav'"
            ],
            "application/vnd.google.colaboratory.intrinsic+json": {
              "type": "string"
            }
          },
          "metadata": {},
          "execution_count": 92
        }
      ]
    },
    {
      "cell_type": "code",
      "source": [
        "text_data=audio_to_text(output_audio_path)"
      ],
      "metadata": {
        "id": "9EdPF_dAFj6N"
      },
      "execution_count": null,
      "outputs": []
    },
    {
      "cell_type": "code",
      "source": [
        "text_data"
      ],
      "metadata": {
        "colab": {
          "base_uri": "https://localhost:8080/",
          "height": 157
        },
        "id": "wK3qgVi0QLcK",
        "outputId": "66fdb394-ea80-42bf-bd05-4afc3c00d527"
      },
      "execution_count": null,
      "outputs": [
        {
          "output_type": "execute_result",
          "data": {
            "text/plain": [
              "\" Lanyard regression is a statistical technique for modeling the relationship between an output variable and one or more input variables. In layman's terms, think of it as fitting a line through some data points as shown here, so you can make predictions on unknown data, assuming there is a linear relationship between the variables. You might be familiar with the linear function y equals mx plus b, where y is the output variable, also called the dependent variable. You may also see expressed as f of x, the function of the input variable. x on the other hand, would serve as the input variable, also called the independent variable. It's likely you'll see the coefficients m and b expressed as beta 1 and beta 0 respectively. So what do the m and b coefficients do? The m or beta 1 coefficient controls the slope of the line. The b or the beta 0 controls the intercept of the line. In machine learning, we also know it as the bias. These two coefficients are what we are solving for in linear regression. We can also extend to multiple input variables, so x1, x2, x3, with beta 1, beta 2, and beta 3, and so on, acting as slopes for each of those variables. In these higher dimensions, you would visualize the linear regression as a hyperplane. So how do we fit the line to these points? Well, you'll notice that there's these differences between the points and the line, these little red segments, these are called residuals. They are the differences between the data points and the predictions the line would produce. Take each of these residuals and square them. These are the squared errors, and notice that the large of the residuals are, the more amplified area of the squares are. If we total the areas of all of these squares for a given line, we will get the sum of the squared error, and this is known as our loss function. We need to find the beta 0 and beta 1 coefficients that will minimize that sum of squared error. The coefficients can be solved with a variety of techniques ranging from matrix decomposition to gradient descent, which is depicted right here. Thankfully, a lot of libraries are available to do this for us, and we will deep dive into these topics in other videos. To validate a linear regression, there are a number of techniques. Machine learning practitioners will often take a third of the data and put it into the test data set. The remaining two thirds will become the training data set. The training data set will then be used to fit the regression line. The test data set will then be used to validate the regression line. This is done to make sure that the regression performs well on data it has not seen before. The tricks used to evaluate the linear regression vary from the R square, standard error of the estimate, prediction intervals, as well as statistical significance. These are topics we will cover in future videos. If you enjoyed this video, please like and subscribe. Look at my two O'Reilly books, Essential Math for Data Science, and getting started with SQL. Chapter five of Essential Math for Data Science actually covers linear regression and much more depth. If you want live instruction, I also do teach on the O'Reilly platform. Promotional link below. I teach classes including machine learning from scratch, probability, and SQL. Comment on what topics you would like to see next, and I will see you again on 3 Minute Data Science.\""
            ],
            "application/vnd.google.colaboratory.intrinsic+json": {
              "type": "string"
            }
          },
          "metadata": {},
          "execution_count": 84
        }
      ]
    },
    {
      "cell_type": "code",
      "source": [
        "with open(output_folder + \"output_text.txt\", \"w\") as file:\n",
        "        file.write(text_data)\n",
        "print(\"Text data saved to file\")\n",
        "file.close()\n",
        "\n",
        "\n"
      ],
      "metadata": {
        "colab": {
          "base_uri": "https://localhost:8080/"
        },
        "id": "W70bPaL0QRpe",
        "outputId": "0b4d0964-7a5b-4a78-bd83-98169d0b71c9"
      },
      "execution_count": null,
      "outputs": [
        {
          "output_type": "stream",
          "name": "stdout",
          "text": [
            "Text data saved to file\n"
          ]
        }
      ]
    },
    {
      "cell_type": "code",
      "source": [
        "os.remove(output_audio_path)\n",
        "print(\"Audio file removed\")"
      ],
      "metadata": {
        "colab": {
          "base_uri": "https://localhost:8080/"
        },
        "id": "7Jm22fkzYZ1Y",
        "outputId": "67534f16-0288-4830-d520-346b785f0624"
      },
      "execution_count": null,
      "outputs": [
        {
          "output_type": "stream",
          "name": "stdout",
          "text": [
            "Audio file removed\n"
          ]
        }
      ]
    },
    {
      "cell_type": "code",
      "source": [
        "# embedding lance db\n",
        "# llm"
      ],
      "metadata": {
        "id": "XWOzozqPRSnV"
      },
      "execution_count": null,
      "outputs": []
    },
    {
      "cell_type": "code",
      "source": [
        "!pip install llama-index-readers-file"
      ],
      "metadata": {
        "colab": {
          "base_uri": "https://localhost:8080/"
        },
        "id": "OkxuvRgkXM-U",
        "outputId": "ca12bc44-06ce-4d8a-c520-d19b06c4bf81"
      },
      "execution_count": null,
      "outputs": [
        {
          "output_type": "stream",
          "name": "stdout",
          "text": [
            "Requirement already satisfied: llama-index-readers-file in /usr/local/lib/python3.10/dist-packages (0.1.17)\n",
            "Requirement already satisfied: beautifulsoup4<5.0.0,>=4.12.3 in /usr/local/lib/python3.10/dist-packages (from llama-index-readers-file) (4.12.3)\n",
            "Requirement already satisfied: llama-index-core<0.11.0,>=0.10.1 in /usr/local/lib/python3.10/dist-packages (from llama-index-readers-file) (0.10.29)\n",
            "Requirement already satisfied: pypdf<5.0.0,>=4.0.1 in /usr/local/lib/python3.10/dist-packages (from llama-index-readers-file) (4.2.0)\n",
            "Requirement already satisfied: striprtf<0.0.27,>=0.0.26 in /usr/local/lib/python3.10/dist-packages (from llama-index-readers-file) (0.0.26)\n",
            "Requirement already satisfied: soupsieve>1.2 in /usr/local/lib/python3.10/dist-packages (from beautifulsoup4<5.0.0,>=4.12.3->llama-index-readers-file) (2.5)\n",
            "Requirement already satisfied: PyYAML>=6.0.1 in /usr/local/lib/python3.10/dist-packages (from llama-index-core<0.11.0,>=0.10.1->llama-index-readers-file) (6.0.1)\n",
            "Requirement already satisfied: SQLAlchemy[asyncio]>=1.4.49 in /usr/local/lib/python3.10/dist-packages (from llama-index-core<0.11.0,>=0.10.1->llama-index-readers-file) (2.0.29)\n",
            "Requirement already satisfied: aiohttp<4.0.0,>=3.8.6 in /usr/local/lib/python3.10/dist-packages (from llama-index-core<0.11.0,>=0.10.1->llama-index-readers-file) (3.9.3)\n",
            "Requirement already satisfied: dataclasses-json in /usr/local/lib/python3.10/dist-packages (from llama-index-core<0.11.0,>=0.10.1->llama-index-readers-file) (0.6.4)\n",
            "Requirement already satisfied: deprecated>=1.2.9.3 in /usr/local/lib/python3.10/dist-packages (from llama-index-core<0.11.0,>=0.10.1->llama-index-readers-file) (1.2.14)\n",
            "Requirement already satisfied: dirtyjson<2.0.0,>=1.0.8 in /usr/local/lib/python3.10/dist-packages (from llama-index-core<0.11.0,>=0.10.1->llama-index-readers-file) (1.0.8)\n",
            "Requirement already satisfied: fsspec>=2023.5.0 in /usr/local/lib/python3.10/dist-packages (from llama-index-core<0.11.0,>=0.10.1->llama-index-readers-file) (2023.6.0)\n",
            "Requirement already satisfied: httpx in /usr/local/lib/python3.10/dist-packages (from llama-index-core<0.11.0,>=0.10.1->llama-index-readers-file) (0.27.0)\n",
            "Requirement already satisfied: llamaindex-py-client<0.2.0,>=0.1.18 in /usr/local/lib/python3.10/dist-packages (from llama-index-core<0.11.0,>=0.10.1->llama-index-readers-file) (0.1.18)\n",
            "Requirement already satisfied: nest-asyncio<2.0.0,>=1.5.8 in /usr/local/lib/python3.10/dist-packages (from llama-index-core<0.11.0,>=0.10.1->llama-index-readers-file) (1.6.0)\n",
            "Requirement already satisfied: networkx>=3.0 in /usr/local/lib/python3.10/dist-packages (from llama-index-core<0.11.0,>=0.10.1->llama-index-readers-file) (3.3)\n",
            "Requirement already satisfied: nltk<4.0.0,>=3.8.1 in /usr/local/lib/python3.10/dist-packages (from llama-index-core<0.11.0,>=0.10.1->llama-index-readers-file) (3.8.1)\n",
            "Requirement already satisfied: numpy in /usr/local/lib/python3.10/dist-packages (from llama-index-core<0.11.0,>=0.10.1->llama-index-readers-file) (1.25.2)\n",
            "Requirement already satisfied: openai>=1.1.0 in /usr/local/lib/python3.10/dist-packages (from llama-index-core<0.11.0,>=0.10.1->llama-index-readers-file) (1.17.1)\n",
            "Requirement already satisfied: pandas in /usr/local/lib/python3.10/dist-packages (from llama-index-core<0.11.0,>=0.10.1->llama-index-readers-file) (2.0.3)\n",
            "Requirement already satisfied: pillow>=9.0.0 in /usr/local/lib/python3.10/dist-packages (from llama-index-core<0.11.0,>=0.10.1->llama-index-readers-file) (10.0.1)\n",
            "Requirement already satisfied: requests>=2.31.0 in /usr/local/lib/python3.10/dist-packages (from llama-index-core<0.11.0,>=0.10.1->llama-index-readers-file) (2.31.0)\n",
            "Requirement already satisfied: tenacity<9.0.0,>=8.2.0 in /usr/local/lib/python3.10/dist-packages (from llama-index-core<0.11.0,>=0.10.1->llama-index-readers-file) (8.2.3)\n",
            "Requirement already satisfied: tiktoken>=0.3.3 in /usr/local/lib/python3.10/dist-packages (from llama-index-core<0.11.0,>=0.10.1->llama-index-readers-file) (0.6.0)\n",
            "Requirement already satisfied: tqdm<5.0.0,>=4.66.1 in /usr/local/lib/python3.10/dist-packages (from llama-index-core<0.11.0,>=0.10.1->llama-index-readers-file) (4.66.2)\n",
            "Requirement already satisfied: typing-extensions>=4.5.0 in /usr/local/lib/python3.10/dist-packages (from llama-index-core<0.11.0,>=0.10.1->llama-index-readers-file) (4.11.0)\n",
            "Requirement already satisfied: typing-inspect>=0.8.0 in /usr/local/lib/python3.10/dist-packages (from llama-index-core<0.11.0,>=0.10.1->llama-index-readers-file) (0.9.0)\n",
            "Requirement already satisfied: wrapt in /usr/local/lib/python3.10/dist-packages (from llama-index-core<0.11.0,>=0.10.1->llama-index-readers-file) (1.14.1)\n",
            "Requirement already satisfied: aiosignal>=1.1.2 in /usr/local/lib/python3.10/dist-packages (from aiohttp<4.0.0,>=3.8.6->llama-index-core<0.11.0,>=0.10.1->llama-index-readers-file) (1.3.1)\n",
            "Requirement already satisfied: attrs>=17.3.0 in /usr/local/lib/python3.10/dist-packages (from aiohttp<4.0.0,>=3.8.6->llama-index-core<0.11.0,>=0.10.1->llama-index-readers-file) (23.2.0)\n",
            "Requirement already satisfied: frozenlist>=1.1.1 in /usr/local/lib/python3.10/dist-packages (from aiohttp<4.0.0,>=3.8.6->llama-index-core<0.11.0,>=0.10.1->llama-index-readers-file) (1.4.1)\n",
            "Requirement already satisfied: multidict<7.0,>=4.5 in /usr/local/lib/python3.10/dist-packages (from aiohttp<4.0.0,>=3.8.6->llama-index-core<0.11.0,>=0.10.1->llama-index-readers-file) (6.0.5)\n",
            "Requirement already satisfied: yarl<2.0,>=1.0 in /usr/local/lib/python3.10/dist-packages (from aiohttp<4.0.0,>=3.8.6->llama-index-core<0.11.0,>=0.10.1->llama-index-readers-file) (1.9.4)\n",
            "Requirement already satisfied: async-timeout<5.0,>=4.0 in /usr/local/lib/python3.10/dist-packages (from aiohttp<4.0.0,>=3.8.6->llama-index-core<0.11.0,>=0.10.1->llama-index-readers-file) (4.0.3)\n",
            "Requirement already satisfied: pydantic>=1.10 in /usr/local/lib/python3.10/dist-packages (from llamaindex-py-client<0.2.0,>=0.1.18->llama-index-core<0.11.0,>=0.10.1->llama-index-readers-file) (2.6.4)\n",
            "Requirement already satisfied: anyio in /usr/local/lib/python3.10/dist-packages (from httpx->llama-index-core<0.11.0,>=0.10.1->llama-index-readers-file) (3.7.1)\n",
            "Requirement already satisfied: certifi in /usr/local/lib/python3.10/dist-packages (from httpx->llama-index-core<0.11.0,>=0.10.1->llama-index-readers-file) (2024.2.2)\n",
            "Requirement already satisfied: httpcore==1.* in /usr/local/lib/python3.10/dist-packages (from httpx->llama-index-core<0.11.0,>=0.10.1->llama-index-readers-file) (1.0.5)\n",
            "Requirement already satisfied: idna in /usr/local/lib/python3.10/dist-packages (from httpx->llama-index-core<0.11.0,>=0.10.1->llama-index-readers-file) (3.6)\n",
            "Requirement already satisfied: sniffio in /usr/local/lib/python3.10/dist-packages (from httpx->llama-index-core<0.11.0,>=0.10.1->llama-index-readers-file) (1.3.1)\n",
            "Requirement already satisfied: h11<0.15,>=0.13 in /usr/local/lib/python3.10/dist-packages (from httpcore==1.*->httpx->llama-index-core<0.11.0,>=0.10.1->llama-index-readers-file) (0.14.0)\n",
            "Requirement already satisfied: click in /usr/local/lib/python3.10/dist-packages (from nltk<4.0.0,>=3.8.1->llama-index-core<0.11.0,>=0.10.1->llama-index-readers-file) (8.1.7)\n",
            "Requirement already satisfied: joblib in /usr/local/lib/python3.10/dist-packages (from nltk<4.0.0,>=3.8.1->llama-index-core<0.11.0,>=0.10.1->llama-index-readers-file) (1.4.0)\n",
            "Requirement already satisfied: regex>=2021.8.3 in /usr/local/lib/python3.10/dist-packages (from nltk<4.0.0,>=3.8.1->llama-index-core<0.11.0,>=0.10.1->llama-index-readers-file) (2023.12.25)\n",
            "Requirement already satisfied: distro<2,>=1.7.0 in /usr/lib/python3/dist-packages (from openai>=1.1.0->llama-index-core<0.11.0,>=0.10.1->llama-index-readers-file) (1.7.0)\n",
            "Requirement already satisfied: charset-normalizer<4,>=2 in /usr/local/lib/python3.10/dist-packages (from requests>=2.31.0->llama-index-core<0.11.0,>=0.10.1->llama-index-readers-file) (3.3.2)\n",
            "Requirement already satisfied: urllib3<3,>=1.21.1 in /usr/local/lib/python3.10/dist-packages (from requests>=2.31.0->llama-index-core<0.11.0,>=0.10.1->llama-index-readers-file) (2.0.7)\n",
            "Requirement already satisfied: greenlet!=0.4.17 in /usr/local/lib/python3.10/dist-packages (from SQLAlchemy[asyncio]>=1.4.49->llama-index-core<0.11.0,>=0.10.1->llama-index-readers-file) (3.0.3)\n",
            "Requirement already satisfied: mypy-extensions>=0.3.0 in /usr/local/lib/python3.10/dist-packages (from typing-inspect>=0.8.0->llama-index-core<0.11.0,>=0.10.1->llama-index-readers-file) (1.0.0)\n",
            "Requirement already satisfied: marshmallow<4.0.0,>=3.18.0 in /usr/local/lib/python3.10/dist-packages (from dataclasses-json->llama-index-core<0.11.0,>=0.10.1->llama-index-readers-file) (3.21.1)\n",
            "Requirement already satisfied: python-dateutil>=2.8.2 in /usr/local/lib/python3.10/dist-packages (from pandas->llama-index-core<0.11.0,>=0.10.1->llama-index-readers-file) (2.8.2)\n",
            "Requirement already satisfied: pytz>=2020.1 in /usr/local/lib/python3.10/dist-packages (from pandas->llama-index-core<0.11.0,>=0.10.1->llama-index-readers-file) (2023.4)\n",
            "Requirement already satisfied: tzdata>=2022.1 in /usr/local/lib/python3.10/dist-packages (from pandas->llama-index-core<0.11.0,>=0.10.1->llama-index-readers-file) (2024.1)\n",
            "Requirement already satisfied: exceptiongroup in /usr/local/lib/python3.10/dist-packages (from anyio->httpx->llama-index-core<0.11.0,>=0.10.1->llama-index-readers-file) (1.2.0)\n",
            "Requirement already satisfied: packaging>=17.0 in /usr/local/lib/python3.10/dist-packages (from marshmallow<4.0.0,>=3.18.0->dataclasses-json->llama-index-core<0.11.0,>=0.10.1->llama-index-readers-file) (24.0)\n",
            "Requirement already satisfied: annotated-types>=0.4.0 in /usr/local/lib/python3.10/dist-packages (from pydantic>=1.10->llamaindex-py-client<0.2.0,>=0.1.18->llama-index-core<0.11.0,>=0.10.1->llama-index-readers-file) (0.6.0)\n",
            "Requirement already satisfied: pydantic-core==2.16.3 in /usr/local/lib/python3.10/dist-packages (from pydantic>=1.10->llamaindex-py-client<0.2.0,>=0.1.18->llama-index-core<0.11.0,>=0.10.1->llama-index-readers-file) (2.16.3)\n",
            "Requirement already satisfied: six>=1.5 in /usr/local/lib/python3.10/dist-packages (from python-dateutil>=2.8.2->pandas->llama-index-core<0.11.0,>=0.10.1->llama-index-readers-file) (1.16.0)\n"
          ]
        }
      ]
    },
    {
      "cell_type": "code",
      "source": [
        "from llama_index.core.indices import MultiModalVectorStoreIndex\n",
        "from llama_index.core import SimpleDirectoryReader\n",
        "from llama_index.core import StorageContext"
      ],
      "metadata": {
        "id": "9WR3_c7PXT-P"
      },
      "execution_count": null,
      "outputs": []
    },
    {
      "cell_type": "code",
      "source": [
        "from llama_index.vector_stores.lancedb import LanceDBVectorStore"
      ],
      "metadata": {
        "id": "5bd2H_CaXkt8"
      },
      "execution_count": null,
      "outputs": []
    },
    {
      "cell_type": "code",
      "source": [
        "text_store=LanceDBVectorStore(uri=\"lancedb\",table_name=\"text_collection\")\n",
        "image_store=LanceDBVectorStore(uri=\"lancedb\",table_name=\"image_collection\")"
      ],
      "metadata": {
        "id": "FN_njfNqX83Z"
      },
      "execution_count": null,
      "outputs": []
    },
    {
      "cell_type": "code",
      "source": [
        "storage_context=StorageContext.from_defaults(vector_store=text_store,image_store=image_store)"
      ],
      "metadata": {
        "id": "ieXOmtfXYfj2"
      },
      "execution_count": null,
      "outputs": []
    },
    {
      "cell_type": "code",
      "source": [
        "output_folder"
      ],
      "metadata": {
        "colab": {
          "base_uri": "https://localhost:8080/",
          "height": 35
        },
        "id": "5DTgG47aZAS1",
        "outputId": "a5ae7f67-4d01-4017-9ef2-9718589e56fc"
      },
      "execution_count": null,
      "outputs": [
        {
          "output_type": "execute_result",
          "data": {
            "text/plain": [
              "'/content/mixed_data/'"
            ],
            "application/vnd.google.colaboratory.intrinsic+json": {
              "type": "string"
            }
          },
          "metadata": {},
          "execution_count": 100
        }
      ]
    },
    {
      "cell_type": "code",
      "source": [
        "documents=SimpleDirectoryReader(output_folder).load_data()"
      ],
      "metadata": {
        "id": "Ch32EG90Y3N2"
      },
      "execution_count": null,
      "outputs": []
    },
    {
      "cell_type": "code",
      "source": [
        "documents"
      ],
      "metadata": {
        "colab": {
          "base_uri": "https://localhost:8080/"
        },
        "id": "XnwicO_TZHvF",
        "outputId": "51ca3a5d-88c8-4971-d10a-4efdc8beb8fb"
      },
      "execution_count": null,
      "outputs": [
        {
          "output_type": "execute_result",
          "data": {
            "text/plain": [
              "[ImageDocument(id_='853db80e-b896-4bdb-a9d2-2117aa4e84e7', embedding=None, metadata={'file_path': '/content/mixed_data/frame0000.png', 'file_name': 'frame0000.png', 'file_type': 'image/png', 'file_size': 2759, 'creation_date': '2024-04-14', 'last_modified_date': '2024-04-14'}, excluded_embed_metadata_keys=['file_name', 'file_type', 'file_size', 'creation_date', 'last_modified_date', 'last_accessed_date'], excluded_llm_metadata_keys=['file_name', 'file_type', 'file_size', 'creation_date', 'last_modified_date', 'last_accessed_date'], relationships={}, text='', start_char_idx=None, end_char_idx=None, text_template='{metadata_str}\\n\\n{content}', metadata_template='{key}: {value}', metadata_seperator='\\n', image=None, image_path='/content/mixed_data/frame0000.png', image_url=None, image_mimetype=None, text_embedding=None),\n",
              " ImageDocument(id_='78cf546d-0f8c-49a4-917f-724c94ca9d66', embedding=None, metadata={'file_path': '/content/mixed_data/frame0001.png', 'file_name': 'frame0001.png', 'file_type': 'image/png', 'file_size': 48172, 'creation_date': '2024-04-14', 'last_modified_date': '2024-04-14'}, excluded_embed_metadata_keys=['file_name', 'file_type', 'file_size', 'creation_date', 'last_modified_date', 'last_accessed_date'], excluded_llm_metadata_keys=['file_name', 'file_type', 'file_size', 'creation_date', 'last_modified_date', 'last_accessed_date'], relationships={}, text='', start_char_idx=None, end_char_idx=None, text_template='{metadata_str}\\n\\n{content}', metadata_template='{key}: {value}', metadata_seperator='\\n', image=None, image_path='/content/mixed_data/frame0001.png', image_url=None, image_mimetype=None, text_embedding=None),\n",
              " ImageDocument(id_='0a491439-c7ad-4691-8c02-01b51eed01a1', embedding=None, metadata={'file_path': '/content/mixed_data/frame0002.png', 'file_name': 'frame0002.png', 'file_type': 'image/png', 'file_size': 83490, 'creation_date': '2024-04-14', 'last_modified_date': '2024-04-14'}, excluded_embed_metadata_keys=['file_name', 'file_type', 'file_size', 'creation_date', 'last_modified_date', 'last_accessed_date'], excluded_llm_metadata_keys=['file_name', 'file_type', 'file_size', 'creation_date', 'last_modified_date', 'last_accessed_date'], relationships={}, text='', start_char_idx=None, end_char_idx=None, text_template='{metadata_str}\\n\\n{content}', metadata_template='{key}: {value}', metadata_seperator='\\n', image=None, image_path='/content/mixed_data/frame0002.png', image_url=None, image_mimetype=None, text_embedding=None),\n",
              " ImageDocument(id_='2998b14c-7e40-4571-a1f7-e745427573d0', embedding=None, metadata={'file_path': '/content/mixed_data/frame0003.png', 'file_name': 'frame0003.png', 'file_type': 'image/png', 'file_size': 61264, 'creation_date': '2024-04-14', 'last_modified_date': '2024-04-14'}, excluded_embed_metadata_keys=['file_name', 'file_type', 'file_size', 'creation_date', 'last_modified_date', 'last_accessed_date'], excluded_llm_metadata_keys=['file_name', 'file_type', 'file_size', 'creation_date', 'last_modified_date', 'last_accessed_date'], relationships={}, text='', start_char_idx=None, end_char_idx=None, text_template='{metadata_str}\\n\\n{content}', metadata_template='{key}: {value}', metadata_seperator='\\n', image=None, image_path='/content/mixed_data/frame0003.png', image_url=None, image_mimetype=None, text_embedding=None),\n",
              " ImageDocument(id_='686a4ac3-4fe2-4260-aa01-72dbf7b90827', embedding=None, metadata={'file_path': '/content/mixed_data/frame0004.png', 'file_name': 'frame0004.png', 'file_type': 'image/png', 'file_size': 32749, 'creation_date': '2024-04-14', 'last_modified_date': '2024-04-14'}, excluded_embed_metadata_keys=['file_name', 'file_type', 'file_size', 'creation_date', 'last_modified_date', 'last_accessed_date'], excluded_llm_metadata_keys=['file_name', 'file_type', 'file_size', 'creation_date', 'last_modified_date', 'last_accessed_date'], relationships={}, text='', start_char_idx=None, end_char_idx=None, text_template='{metadata_str}\\n\\n{content}', metadata_template='{key}: {value}', metadata_seperator='\\n', image=None, image_path='/content/mixed_data/frame0004.png', image_url=None, image_mimetype=None, text_embedding=None),\n",
              " ImageDocument(id_='0cb10471-91dc-49e6-ad5e-8809d8b28c60', embedding=None, metadata={'file_path': '/content/mixed_data/frame0005.png', 'file_name': 'frame0005.png', 'file_type': 'image/png', 'file_size': 56183, 'creation_date': '2024-04-14', 'last_modified_date': '2024-04-14'}, excluded_embed_metadata_keys=['file_name', 'file_type', 'file_size', 'creation_date', 'last_modified_date', 'last_accessed_date'], excluded_llm_metadata_keys=['file_name', 'file_type', 'file_size', 'creation_date', 'last_modified_date', 'last_accessed_date'], relationships={}, text='', start_char_idx=None, end_char_idx=None, text_template='{metadata_str}\\n\\n{content}', metadata_template='{key}: {value}', metadata_seperator='\\n', image=None, image_path='/content/mixed_data/frame0005.png', image_url=None, image_mimetype=None, text_embedding=None),\n",
              " ImageDocument(id_='b2ee47b5-6452-4f6c-828e-504b19570413', embedding=None, metadata={'file_path': '/content/mixed_data/frame0006.png', 'file_name': 'frame0006.png', 'file_type': 'image/png', 'file_size': 55069, 'creation_date': '2024-04-14', 'last_modified_date': '2024-04-14'}, excluded_embed_metadata_keys=['file_name', 'file_type', 'file_size', 'creation_date', 'last_modified_date', 'last_accessed_date'], excluded_llm_metadata_keys=['file_name', 'file_type', 'file_size', 'creation_date', 'last_modified_date', 'last_accessed_date'], relationships={}, text='', start_char_idx=None, end_char_idx=None, text_template='{metadata_str}\\n\\n{content}', metadata_template='{key}: {value}', metadata_seperator='\\n', image=None, image_path='/content/mixed_data/frame0006.png', image_url=None, image_mimetype=None, text_embedding=None),\n",
              " ImageDocument(id_='12b7703b-a321-495d-881e-9cc64b8acc6d', embedding=None, metadata={'file_path': '/content/mixed_data/frame0007.png', 'file_name': 'frame0007.png', 'file_type': 'image/png', 'file_size': 106037, 'creation_date': '2024-04-14', 'last_modified_date': '2024-04-14'}, excluded_embed_metadata_keys=['file_name', 'file_type', 'file_size', 'creation_date', 'last_modified_date', 'last_accessed_date'], excluded_llm_metadata_keys=['file_name', 'file_type', 'file_size', 'creation_date', 'last_modified_date', 'last_accessed_date'], relationships={}, text='', start_char_idx=None, end_char_idx=None, text_template='{metadata_str}\\n\\n{content}', metadata_template='{key}: {value}', metadata_seperator='\\n', image=None, image_path='/content/mixed_data/frame0007.png', image_url=None, image_mimetype=None, text_embedding=None),\n",
              " ImageDocument(id_='04db6385-7e8a-4b31-b035-60b1f796c4a4', embedding=None, metadata={'file_path': '/content/mixed_data/frame0008.png', 'file_name': 'frame0008.png', 'file_type': 'image/png', 'file_size': 16438, 'creation_date': '2024-04-14', 'last_modified_date': '2024-04-14'}, excluded_embed_metadata_keys=['file_name', 'file_type', 'file_size', 'creation_date', 'last_modified_date', 'last_accessed_date'], excluded_llm_metadata_keys=['file_name', 'file_type', 'file_size', 'creation_date', 'last_modified_date', 'last_accessed_date'], relationships={}, text='', start_char_idx=None, end_char_idx=None, text_template='{metadata_str}\\n\\n{content}', metadata_template='{key}: {value}', metadata_seperator='\\n', image=None, image_path='/content/mixed_data/frame0008.png', image_url=None, image_mimetype=None, text_embedding=None),\n",
              " ImageDocument(id_='17b05bce-dd9e-49ec-9a72-b7aa60e8c7d5', embedding=None, metadata={'file_path': '/content/mixed_data/frame0009.png', 'file_name': 'frame0009.png', 'file_type': 'image/png', 'file_size': 19626, 'creation_date': '2024-04-14', 'last_modified_date': '2024-04-14'}, excluded_embed_metadata_keys=['file_name', 'file_type', 'file_size', 'creation_date', 'last_modified_date', 'last_accessed_date'], excluded_llm_metadata_keys=['file_name', 'file_type', 'file_size', 'creation_date', 'last_modified_date', 'last_accessed_date'], relationships={}, text='', start_char_idx=None, end_char_idx=None, text_template='{metadata_str}\\n\\n{content}', metadata_template='{key}: {value}', metadata_seperator='\\n', image=None, image_path='/content/mixed_data/frame0009.png', image_url=None, image_mimetype=None, text_embedding=None),\n",
              " ImageDocument(id_='21904724-118b-44f2-8f71-bb3508587d93', embedding=None, metadata={'file_path': '/content/mixed_data/frame0010.png', 'file_name': 'frame0010.png', 'file_type': 'image/png', 'file_size': 19161, 'creation_date': '2024-04-14', 'last_modified_date': '2024-04-14'}, excluded_embed_metadata_keys=['file_name', 'file_type', 'file_size', 'creation_date', 'last_modified_date', 'last_accessed_date'], excluded_llm_metadata_keys=['file_name', 'file_type', 'file_size', 'creation_date', 'last_modified_date', 'last_accessed_date'], relationships={}, text='', start_char_idx=None, end_char_idx=None, text_template='{metadata_str}\\n\\n{content}', metadata_template='{key}: {value}', metadata_seperator='\\n', image=None, image_path='/content/mixed_data/frame0010.png', image_url=None, image_mimetype=None, text_embedding=None),\n",
              " ImageDocument(id_='e6470ee0-946d-4a47-a5ee-6ef6b0555cee', embedding=None, metadata={'file_path': '/content/mixed_data/frame0011.png', 'file_name': 'frame0011.png', 'file_type': 'image/png', 'file_size': 12756, 'creation_date': '2024-04-14', 'last_modified_date': '2024-04-14'}, excluded_embed_metadata_keys=['file_name', 'file_type', 'file_size', 'creation_date', 'last_modified_date', 'last_accessed_date'], excluded_llm_metadata_keys=['file_name', 'file_type', 'file_size', 'creation_date', 'last_modified_date', 'last_accessed_date'], relationships={}, text='', start_char_idx=None, end_char_idx=None, text_template='{metadata_str}\\n\\n{content}', metadata_template='{key}: {value}', metadata_seperator='\\n', image=None, image_path='/content/mixed_data/frame0011.png', image_url=None, image_mimetype=None, text_embedding=None),\n",
              " ImageDocument(id_='cd0c01d1-08b3-45dd-9130-d1fbf98d7f62', embedding=None, metadata={'file_path': '/content/mixed_data/frame0012.png', 'file_name': 'frame0012.png', 'file_type': 'image/png', 'file_size': 12022, 'creation_date': '2024-04-14', 'last_modified_date': '2024-04-14'}, excluded_embed_metadata_keys=['file_name', 'file_type', 'file_size', 'creation_date', 'last_modified_date', 'last_accessed_date'], excluded_llm_metadata_keys=['file_name', 'file_type', 'file_size', 'creation_date', 'last_modified_date', 'last_accessed_date'], relationships={}, text='', start_char_idx=None, end_char_idx=None, text_template='{metadata_str}\\n\\n{content}', metadata_template='{key}: {value}', metadata_seperator='\\n', image=None, image_path='/content/mixed_data/frame0012.png', image_url=None, image_mimetype=None, text_embedding=None),\n",
              " ImageDocument(id_='37c18e12-df98-4c4b-9bca-46cf94a87ab2', embedding=None, metadata={'file_path': '/content/mixed_data/frame0013.png', 'file_name': 'frame0013.png', 'file_type': 'image/png', 'file_size': 77130, 'creation_date': '2024-04-14', 'last_modified_date': '2024-04-14'}, excluded_embed_metadata_keys=['file_name', 'file_type', 'file_size', 'creation_date', 'last_modified_date', 'last_accessed_date'], excluded_llm_metadata_keys=['file_name', 'file_type', 'file_size', 'creation_date', 'last_modified_date', 'last_accessed_date'], relationships={}, text='', start_char_idx=None, end_char_idx=None, text_template='{metadata_str}\\n\\n{content}', metadata_template='{key}: {value}', metadata_seperator='\\n', image=None, image_path='/content/mixed_data/frame0013.png', image_url=None, image_mimetype=None, text_embedding=None),\n",
              " ImageDocument(id_='b8c453c6-cfad-459c-95a7-0a74b7902989', embedding=None, metadata={'file_path': '/content/mixed_data/frame0014.png', 'file_name': 'frame0014.png', 'file_type': 'image/png', 'file_size': 75105, 'creation_date': '2024-04-14', 'last_modified_date': '2024-04-14'}, excluded_embed_metadata_keys=['file_name', 'file_type', 'file_size', 'creation_date', 'last_modified_date', 'last_accessed_date'], excluded_llm_metadata_keys=['file_name', 'file_type', 'file_size', 'creation_date', 'last_modified_date', 'last_accessed_date'], relationships={}, text='', start_char_idx=None, end_char_idx=None, text_template='{metadata_str}\\n\\n{content}', metadata_template='{key}: {value}', metadata_seperator='\\n', image=None, image_path='/content/mixed_data/frame0014.png', image_url=None, image_mimetype=None, text_embedding=None),\n",
              " ImageDocument(id_='1cac502d-b773-41b8-ba5b-c1ed93da802a', embedding=None, metadata={'file_path': '/content/mixed_data/frame0015.png', 'file_name': 'frame0015.png', 'file_type': 'image/png', 'file_size': 71384, 'creation_date': '2024-04-14', 'last_modified_date': '2024-04-14'}, excluded_embed_metadata_keys=['file_name', 'file_type', 'file_size', 'creation_date', 'last_modified_date', 'last_accessed_date'], excluded_llm_metadata_keys=['file_name', 'file_type', 'file_size', 'creation_date', 'last_modified_date', 'last_accessed_date'], relationships={}, text='', start_char_idx=None, end_char_idx=None, text_template='{metadata_str}\\n\\n{content}', metadata_template='{key}: {value}', metadata_seperator='\\n', image=None, image_path='/content/mixed_data/frame0015.png', image_url=None, image_mimetype=None, text_embedding=None),\n",
              " ImageDocument(id_='7fb7a7b1-28e3-4e2b-950a-0234857ec1e9', embedding=None, metadata={'file_path': '/content/mixed_data/frame0016.png', 'file_name': 'frame0016.png', 'file_type': 'image/png', 'file_size': 89287, 'creation_date': '2024-04-14', 'last_modified_date': '2024-04-14'}, excluded_embed_metadata_keys=['file_name', 'file_type', 'file_size', 'creation_date', 'last_modified_date', 'last_accessed_date'], excluded_llm_metadata_keys=['file_name', 'file_type', 'file_size', 'creation_date', 'last_modified_date', 'last_accessed_date'], relationships={}, text='', start_char_idx=None, end_char_idx=None, text_template='{metadata_str}\\n\\n{content}', metadata_template='{key}: {value}', metadata_seperator='\\n', image=None, image_path='/content/mixed_data/frame0016.png', image_url=None, image_mimetype=None, text_embedding=None),\n",
              " ImageDocument(id_='6ef72a75-e23d-43a4-b170-734f771e7bf3', embedding=None, metadata={'file_path': '/content/mixed_data/frame0017.png', 'file_name': 'frame0017.png', 'file_type': 'image/png', 'file_size': 18400, 'creation_date': '2024-04-14', 'last_modified_date': '2024-04-14'}, excluded_embed_metadata_keys=['file_name', 'file_type', 'file_size', 'creation_date', 'last_modified_date', 'last_accessed_date'], excluded_llm_metadata_keys=['file_name', 'file_type', 'file_size', 'creation_date', 'last_modified_date', 'last_accessed_date'], relationships={}, text='', start_char_idx=None, end_char_idx=None, text_template='{metadata_str}\\n\\n{content}', metadata_template='{key}: {value}', metadata_seperator='\\n', image=None, image_path='/content/mixed_data/frame0017.png', image_url=None, image_mimetype=None, text_embedding=None),\n",
              " ImageDocument(id_='74a744db-446c-45d0-ac40-6d1c99e91d8b', embedding=None, metadata={'file_path': '/content/mixed_data/frame0018.png', 'file_name': 'frame0018.png', 'file_type': 'image/png', 'file_size': 33208, 'creation_date': '2024-04-14', 'last_modified_date': '2024-04-14'}, excluded_embed_metadata_keys=['file_name', 'file_type', 'file_size', 'creation_date', 'last_modified_date', 'last_accessed_date'], excluded_llm_metadata_keys=['file_name', 'file_type', 'file_size', 'creation_date', 'last_modified_date', 'last_accessed_date'], relationships={}, text='', start_char_idx=None, end_char_idx=None, text_template='{metadata_str}\\n\\n{content}', metadata_template='{key}: {value}', metadata_seperator='\\n', image=None, image_path='/content/mixed_data/frame0018.png', image_url=None, image_mimetype=None, text_embedding=None),\n",
              " ImageDocument(id_='7e716eb4-9f1b-4cd2-990b-bbe97440027d', embedding=None, metadata={'file_path': '/content/mixed_data/frame0019.png', 'file_name': 'frame0019.png', 'file_type': 'image/png', 'file_size': 480515, 'creation_date': '2024-04-14', 'last_modified_date': '2024-04-14'}, excluded_embed_metadata_keys=['file_name', 'file_type', 'file_size', 'creation_date', 'last_modified_date', 'last_accessed_date'], excluded_llm_metadata_keys=['file_name', 'file_type', 'file_size', 'creation_date', 'last_modified_date', 'last_accessed_date'], relationships={}, text='', start_char_idx=None, end_char_idx=None, text_template='{metadata_str}\\n\\n{content}', metadata_template='{key}: {value}', metadata_seperator='\\n', image=None, image_path='/content/mixed_data/frame0019.png', image_url=None, image_mimetype=None, text_embedding=None),\n",
              " ImageDocument(id_='4c8ce0ea-22e7-42d3-8637-45c2c309bf5d', embedding=None, metadata={'file_path': '/content/mixed_data/frame0020.png', 'file_name': 'frame0020.png', 'file_type': 'image/png', 'file_size': 61079, 'creation_date': '2024-04-14', 'last_modified_date': '2024-04-14'}, excluded_embed_metadata_keys=['file_name', 'file_type', 'file_size', 'creation_date', 'last_modified_date', 'last_accessed_date'], excluded_llm_metadata_keys=['file_name', 'file_type', 'file_size', 'creation_date', 'last_modified_date', 'last_accessed_date'], relationships={}, text='', start_char_idx=None, end_char_idx=None, text_template='{metadata_str}\\n\\n{content}', metadata_template='{key}: {value}', metadata_seperator='\\n', image=None, image_path='/content/mixed_data/frame0020.png', image_url=None, image_mimetype=None, text_embedding=None),\n",
              " ImageDocument(id_='c51975ac-b43e-4a1e-9c01-64451146e299', embedding=None, metadata={'file_path': '/content/mixed_data/frame0021.png', 'file_name': 'frame0021.png', 'file_type': 'image/png', 'file_size': 58073, 'creation_date': '2024-04-14', 'last_modified_date': '2024-04-14'}, excluded_embed_metadata_keys=['file_name', 'file_type', 'file_size', 'creation_date', 'last_modified_date', 'last_accessed_date'], excluded_llm_metadata_keys=['file_name', 'file_type', 'file_size', 'creation_date', 'last_modified_date', 'last_accessed_date'], relationships={}, text='', start_char_idx=None, end_char_idx=None, text_template='{metadata_str}\\n\\n{content}', metadata_template='{key}: {value}', metadata_seperator='\\n', image=None, image_path='/content/mixed_data/frame0021.png', image_url=None, image_mimetype=None, text_embedding=None),\n",
              " ImageDocument(id_='92b136fb-89b6-40c9-8b29-b2da7247bbbc', embedding=None, metadata={'file_path': '/content/mixed_data/frame0022.png', 'file_name': 'frame0022.png', 'file_type': 'image/png', 'file_size': 58073, 'creation_date': '2024-04-14', 'last_modified_date': '2024-04-14'}, excluded_embed_metadata_keys=['file_name', 'file_type', 'file_size', 'creation_date', 'last_modified_date', 'last_accessed_date'], excluded_llm_metadata_keys=['file_name', 'file_type', 'file_size', 'creation_date', 'last_modified_date', 'last_accessed_date'], relationships={}, text='', start_char_idx=None, end_char_idx=None, text_template='{metadata_str}\\n\\n{content}', metadata_template='{key}: {value}', metadata_seperator='\\n', image=None, image_path='/content/mixed_data/frame0022.png', image_url=None, image_mimetype=None, text_embedding=None),\n",
              " ImageDocument(id_='fc5c1b8d-e4e0-4b75-b388-2b5c6d8b67bc', embedding=None, metadata={'file_path': '/content/mixed_data/frame0023.png', 'file_name': 'frame0023.png', 'file_type': 'image/png', 'file_size': 64512, 'creation_date': '2024-04-14', 'last_modified_date': '2024-04-14'}, excluded_embed_metadata_keys=['file_name', 'file_type', 'file_size', 'creation_date', 'last_modified_date', 'last_accessed_date'], excluded_llm_metadata_keys=['file_name', 'file_type', 'file_size', 'creation_date', 'last_modified_date', 'last_accessed_date'], relationships={}, text='', start_char_idx=None, end_char_idx=None, text_template='{metadata_str}\\n\\n{content}', metadata_template='{key}: {value}', metadata_seperator='\\n', image=None, image_path='/content/mixed_data/frame0023.png', image_url=None, image_mimetype=None, text_embedding=None),\n",
              " ImageDocument(id_='1fd90994-8414-494f-9548-ef391284c003', embedding=None, metadata={'file_path': '/content/mixed_data/frame0024.png', 'file_name': 'frame0024.png', 'file_type': 'image/png', 'file_size': 74971, 'creation_date': '2024-04-14', 'last_modified_date': '2024-04-14'}, excluded_embed_metadata_keys=['file_name', 'file_type', 'file_size', 'creation_date', 'last_modified_date', 'last_accessed_date'], excluded_llm_metadata_keys=['file_name', 'file_type', 'file_size', 'creation_date', 'last_modified_date', 'last_accessed_date'], relationships={}, text='', start_char_idx=None, end_char_idx=None, text_template='{metadata_str}\\n\\n{content}', metadata_template='{key}: {value}', metadata_seperator='\\n', image=None, image_path='/content/mixed_data/frame0024.png', image_url=None, image_mimetype=None, text_embedding=None),\n",
              " ImageDocument(id_='75b3b748-5234-427e-8911-33c1f347f0c7', embedding=None, metadata={'file_path': '/content/mixed_data/frame0025.png', 'file_name': 'frame0025.png', 'file_type': 'image/png', 'file_size': 83377, 'creation_date': '2024-04-14', 'last_modified_date': '2024-04-14'}, excluded_embed_metadata_keys=['file_name', 'file_type', 'file_size', 'creation_date', 'last_modified_date', 'last_accessed_date'], excluded_llm_metadata_keys=['file_name', 'file_type', 'file_size', 'creation_date', 'last_modified_date', 'last_accessed_date'], relationships={}, text='', start_char_idx=None, end_char_idx=None, text_template='{metadata_str}\\n\\n{content}', metadata_template='{key}: {value}', metadata_seperator='\\n', image=None, image_path='/content/mixed_data/frame0025.png', image_url=None, image_mimetype=None, text_embedding=None),\n",
              " ImageDocument(id_='2003130f-2865-443b-af18-a745e87ed5c5', embedding=None, metadata={'file_path': '/content/mixed_data/frame0026.png', 'file_name': 'frame0026.png', 'file_type': 'image/png', 'file_size': 71661, 'creation_date': '2024-04-14', 'last_modified_date': '2024-04-14'}, excluded_embed_metadata_keys=['file_name', 'file_type', 'file_size', 'creation_date', 'last_modified_date', 'last_accessed_date'], excluded_llm_metadata_keys=['file_name', 'file_type', 'file_size', 'creation_date', 'last_modified_date', 'last_accessed_date'], relationships={}, text='', start_char_idx=None, end_char_idx=None, text_template='{metadata_str}\\n\\n{content}', metadata_template='{key}: {value}', metadata_seperator='\\n', image=None, image_path='/content/mixed_data/frame0026.png', image_url=None, image_mimetype=None, text_embedding=None),\n",
              " ImageDocument(id_='333ed9f8-6365-4f88-a945-3f6140844d26', embedding=None, metadata={'file_path': '/content/mixed_data/frame0027.png', 'file_name': 'frame0027.png', 'file_type': 'image/png', 'file_size': 70238, 'creation_date': '2024-04-14', 'last_modified_date': '2024-04-14'}, excluded_embed_metadata_keys=['file_name', 'file_type', 'file_size', 'creation_date', 'last_modified_date', 'last_accessed_date'], excluded_llm_metadata_keys=['file_name', 'file_type', 'file_size', 'creation_date', 'last_modified_date', 'last_accessed_date'], relationships={}, text='', start_char_idx=None, end_char_idx=None, text_template='{metadata_str}\\n\\n{content}', metadata_template='{key}: {value}', metadata_seperator='\\n', image=None, image_path='/content/mixed_data/frame0027.png', image_url=None, image_mimetype=None, text_embedding=None),\n",
              " ImageDocument(id_='759281d9-bab3-4dc1-b9e4-769ebb6c3c83', embedding=None, metadata={'file_path': '/content/mixed_data/frame0028.png', 'file_name': 'frame0028.png', 'file_type': 'image/png', 'file_size': 65903, 'creation_date': '2024-04-14', 'last_modified_date': '2024-04-14'}, excluded_embed_metadata_keys=['file_name', 'file_type', 'file_size', 'creation_date', 'last_modified_date', 'last_accessed_date'], excluded_llm_metadata_keys=['file_name', 'file_type', 'file_size', 'creation_date', 'last_modified_date', 'last_accessed_date'], relationships={}, text='', start_char_idx=None, end_char_idx=None, text_template='{metadata_str}\\n\\n{content}', metadata_template='{key}: {value}', metadata_seperator='\\n', image=None, image_path='/content/mixed_data/frame0028.png', image_url=None, image_mimetype=None, text_embedding=None),\n",
              " ImageDocument(id_='4dffe8cc-6996-4a73-9ef9-82b88c170046', embedding=None, metadata={'file_path': '/content/mixed_data/frame0029.png', 'file_name': 'frame0029.png', 'file_type': 'image/png', 'file_size': 214295, 'creation_date': '2024-04-14', 'last_modified_date': '2024-04-14'}, excluded_embed_metadata_keys=['file_name', 'file_type', 'file_size', 'creation_date', 'last_modified_date', 'last_accessed_date'], excluded_llm_metadata_keys=['file_name', 'file_type', 'file_size', 'creation_date', 'last_modified_date', 'last_accessed_date'], relationships={}, text='', start_char_idx=None, end_char_idx=None, text_template='{metadata_str}\\n\\n{content}', metadata_template='{key}: {value}', metadata_seperator='\\n', image=None, image_path='/content/mixed_data/frame0029.png', image_url=None, image_mimetype=None, text_embedding=None),\n",
              " ImageDocument(id_='f51f7c1a-e6d8-4abe-872a-03444daa766c', embedding=None, metadata={'file_path': '/content/mixed_data/frame0030.png', 'file_name': 'frame0030.png', 'file_type': 'image/png', 'file_size': 276264, 'creation_date': '2024-04-14', 'last_modified_date': '2024-04-14'}, excluded_embed_metadata_keys=['file_name', 'file_type', 'file_size', 'creation_date', 'last_modified_date', 'last_accessed_date'], excluded_llm_metadata_keys=['file_name', 'file_type', 'file_size', 'creation_date', 'last_modified_date', 'last_accessed_date'], relationships={}, text='', start_char_idx=None, end_char_idx=None, text_template='{metadata_str}\\n\\n{content}', metadata_template='{key}: {value}', metadata_seperator='\\n', image=None, image_path='/content/mixed_data/frame0030.png', image_url=None, image_mimetype=None, text_embedding=None),\n",
              " ImageDocument(id_='80ed0c7f-b924-4773-b465-f864b5833a08', embedding=None, metadata={'file_path': '/content/mixed_data/frame0031.png', 'file_name': 'frame0031.png', 'file_type': 'image/png', 'file_size': 275569, 'creation_date': '2024-04-14', 'last_modified_date': '2024-04-14'}, excluded_embed_metadata_keys=['file_name', 'file_type', 'file_size', 'creation_date', 'last_modified_date', 'last_accessed_date'], excluded_llm_metadata_keys=['file_name', 'file_type', 'file_size', 'creation_date', 'last_modified_date', 'last_accessed_date'], relationships={}, text='', start_char_idx=None, end_char_idx=None, text_template='{metadata_str}\\n\\n{content}', metadata_template='{key}: {value}', metadata_seperator='\\n', image=None, image_path='/content/mixed_data/frame0031.png', image_url=None, image_mimetype=None, text_embedding=None),\n",
              " ImageDocument(id_='19092eb2-a799-4c22-8cd0-294e0a91c253', embedding=None, metadata={'file_path': '/content/mixed_data/frame0032.png', 'file_name': 'frame0032.png', 'file_type': 'image/png', 'file_size': 268317, 'creation_date': '2024-04-14', 'last_modified_date': '2024-04-14'}, excluded_embed_metadata_keys=['file_name', 'file_type', 'file_size', 'creation_date', 'last_modified_date', 'last_accessed_date'], excluded_llm_metadata_keys=['file_name', 'file_type', 'file_size', 'creation_date', 'last_modified_date', 'last_accessed_date'], relationships={}, text='', start_char_idx=None, end_char_idx=None, text_template='{metadata_str}\\n\\n{content}', metadata_template='{key}: {value}', metadata_seperator='\\n', image=None, image_path='/content/mixed_data/frame0032.png', image_url=None, image_mimetype=None, text_embedding=None),\n",
              " ImageDocument(id_='ddad0380-7b82-4739-a3af-3d00d6acd8c5', embedding=None, metadata={'file_path': '/content/mixed_data/frame0033.png', 'file_name': 'frame0033.png', 'file_type': 'image/png', 'file_size': 128474, 'creation_date': '2024-04-14', 'last_modified_date': '2024-04-14'}, excluded_embed_metadata_keys=['file_name', 'file_type', 'file_size', 'creation_date', 'last_modified_date', 'last_accessed_date'], excluded_llm_metadata_keys=['file_name', 'file_type', 'file_size', 'creation_date', 'last_modified_date', 'last_accessed_date'], relationships={}, text='', start_char_idx=None, end_char_idx=None, text_template='{metadata_str}\\n\\n{content}', metadata_template='{key}: {value}', metadata_seperator='\\n', image=None, image_path='/content/mixed_data/frame0033.png', image_url=None, image_mimetype=None, text_embedding=None),\n",
              " ImageDocument(id_='5fc83c2c-f660-4e4a-ba7a-67a53a86b5f5', embedding=None, metadata={'file_path': '/content/mixed_data/frame0034.png', 'file_name': 'frame0034.png', 'file_type': 'image/png', 'file_size': 32376, 'creation_date': '2024-04-14', 'last_modified_date': '2024-04-14'}, excluded_embed_metadata_keys=['file_name', 'file_type', 'file_size', 'creation_date', 'last_modified_date', 'last_accessed_date'], excluded_llm_metadata_keys=['file_name', 'file_type', 'file_size', 'creation_date', 'last_modified_date', 'last_accessed_date'], relationships={}, text='', start_char_idx=None, end_char_idx=None, text_template='{metadata_str}\\n\\n{content}', metadata_template='{key}: {value}', metadata_seperator='\\n', image=None, image_path='/content/mixed_data/frame0034.png', image_url=None, image_mimetype=None, text_embedding=None),\n",
              " ImageDocument(id_='383698f6-38a1-4e0f-9b0e-2a13e67a68ab', embedding=None, metadata={'file_path': '/content/mixed_data/frame0035.png', 'file_name': 'frame0035.png', 'file_type': 'image/png', 'file_size': 48350, 'creation_date': '2024-04-14', 'last_modified_date': '2024-04-14'}, excluded_embed_metadata_keys=['file_name', 'file_type', 'file_size', 'creation_date', 'last_modified_date', 'last_accessed_date'], excluded_llm_metadata_keys=['file_name', 'file_type', 'file_size', 'creation_date', 'last_modified_date', 'last_accessed_date'], relationships={}, text='', start_char_idx=None, end_char_idx=None, text_template='{metadata_str}\\n\\n{content}', metadata_template='{key}: {value}', metadata_seperator='\\n', image=None, image_path='/content/mixed_data/frame0035.png', image_url=None, image_mimetype=None, text_embedding=None),\n",
              " ImageDocument(id_='f0274912-fb90-4be5-8577-a5b0c584b244', embedding=None, metadata={'file_path': '/content/mixed_data/frame0036.png', 'file_name': 'frame0036.png', 'file_type': 'image/png', 'file_size': 81497, 'creation_date': '2024-04-14', 'last_modified_date': '2024-04-14'}, excluded_embed_metadata_keys=['file_name', 'file_type', 'file_size', 'creation_date', 'last_modified_date', 'last_accessed_date'], excluded_llm_metadata_keys=['file_name', 'file_type', 'file_size', 'creation_date', 'last_modified_date', 'last_accessed_date'], relationships={}, text='', start_char_idx=None, end_char_idx=None, text_template='{metadata_str}\\n\\n{content}', metadata_template='{key}: {value}', metadata_seperator='\\n', image=None, image_path='/content/mixed_data/frame0036.png', image_url=None, image_mimetype=None, text_embedding=None),\n",
              " ImageDocument(id_='21d9029f-6751-4695-bba7-f2d5d6a3b051', embedding=None, metadata={'file_path': '/content/mixed_data/frame0037.png', 'file_name': 'frame0037.png', 'file_type': 'image/png', 'file_size': 79921, 'creation_date': '2024-04-14', 'last_modified_date': '2024-04-14'}, excluded_embed_metadata_keys=['file_name', 'file_type', 'file_size', 'creation_date', 'last_modified_date', 'last_accessed_date'], excluded_llm_metadata_keys=['file_name', 'file_type', 'file_size', 'creation_date', 'last_modified_date', 'last_accessed_date'], relationships={}, text='', start_char_idx=None, end_char_idx=None, text_template='{metadata_str}\\n\\n{content}', metadata_template='{key}: {value}', metadata_seperator='\\n', image=None, image_path='/content/mixed_data/frame0037.png', image_url=None, image_mimetype=None, text_embedding=None),\n",
              " ImageDocument(id_='6cd93511-e026-4c3c-8aa3-b203c9f46623', embedding=None, metadata={'file_path': '/content/mixed_data/frame0038.png', 'file_name': 'frame0038.png', 'file_type': 'image/png', 'file_size': 76762, 'creation_date': '2024-04-14', 'last_modified_date': '2024-04-14'}, excluded_embed_metadata_keys=['file_name', 'file_type', 'file_size', 'creation_date', 'last_modified_date', 'last_accessed_date'], excluded_llm_metadata_keys=['file_name', 'file_type', 'file_size', 'creation_date', 'last_modified_date', 'last_accessed_date'], relationships={}, text='', start_char_idx=None, end_char_idx=None, text_template='{metadata_str}\\n\\n{content}', metadata_template='{key}: {value}', metadata_seperator='\\n', image=None, image_path='/content/mixed_data/frame0038.png', image_url=None, image_mimetype=None, text_embedding=None),\n",
              " ImageDocument(id_='952930af-f2ec-4a08-9746-17d66bc18246', embedding=None, metadata={'file_path': '/content/mixed_data/frame0039.png', 'file_name': 'frame0039.png', 'file_type': 'image/png', 'file_size': 98337, 'creation_date': '2024-04-14', 'last_modified_date': '2024-04-14'}, excluded_embed_metadata_keys=['file_name', 'file_type', 'file_size', 'creation_date', 'last_modified_date', 'last_accessed_date'], excluded_llm_metadata_keys=['file_name', 'file_type', 'file_size', 'creation_date', 'last_modified_date', 'last_accessed_date'], relationships={}, text='', start_char_idx=None, end_char_idx=None, text_template='{metadata_str}\\n\\n{content}', metadata_template='{key}: {value}', metadata_seperator='\\n', image=None, image_path='/content/mixed_data/frame0039.png', image_url=None, image_mimetype=None, text_embedding=None),\n",
              " ImageDocument(id_='e260775c-f151-4796-90df-750c93199e1b', embedding=None, metadata={'file_path': '/content/mixed_data/frame0040.png', 'file_name': 'frame0040.png', 'file_type': 'image/png', 'file_size': 266352, 'creation_date': '2024-04-14', 'last_modified_date': '2024-04-14'}, excluded_embed_metadata_keys=['file_name', 'file_type', 'file_size', 'creation_date', 'last_modified_date', 'last_accessed_date'], excluded_llm_metadata_keys=['file_name', 'file_type', 'file_size', 'creation_date', 'last_modified_date', 'last_accessed_date'], relationships={}, text='', start_char_idx=None, end_char_idx=None, text_template='{metadata_str}\\n\\n{content}', metadata_template='{key}: {value}', metadata_seperator='\\n', image=None, image_path='/content/mixed_data/frame0040.png', image_url=None, image_mimetype=None, text_embedding=None),\n",
              " ImageDocument(id_='673ef0df-4929-4375-99d8-16488bf229ff', embedding=None, metadata={'file_path': '/content/mixed_data/frame0041.png', 'file_name': 'frame0041.png', 'file_type': 'image/png', 'file_size': 266334, 'creation_date': '2024-04-14', 'last_modified_date': '2024-04-14'}, excluded_embed_metadata_keys=['file_name', 'file_type', 'file_size', 'creation_date', 'last_modified_date', 'last_accessed_date'], excluded_llm_metadata_keys=['file_name', 'file_type', 'file_size', 'creation_date', 'last_modified_date', 'last_accessed_date'], relationships={}, text='', start_char_idx=None, end_char_idx=None, text_template='{metadata_str}\\n\\n{content}', metadata_template='{key}: {value}', metadata_seperator='\\n', image=None, image_path='/content/mixed_data/frame0041.png', image_url=None, image_mimetype=None, text_embedding=None),\n",
              " ImageDocument(id_='2529c9dc-c06d-4534-b467-bba2644a76ad', embedding=None, metadata={'file_path': '/content/mixed_data/frame0042.png', 'file_name': 'frame0042.png', 'file_type': 'image/png', 'file_size': 266345, 'creation_date': '2024-04-14', 'last_modified_date': '2024-04-14'}, excluded_embed_metadata_keys=['file_name', 'file_type', 'file_size', 'creation_date', 'last_modified_date', 'last_accessed_date'], excluded_llm_metadata_keys=['file_name', 'file_type', 'file_size', 'creation_date', 'last_modified_date', 'last_accessed_date'], relationships={}, text='', start_char_idx=None, end_char_idx=None, text_template='{metadata_str}\\n\\n{content}', metadata_template='{key}: {value}', metadata_seperator='\\n', image=None, image_path='/content/mixed_data/frame0042.png', image_url=None, image_mimetype=None, text_embedding=None),\n",
              " ImageDocument(id_='8dca60dc-01a9-4a95-b8d8-6e33c649b229', embedding=None, metadata={'file_path': '/content/mixed_data/frame0043.png', 'file_name': 'frame0043.png', 'file_type': 'image/png', 'file_size': 408080, 'creation_date': '2024-04-14', 'last_modified_date': '2024-04-14'}, excluded_embed_metadata_keys=['file_name', 'file_type', 'file_size', 'creation_date', 'last_modified_date', 'last_accessed_date'], excluded_llm_metadata_keys=['file_name', 'file_type', 'file_size', 'creation_date', 'last_modified_date', 'last_accessed_date'], relationships={}, text='', start_char_idx=None, end_char_idx=None, text_template='{metadata_str}\\n\\n{content}', metadata_template='{key}: {value}', metadata_seperator='\\n', image=None, image_path='/content/mixed_data/frame0043.png', image_url=None, image_mimetype=None, text_embedding=None),\n",
              " ImageDocument(id_='f5410f85-f02e-4316-857d-4afe025fedd1', embedding=None, metadata={'file_path': '/content/mixed_data/frame0044.png', 'file_name': 'frame0044.png', 'file_type': 'image/png', 'file_size': 266346, 'creation_date': '2024-04-14', 'last_modified_date': '2024-04-14'}, excluded_embed_metadata_keys=['file_name', 'file_type', 'file_size', 'creation_date', 'last_modified_date', 'last_accessed_date'], excluded_llm_metadata_keys=['file_name', 'file_type', 'file_size', 'creation_date', 'last_modified_date', 'last_accessed_date'], relationships={}, text='', start_char_idx=None, end_char_idx=None, text_template='{metadata_str}\\n\\n{content}', metadata_template='{key}: {value}', metadata_seperator='\\n', image=None, image_path='/content/mixed_data/frame0044.png', image_url=None, image_mimetype=None, text_embedding=None),\n",
              " ImageDocument(id_='de07fb5e-f073-4a4a-bffe-d6ad34219ac1', embedding=None, metadata={'file_path': '/content/mixed_data/frame0045.png', 'file_name': 'frame0045.png', 'file_type': 'image/png', 'file_size': 266334, 'creation_date': '2024-04-14', 'last_modified_date': '2024-04-14'}, excluded_embed_metadata_keys=['file_name', 'file_type', 'file_size', 'creation_date', 'last_modified_date', 'last_accessed_date'], excluded_llm_metadata_keys=['file_name', 'file_type', 'file_size', 'creation_date', 'last_modified_date', 'last_accessed_date'], relationships={}, text='', start_char_idx=None, end_char_idx=None, text_template='{metadata_str}\\n\\n{content}', metadata_template='{key}: {value}', metadata_seperator='\\n', image=None, image_path='/content/mixed_data/frame0045.png', image_url=None, image_mimetype=None, text_embedding=None),\n",
              " ImageDocument(id_='8fc8b4b1-e2f9-48e1-9963-2adacfe53dde', embedding=None, metadata={'file_path': '/content/mixed_data/frame0046.png', 'file_name': 'frame0046.png', 'file_type': 'image/png', 'file_size': 2820, 'creation_date': '2024-04-14', 'last_modified_date': '2024-04-14'}, excluded_embed_metadata_keys=['file_name', 'file_type', 'file_size', 'creation_date', 'last_modified_date', 'last_accessed_date'], excluded_llm_metadata_keys=['file_name', 'file_type', 'file_size', 'creation_date', 'last_modified_date', 'last_accessed_date'], relationships={}, text='', start_char_idx=None, end_char_idx=None, text_template='{metadata_str}\\n\\n{content}', metadata_template='{key}: {value}', metadata_seperator='\\n', image=None, image_path='/content/mixed_data/frame0046.png', image_url=None, image_mimetype=None, text_embedding=None),\n",
              " Document(id_='09c0191a-19c1-4e39-9fdc-c18e60a34ca4', embedding=None, metadata={'file_path': '/content/mixed_data/output_text.txt', 'file_name': 'output_text.txt', 'file_type': 'text/plain', 'file_size': 3400, 'creation_date': '2024-04-14', 'last_modified_date': '2024-04-14'}, excluded_embed_metadata_keys=['file_name', 'file_type', 'file_size', 'creation_date', 'last_modified_date', 'last_accessed_date'], excluded_llm_metadata_keys=['file_name', 'file_type', 'file_size', 'creation_date', 'last_modified_date', 'last_accessed_date'], relationships={}, text=\" Lanyard regression is a statistical technique for modeling the relationship between an output variable and one or more input variables. In layman's terms, think of it as fitting a line through some data points as shown here, so you can make predictions on unknown data, assuming there is a linear relationship between the variables. You might be familiar with the linear function y equals mx plus b, where y is the output variable, also called the dependent variable. You may also see expressed as f of x, the function of the input variable. x on the other hand, would serve as the input variable, also called the independent variable. It's likely you'll see the coefficients m and b expressed as beta 1 and beta 0 respectively. So what do the m and b coefficients do? The m or beta 1 coefficient controls the slope of the line. The b or the beta 0 controls the intercept of the line. In machine learning, we also know it as the bias. These two coefficients are what we are solving for in linear regression. We can also extend to multiple input variables, so x1, x2, x3, with beta 1, beta 2, and beta 3, and so on, acting as slopes for each of those variables. In these higher dimensions, you would visualize the linear regression as a hyperplane. So how do we fit the line to these points? Well, you'll notice that there's these differences between the points and the line, these little red segments, these are called residuals. They are the differences between the data points and the predictions the line would produce. Take each of these residuals and square them. These are the squared errors, and notice that the large of the residuals are, the more amplified area of the squares are. If we total the areas of all of these squares for a given line, we will get the sum of the squared error, and this is known as our loss function. We need to find the beta 0 and beta 1 coefficients that will minimize that sum of squared error. The coefficients can be solved with a variety of techniques ranging from matrix decomposition to gradient descent, which is depicted right here. Thankfully, a lot of libraries are available to do this for us, and we will deep dive into these topics in other videos. To validate a linear regression, there are a number of techniques. Machine learning practitioners will often take a third of the data and put it into the test data set. The remaining two thirds will become the training data set. The training data set will then be used to fit the regression line. The test data set will then be used to validate the regression line. This is done to make sure that the regression performs well on data it has not seen before. The tricks used to evaluate the linear regression vary from the R square, standard error of the estimate, prediction intervals, as well as statistical significance. These are topics we will cover in future videos. If you enjoyed this video, please like and subscribe. Look at my two O'Reilly books, Essential Math for Data Science, and getting started with SQL. Chapter five of Essential Math for Data Science actually covers linear regression and much more depth. If you want live instruction, I also do teach on the O'Reilly platform. Promotional link below. I teach classes including machine learning from scratch, probability, and SQL. Comment on what topics you would like to see next, and I will see you again on 3 Minute Data Science.\", start_char_idx=None, end_char_idx=None, text_template='{metadata_str}\\n\\n{content}', metadata_template='{key}: {value}', metadata_seperator='\\n')]"
            ]
          },
          "metadata": {},
          "execution_count": 102
        }
      ]
    },
    {
      "cell_type": "code",
      "source": [
        "index = MultiModalVectorStoreIndex.from_documents(documents,storage_context=storage_context)"
      ],
      "metadata": {
        "colab": {
          "base_uri": "https://localhost:8080/"
        },
        "id": "AwTfvUfKZI3N",
        "outputId": "4d7eb838-d041-44a7-cfe1-7066e048dff3"
      },
      "execution_count": null,
      "outputs": [
        {
          "output_type": "stream",
          "name": "stderr",
          "text": [
            "100%|███████████████████████████████████████| 338M/338M [00:12<00:00, 27.8MiB/s]\n"
          ]
        }
      ]
    },
    {
      "cell_type": "code",
      "source": [
        "retriever_engine=index.as_retriever(imilarity_top_k=3, image_similarity_top_k=3)"
      ],
      "metadata": {
        "id": "6C3MQsSoZfEF"
      },
      "execution_count": null,
      "outputs": []
    },
    {
      "cell_type": "markdown",
      "source": [
        "# RAG"
      ],
      "metadata": {
        "id": "bRd-FZlQaSDy"
      }
    },
    {
      "cell_type": "code",
      "source": [
        "import json\n",
        "metadata_str=json.dumps(metadata_vid)"
      ],
      "metadata": {
        "id": "6C8FU_Frav0G"
      },
      "execution_count": null,
      "outputs": []
    },
    {
      "cell_type": "code",
      "source": [
        "qa_tmpl_str=(\n",
        "    \"Given the provided information, including relevant images and retrieved context from the video, \\\n",
        "    accurately and precisely answer the query without any additional prior knowledge.\\n\"\n",
        "\n",
        "    \"---------------------\\n\"\n",
        "    \"Context: {context_str}\\n\"\n",
        "    \"Metadata for video: {metadata_str} \\n\"\n",
        "\n",
        "    \"---------------------\\n\"\n",
        "    \"Query: {query_str}\\n\"\n",
        "    \"Answer: \"\n",
        ")"
      ],
      "metadata": {
        "id": "Gdmv61G7aBV6"
      },
      "execution_count": null,
      "outputs": []
    },
    {
      "cell_type": "code",
      "source": [
        "from llama_index.core.response.notebook_utils import display_source_node\n",
        "from llama_index.core.schema import ImageNode"
      ],
      "metadata": {
        "id": "Y8HG926xa9iD"
      },
      "execution_count": null,
      "outputs": []
    },
    {
      "cell_type": "code",
      "source": [
        "query_str=\"what is linear regression in machine learning?\""
      ],
      "metadata": {
        "id": "86gwR3VDbMq-"
      },
      "execution_count": null,
      "outputs": []
    },
    {
      "cell_type": "code",
      "source": [
        "retrieval_results=retriever_engine.retrieve(query_str)"
      ],
      "metadata": {
        "id": "t1UdrwiqbFLI"
      },
      "execution_count": null,
      "outputs": []
    },
    {
      "cell_type": "code",
      "source": [
        "retrieval_results"
      ],
      "metadata": {
        "colab": {
          "base_uri": "https://localhost:8080/"
        },
        "id": "T9AzdZk8braf",
        "outputId": "f4a2adbf-52db-42d8-bb4b-533455160cfa"
      },
      "execution_count": null,
      "outputs": [
        {
          "output_type": "execute_result",
          "data": {
            "text/plain": [
              "[NodeWithScore(node=TextNode(id_='71fddc3a-eb16-449e-aeec-f12625256544', embedding=[-0.011831889860332012, 0.0038376476150006056, -0.001850233180448413, -0.011338036507368088, -0.010082827880978584, 0.0011677560396492481, 0.0016093084122985601, 0.00849838275462389, -0.03259428218007088, -0.042553648352622986, -0.006865925621241331, 0.025419699028134346, -0.001395819941535592, 0.02853371575474739, 0.007867349311709404, -0.016804711893200874, 0.02399301342666149, 0.010727579705417156, 0.0436236634850502, -0.020138218998908997, -0.030728617683053017, 0.012943058274686337, -0.013231138698756695, -0.01629714109003544, -0.014417757280170918, -0.019520903006196022, 0.030344508588314056, -0.019685519859194756, 0.006968811620026827, -0.0025601466186344624, 0.012744145467877388, -0.006931086536496878, -0.009931928478181362, -0.019891291856765747, -0.010508089326322079, -0.02037142775952816, 0.011777017265558243, -0.001055438886396587, 0.023869551718235016, -0.01819024421274662, 0.021263105794787407, 0.020138218998908997, -0.0037107549142092466, -0.021139642223715782, 0.006934516131877899, -0.004355506971478462, 0.024637766182422638, -0.05640896037220955, -0.02273094654083252, 0.02371865138411522, 0.0033952377270907164, 0.011187137104570866, -0.03135965019464493, -0.01664009504020214, 0.0002259204920846969, 0.016845867037773132, 0.015323154628276825, 0.013025366701185703, 0.0005808771820738912, -0.025323672220110893, -0.011921057477593422, -0.0009979940950870514, -0.009767310693860054, -0.017161384224891663, 0.01713394746184349, -0.008985376916825771, 0.013937623240053654, 0.024624047800898552, -0.007407791446894407, 0.033335063606500626, -0.023389415815472603, 0.008923645131289959, 0.013656401075422764, 0.013711273670196533, 0.015446617268025875, 0.008313188329339027, -0.03371917083859444, -0.007044261321425438, 0.010672707110643387, 0.012325742281973362, 0.009767310693860054, -0.005041413940489292, 0.0007574981427751482, 0.023814678192138672, 0.023032745346426964, -0.030207328498363495, -0.003438106970861554, 0.034185588359832764, -0.013176266103982925, -0.02814960852265358, -0.007839912548661232, 0.004499547649174929, 0.024047886952757835, -0.00914999470114708, 0.009280316531658173, 0.0019788406789302826, 0.010652130469679832, 0.020083345472812653, 0.007695872336626053, -0.010562961921095848, 0.004516695160418749, -0.0025515726301819086, -0.02727164700627327, -0.009424356743693352, -0.04205979406833649, -0.006941375322639942, -0.004166882950812578, -0.016667531803250313, 0.017188820987939835, 0.0023835254833102226, -0.036325614899396896, 0.04351391643285751, -0.016489194706082344, -0.035667143762111664, 0.013196843676269054, -0.00452012475579977, 0.01456865668296814, -0.024335967376828194, -0.021125923842191696, 0.005603857338428497, 0.025927269831299782, 0.01174958050251007, 0.026860103011131287, -0.008470946922898293, 0.01551520824432373, 0.000653754745144397, -0.001841659308411181, 0.0001713694800855592, -0.010302317328751087, -0.01836857944726944, -0.0037519093602895737, 0.009794746525585651, -0.006114857736974955, 0.018066780641674995, -0.013045944273471832, 0.015021354891359806, 0.002280639484524727, -0.0004441245400812477, -0.0399746373295784, -0.03437764197587967, 0.030810926109552383, 0.009458652697503567, -0.0103640491142869, 0.0010905915405601263, -0.008930504322052002, 0.023938141763210297, 0.00581305893138051, 0.02054976299405098, -0.0032014693133533, -0.00650925375521183, 0.00662242854014039, -0.02041258104145527, 0.010912774130702019, -0.0012792159104719758, -0.0049968296661973, -0.010350330732762814, 0.016489194706082344, 0.013896468095481396, -0.024047886952757835, -0.007016825024038553, 0.012380614876747131, 0.03673715889453888, -0.01032975409179926, 0.01030917651951313, 0.02709331177175045, 0.03876744210720062, 0.0005491540068760514, -0.01681843027472496, -0.004863078240305185, 0.012943058274686337, 0.006800764240324497, 0.03964540362358093, -0.05042785406112671, 0.02691497653722763, 0.006018830928951502, -0.007750744931399822, -0.0032477679196745157, -0.003463828470557928, -0.02579008974134922, -0.019644366577267647, -0.005926233250647783, 0.01677727699279785, 0.01208567526191473, 0.02639368735253811, -0.005391226150095463, -0.0006571842823177576, 0.004616151563823223, -0.016900738701224327, -0.015172254294157028, -0.0313870869576931, 0.022456582635641098, 0.021894140169024467, -0.007894785143435001, -0.019685519859194756, -0.6255468726158142, -0.0022737805265933275, 0.003228905377909541, -0.0010460076155140996, -0.0030660026241093874, -0.005010548047721386, 0.005881649442017078, -0.029603730887174606, -0.011811312288045883, 0.04359622672200203, -0.0020234244875609875, 0.0024401128757745028, 0.005267763044685125, -0.03514585644006729, -0.002035427838563919, -0.014061085879802704, -0.018492043018341064, -0.012572668492794037, -0.011413486674427986, 0.02068694494664669, -0.04074285551905632, 0.02952142059803009, -0.016722403466701508, 0.03561227396130562, -0.007421509828418493, 0.011722144670784473, 0.009513525292277336, 0.011653553694486618, 0.034816619008779526, 0.012161124497652054, -0.014637247659265995, 0.009931928478181362, 0.01646175980567932, 0.009657565504312515, 0.04038618132472038, -0.027463702484965324, -0.0072294557467103004, 0.022209657356142998, 0.026311378926038742, 0.044391877949237823, -0.025213927030563354, -0.03292351961135864, 0.012291447259485722, -0.0008959655533544719, 0.004931668750941753, -0.012826453894376755, 0.022086193785071373, 0.008107416331768036, 0.0009422642178833485, -0.03338993340730667, -0.015021354891359806, -0.00927345734089613, -0.010576680302619934, -0.03037194535136223, 0.009877055883407593, -0.01344376988708973, 0.04008438438177109, -0.01632457785308361, 0.023060180246829987, -0.017079075798392296, -0.014211985282599926, -0.029603730887174606, -0.02111220546066761, -0.012161124497652054, -0.009342048317193985, 0.025639189407229424, 0.021688368171453476, 0.0032169020269066095, 0.0016204543644562364, -0.012188561260700226, 0.01794331707060337, 0.02399301342666149, 0.006656724028289318, -0.02603701502084732, -0.01419826690107584, 0.024678921326994896, 0.018601788207888603, 0.024939564988017082, -0.0011120261624455452, 0.009753592312335968, 0.004304063972085714, 0.011008801870048046, -0.010508089326322079, -0.002966546220704913, 0.03264915570616722, 0.017037920653820038, -0.008621846325695515, 0.01364954188466072, 0.0017850720323622227, 0.021345414221286774, 0.005720461253076792, 0.007044261321425438, -0.027504855766892433, -0.03723101317882538, 0.01189362071454525, 0.019054485484957695, 0.0003939676098525524, 0.001025430392473936, 0.022785818204283714, -0.025913553312420845, -0.020316554233431816, 0.022250810638070107, 0.0012252007145434618, 0.0046710241585969925, 0.014349167235195637, 0.02167464978992939, 0.018341142684221268, 0.005250615067780018, 0.003228905377909541, -0.05061991140246391, -0.01096078846603632, -0.01688702218234539, 0.004729326348751783, 0.0034672580659389496, 0.015350590460002422, -0.02814960852265358, -2.8159682187833823e-05, -0.014061085879802704, 0.010638412088155746, -0.012956776656210423, 0.041291579604148865, 0.0067870463244616985, 0.0175180546939373, -0.019273975864052773, -0.001391533063724637, 0.000552583544049412, 0.018341142684221268, -0.000763499818276614, -0.008717873133718967, -0.01945231296122074, -0.0011703282361850142, -0.019081922248005867, 0.014061085879802704, -0.028341662138700485, -0.004893943667411804, -0.010556102730333805, 0.01439032144844532, -0.012936199083924294, 0.0019325419561937451, -0.010823606513440609, -0.03459713235497475, -0.010466935113072395, 0.010062250308692455, 0.005274622235447168, -0.03890462592244148, -0.030179891735315323, -0.02041258104145527, 0.01681843027472496, 0.015583798289299011, -0.0007442086935043335, -0.02635253220796585, -0.007983952760696411, -0.007983952760696411, 0.01439032144844532, -0.0021880422718822956, 0.004509835969656706, -0.023910705000162125, -0.006687589455395937, -0.03788948059082031, -0.009856478311121464, -0.0365176685154438, 0.015419181436300278, -0.015926752239465714, -0.005456387065351009, 0.010316035710275173, -0.024720074608922005, 0.0031140160281211138, 0.02772434614598751, -0.030426818877458572, -0.026023298501968384, 0.011852466501295567, -0.014431475661695004, -0.01661265827715397, 0.01185932569205761, 0.0044755409471690655, 0.02097502537071705, -0.016475478187203407, 0.0003174461598973721, -0.0008428077562712133, -0.03775230050086975, 0.003902808763086796, 0.004163453355431557, -0.03199068456888199, -0.00837492011487484, 0.030563998967409134, 0.018601788207888603, 0.023512879386544228, 0.000548296608030796, 0.00953410193324089, -0.0007673580548726022, 0.0014181119622662663, 0.02695612981915474, -0.02927449531853199, 0.020042192190885544, 0.007833053357899189, 0.004321211948990822, -0.0010117122437804937, 0.0014223988400772214, -0.014349167235195637, 0.013121393509209156, -0.007078556343913078, 0.01143406331539154, 0.008909926749765873, -0.01412967685610056, 0.005785622633993626, -0.022881845012307167, 0.012360037304461002, -0.018423452973365784, 0.021715804934501648, -0.012339460663497448, 0.019836420193314552, -0.02657202258706093, -0.012332601472735405, -0.042416464537382126, 0.0036696004681289196, 0.03703895956277847, 0.005977676250040531, 0.047409866005182266, -0.00967814214527607, 0.011392909102141857, -0.016544068232178688, 0.004180600866675377, 0.021798113361001015, 0.005449528340250254, -0.00642008613795042, -0.004321211948990822, -0.0009697005152702332, 0.006149152759462595, 0.008189724758267403, -0.01875268667936325, 0.008388638496398926, 0.019040768966078758, 0.014349167235195637, 0.004060567356646061, 0.00823087990283966, -0.0033077846746891737, 0.01611880585551262, -0.008443511091172695, 0.04935784265398979, -0.016694966703653336, -0.028451407328248024, 0.014047367498278618, 0.005463246256113052, -0.01589931547641754, 0.025817526504397392, 0.00875902734696865, 0.02776550129055977, 0.021935293450951576, 0.008031967096030712, 0.0035358488094061613, -0.005535266362130642, 0.037066396325826645, -0.013827878050506115, 0.012476641684770584, -0.0009422642178833485, -0.04038618132472038, 0.007346060127019882, -0.006917368620634079, 0.037450503557920456, 0.019616929814219475, 0.014609810896217823, -0.0017173386877402663, 0.0010648700408637524, -0.0022566327825188637, 0.011811312288045883, 0.0048665073700249195, -0.012215997092425823, -0.00048656502622179687, -0.022195938974618912, -0.001430115313269198, 0.005991394631564617, -0.0048802257515490055, 0.003378090215846896, -0.010707002133131027, 0.021798113361001015, 0.002386955078691244, 0.03174375742673874, -0.006924227345734835, 0.014554938301444054, 0.01226401049643755, -0.02583124302327633, -0.022607482969760895, 0.04258108511567116, -0.0039233858697116375, -0.0055146892555058, -0.010857902467250824, -0.009369484148919582, -0.001135175465606153, -0.0043280706740915775, -0.0012792159104719758, 0.014609810896217823, -0.0027196197770535946, -0.009973082691431046, -0.025982143357396126, -0.003995405975729227, 0.029576294124126434, 0.03769742697477341, -0.0025790089275687933, 0.015035073272883892, -0.009108840487897396, 0.009808464907109737, 0.013683836907148361, -0.008614987134933472, -0.006684160325676203, 0.043184682726860046, -0.0041703125461936, -0.00869043730199337, 0.0036524527240544558, 0.0021588911768049, -0.005576421041041613, 0.0045441314578056335, 0.00255500222556293, -0.008189724758267403, 0.007839912548661232, 0.024884693324565887, 0.010466935113072395, 0.007791899144649506, 0.01263440027832985, 0.02374608814716339, 0.025145336985588074, 0.004832212347537279, -0.010069109499454498, -0.0010888767428696156, 0.027573445811867714, 0.047656793147325516, 0.03607868775725365, -0.006282904651015997, 0.020700661465525627, -0.0296586025506258, -0.011406627483665943, -0.02203132025897503, -0.02589983493089676, 0.008971658535301685, 0.038685135543346405, -0.010583539493381977, 0.011283163912594318, 0.015775851905345917, 0.003429533215239644, 0.007332341745495796, 0.00010256447421852499, 0.012696132063865662, -0.03734075650572777, 0.0008616701816208661, -0.0007750744698569179, -0.023773523047566414, -0.015707261860370636, 0.017888445407152176, -0.002935680327937007, 0.000962841440923512, 0.011962211690843105, 0.024829819798469543, 0.033060699701309204, -0.012058238498866558, -0.03934360295534134, 0.006718455348163843, 0.022017603740096092, -0.007977094501256943, 0.0016598940128460526, -0.007462664041668177, 0.03550252690911293, 0.015309436246752739, -0.00012164125655544922, 0.004911091644316912, 0.0040434193797409534, 0.017367156222462654, 0.011667272076010704, 0.006886502727866173, 0.030097583308815956, 0.0017344864318147302, -0.010953929275274277, 0.03328019008040428, -0.01131060067564249, 0.010892197489738464, -0.002798499073833227, -0.006749321240931749, 0.004581856541335583, 0.003851365763694048, -0.024130195379257202, 0.0207280982285738, -0.009595833718776703, 0.01847832463681698, -0.008326906710863113, -0.0055318367667496204, -0.02470635622739792, -0.03075605258345604, -0.03223761171102524, 0.05767102912068367, -0.018149089068174362, -0.0035427077673375607, 0.0025001296307891607, -0.00497968215495348, -0.006132005248218775, -0.034706875681877136, -0.0034758318215608597, -0.015748417004942894, -0.02293671853840351, -0.03347224369645119, -0.022442864254117012, -0.001130888587795198, 0.024445712566375732, 0.009835900738835335, 0.007051120046526194, -0.009877055883407593, -0.0005101430579088628, -0.007044261321425438, 0.0016058789333328605, 0.0002424251288175583, -0.03212786838412285, -0.002412676578387618, 0.00373476161621511, 0.0007454947917722166, 0.0005341498181223869, -0.02850627899169922, 0.0121405478566885, -0.012428628280758858, -0.01113912370055914, -0.028753206133842468, -0.01893102377653122, 0.012051379308104515, 0.006505824625492096, -0.004070855677127838, -0.002184612676501274, 0.03429533168673515, -0.03753281012177467, 0.004331500269472599, -0.00019784118921961635, -0.006872784346342087, -0.012833313085138798, 0.01444519404321909, 0.004482399672269821, -0.003419244661927223, 0.002244629431515932, -0.005987965036183596, 0.007503818720579147, 0.01284017227590084, -0.011159701272845268, 0.01812165416777134, 0.012003365904092789, 0.02522764541208744, 0.008608127944171429, 0.02509046532213688, 0.026613177731633186, 0.0375053733587265, -0.02185298502445221, -0.007373496424406767, -0.013457488268613815, 0.026133041828870773, -0.0020199951250106096, 0.0016015919391065836, 0.018697815015912056, -0.01664009504020214, -0.01614624261856079, -0.03835589811205864, -0.0013975347392261028, -0.005603857338428497, 0.026434842497110367, -0.008368060924112797, -0.023019026964902878, -0.05865873396396637, 0.0008153715170919895, -0.03857538849115372, -0.0055009713396430016, -0.022826973348855972, -0.009540961124002934, 0.004242332652211189, 0.012943058274686337, 0.021084770560264587, -0.022648636251688004, 0.02349916100502014, -0.02065950818359852, -0.03037194535136223, 0.000164831944857724, -0.006156011950224638, 0.012092533521354198, 0.011969070881605148, 0.028835514560341835, -0.03670972213149071, -0.03649023175239563, -0.007812476716935635, -0.008923645131289959, 0.011193996295332909, -0.005353501066565514, 0.015474054031074047, 0.0058850790373981, 0.03429533168673515, -0.005655300337821245, 0.02044001780450344, 0.011790734715759754, -0.00018519478908274323, 0.0007802188047207892, -0.014925328083336353, -0.01888986863195896, -0.007407791446894407, -0.004626440349966288, 0.010576680302619934, -0.00814857054501772, 0.02814960852265358, -0.015295717865228653, -0.0069893887266516685, 0.03201812133193016, -0.0052094608545303345, -0.0052917697466909885, -0.011200855486094952, -0.02026168256998062, -0.011255728080868721, 0.03135965019464493, -0.006752750836312771, 0.025913553312420845, -0.04000207409262657, 6.687589484499767e-05, -0.0027882105205208063, 0.005483823362737894, 0.006022260058671236, -0.0038582247216254473, 0.02079668827354908, 0.009733014740049839, 0.01562495343387127, 0.003522130660712719, 0.009163713082671165, -0.020385144278407097, -0.02480238303542137, -0.028341662138700485, -0.0020457166247069836, 0.02284069173038006, -0.0017387733096256852, 0.03509098291397095, 0.00479448726400733, -0.00881389994174242, -0.017326001077890396, -0.0040434193797409534, 0.005655300337821245, -0.005651870742440224, 0.01562495343387127, -0.020892716944217682, -0.0009251165902242064, -0.0350361093878746, -0.0343502052128315, -0.006629287730902433, -0.00459214486181736, 0.03103041648864746, -0.002244629431515932, 0.01780613698065281, -0.022319402545690536, -0.0002527137112338096, 0.007757604122161865, 0.0063549247570335865, 0.02825935371220112, 0.002446971833705902, 0.032210174947977066, 0.007682154420763254, -0.008676718920469284, -0.011557526886463165, 0.012600105255842209, 0.006673871539533138, -0.003455254714936018, 0.01805306226015091, 0.010418921709060669, -0.0275871641933918, -0.03341737017035484, 0.000613886455539614, -0.0210710521787405, -0.010261163115501404, -0.03100297972559929, 0.0013100816868245602, 0.0065023950301110744, -0.01724369265139103, -0.011763298884034157, -0.0024932706728577614, -0.052513010799884796, -0.004221755545586348, -0.004324641544371843, 0.005909085739403963, -0.009698719717562199, -0.016105087473988533, -0.0019736962858587503, 0.032182738184928894, 0.0010562961688265204, 0.01576213352382183, 0.0166812501847744, -0.00995936430990696, -0.013752427883446217, 0.008971658535301685, -0.006046266760677099, -0.0047601922415196896, 0.015583798289299011, 0.03802666440606117, -0.019438594579696655, 0.0214688777923584, 0.022223375737667084, 0.025529444217681885, -0.009513525292277336, -0.006426945328712463, -0.0066978782415390015, 0.039425913244485855, -0.026338813826441765, -0.0027024720329791307, -0.02248401939868927, -0.0030814355704933405, -0.018588069826364517, 0.012860748916864395, -0.019959883764386177, -0.02340313419699669, -0.014294294640421867, 0.004828782752156258, 0.031579140573740005, 0.0018896728288382292, -0.021715804934501648, 0.02374608814716339, -0.012318883091211319, -0.0151996910572052, -0.01674984022974968, -0.00608742143958807, -0.006180018652230501, -0.03747793659567833, -0.022401710972189903, -0.024089040234684944, 0.003947392571717501, 0.013148830272257328, -0.00869043730199337, -0.002707616426050663, -0.0026287371292710304, 0.02097502537071705, -0.019754111766815186, -0.0025344251189380884, 0.0017644948093220592, 0.01344376988708973, -0.008176007308065891, 0.033801477402448654, -0.00814857054501772, 0.011125405319035053, 0.01607765071094036, -0.013752427883446217, -0.018629224970936775, -0.025200210511684418, 0.00013428766396827996, 0.006557267624884844, -0.013992494903504848, -0.012517795898020267, -0.015432898886501789, 0.0047910576686263084, 0.004904232453554869, 0.008196583949029446, -0.013937623240053654, 0.002138313837349415, 0.007606704719364643, -0.010041672736406326, 0.020042192190885544, -0.02723049372434616, 0.013786722905933857, -0.008326906710863113, -0.009026531130075455, 0.0022377704735845327, -0.03649023175239563, 0.0022171931341290474, -0.010075968690216541, -0.004173741675913334, -0.005061991047114134, 0.012181702069938183, -0.01679099351167679, -0.0172711294144392, -0.016036497429013252, 0.016585221514105797, -0.006022260058671236, -0.015707261860370636, 0.004472111351788044, 0.004568138159811497, 0.016653813421726227, 0.041044652462005615, -0.030426818877458572, -0.021756958216428757, 0.01861550658941269, -0.004763621371239424, -0.003134593367576599, -0.014870455488562584, -0.029740910977125168, 0.036819469183683395, 0.010233727283775806, -0.017435746267437935, -0.008875631727278233, -0.0037313320208340883, -0.03599638119339943, -0.012888185679912567, -0.009403780102729797, 0.002428109524771571, -5.018371666665189e-05, 0.014088522642850876, 0.007538113743066788, 0.03810897096991539, 0.0016616088105365634, 0.011811312288045883, -0.018848713487386703, -0.007140288129448891, 0.0019342567538842559, 0.013731851242482662, 0.001286074984818697, -0.005895367357879877, -0.02621535211801529, -0.012236574664711952, -0.007929081097245216, -0.010014236904680729, 0.0318809412419796, 0.0414561964571476, -0.012092533521354198, -0.013080239295959473, 0.013100816868245602, 0.03273146599531174, 0.01893102377653122, 0.0002437111979816109, 0.014061085879802704, -0.03476174920797348, -0.02234683744609356, 0.015542644076049328, 0.02596842497587204, 0.0010391485411673784, -0.015981623902916908, 0.01769639179110527, 0.016845867037773132, 0.0052026016637682915, -0.016132524237036705, -0.0006841918802820146, -0.01099508348852396, 0.016763558611273766, 0.03015245497226715, 0.007894785143435001, 0.02160605974495411, 0.04581856355071068, 0.0014824157115072012, -0.005881649442017078, -0.010103404521942139, 0.0011240295134484768, -0.0026081600226461887, 0.0022669213358312845, 0.028588589280843735, -0.012092533521354198, -0.009561538696289062, 0.0042663393542170525, 0.02702472172677517, 0.016845867037773132, 0.0036387345753610134, -0.008560114540159702, -0.01263440027832985, -0.02358146943151951, 0.015391744673252106, -0.01162611786276102, -0.006804193835705519, 0.004441245459020138, -0.0028070728294551373, 0.0020903004333376884, 0.012325742281973362, -0.001941115828230977, 0.01945231296122074, -0.02315620705485344, -0.007819335907697678, -0.003220331622287631, 0.002993982518091798, -0.0076615773141384125, 0.014404038898646832, 0.01587187871336937, -0.03015245497226715, 0.022195938974618912, 0.190297931432724, -0.028451407328248024, 0.0137935820966959, -0.002716190181672573, 0.002800213871523738, 0.011564386077225208, -0.0005491540068760514, 0.008704154752194881, 0.003235764568671584, 0.01407480426132679, 0.008957941085100174, 0.022072475403547287, -0.002681894926354289, -0.0037038957234472036, 0.007887925952672958, 0.015597516670823097, -0.02765575610101223, -0.02445943094789982, -0.008566973730921745, 0.014239422045648098, -0.017339719459414482, 0.017435746267437935, -0.00835434254258871, -0.03026220016181469, 0.054268933832645416, 0.009767310693860054, -0.019273975864052773, -0.014472629874944687, 0.0159404706209898, 0.009829042479395866, -0.02572149783372879, -0.009527242742478848, 0.0012209138367325068, 0.005168306641280651, -0.023512879386544228, 0.010350330732762814, 0.004983111750334501, -0.000693623092956841, 0.030948108062148094, 0.004667594563215971, 0.052732501178979874, -0.01699676550924778, 0.005617575254291296, -0.012620681896805763, -0.004077714867889881, 0.023334544152021408, -0.012257151305675507, -0.013800441287457943, -0.014239422045648098, -0.0007845057407394052, -0.0072294557467103004, 0.010226868093013763, 0.009705578908324242, 0.02090643346309662, -0.018697815015912056, 0.009835900738835335, -0.016530349850654602, 0.014088522642850876, 0.02277209982275963, 0.011557526886463165, -0.026681767776608467, -0.007263751234859228, -0.0014163971645757556, 0.028945259749889374, -0.018876150250434875, 0.010576680302619934, 0.013917045667767525, -0.016050215810537338, -0.030344508588314056, -0.019822701811790466, -0.02009706385433674, 0.016585221514105797, -0.01917794905602932, 0.010165136307477951, -0.018217680975794792, -0.02648971416056156, 0.021976448595523834, 0.01987757347524166, 0.009623270481824875, 0.022964153438806534, -0.027038440108299255, -0.01755920983850956, -0.007503818720579147, -0.03769742697477341, -0.02009706385433674, -0.01632457785308361, -0.03163401409983635, -0.02902756817638874, -0.008752169087529182, -0.030481690540909767, 0.004369225353002548, -0.014143395237624645, -0.017079075798392296, 0.0007189158932305872, 0.006841918453574181, -0.006344636436551809, -0.007496959529817104, 0.009307753294706345, 0.004009124357253313, 0.011392909102141857, -0.0252688005566597, 0.055613309144973755, 0.03956309333443642, 0.020316554233431816, 0.040770288556814194, -0.01657150499522686, -0.03050912730395794, 0.01910935901105404, 0.013663260266184807, -0.008326906710863113, 0.007174583617597818, -0.037066396325826645, 0.006056555546820164, -0.016022779047489166, -0.03212786838412285, -0.011694707907736301, 0.04101721569895744, -0.004194319248199463, -0.0066978782415390015, 0.01226401049643755, -0.022182220593094826, -0.019959883764386177, -0.006073703058063984, -0.0056210048496723175, -0.0008625275804661214, -0.004650447051972151, 0.002143458230420947, 0.0056210048496723175, -0.0313870869576931, 0.015967905521392822, 0.011331177316606045, -0.014294294640421867, 0.002690468681976199, 0.010837324894964695, 0.025844961404800415, -0.010892197489738464, -0.006540119647979736, -0.03028963692486286, 0.005106574855744839, 0.01829998940229416, -0.012730427086353302, -7.486027607228607e-05, 0.0061525823548436165, -0.021482596173882484, 0.013642682693898678, 0.00689679104834795, -0.003546137362718582, 0.02009706385433674, -0.019520903006196022, -0.003700466360896826, -0.014788147062063217, -0.01393076404929161, 0.0024572606198489666, -0.00990449171513319, -0.00012367754243314266, 0.00321004306897521, -0.002254917984828353, -0.02554316259920597, 0.03303326293826103, -0.0055386959575116634, -0.024967001751065254, 0.012682413682341576, 0.02797127328813076, -0.0107344388961792, -0.0014275432331487536, -0.017710110172629356, -0.17394591867923737, 0.008347483351826668, 0.0035289896186441183, -0.027120748534798622, 0.007881066761910915, 0.015748417004942894, 0.016036497429013252, 0.014774428680539131, -0.01924654096364975, -0.00904024951159954, -0.00021863273286726326, -0.02138656936585903, -0.017998190596699715, 0.0037381912115961313, -0.02783409133553505, 0.02825935371220112, 0.024281095713377, 0.009547820314764977, 0.03753281012177467, 0.027875246480107307, 0.045160092413425446, -0.03284120932221413, 0.01393076404929161, 0.00699281832203269, 0.02828679047524929, 0.0013135111657902598, 0.0015407177852466702, 0.029356803745031357, 0.003782775020226836, -0.03451482206583023, -0.001005710568279028, -0.015844443812966347, 0.01787472702562809, 0.008066262118518353, 0.002793354680761695, 0.013628965243697166, 0.03179863095283508, -0.010508089326322079, -0.005840494763106108, 0.0026338815223425627, 0.039919767528772354, 0.009575256146490574, -0.008731591515243053, 0.005356930661946535, -0.005744467955082655, 0.0227995365858078, 0.02614676021039486, -0.006557267624884844, 0.024788666516542435, -0.0010065679671242833, 0.005473535042256117, -0.018245115876197815, 0.027463702484965324, -0.00043705114512704313, 0.012215997092425823, 0.008505241945385933, 0.0016924745868891478, 0.029713476076722145, -0.021057333797216415, -0.004852789454162121, 0.0012432057410478592, -0.013375178910791874, 0.002651029033586383, -0.0030968685168772936, 0.0013563804095610976, -0.02783409133553505, -0.015391744673252106, 0.003817070508375764, -0.041428759694099426, -0.004859648644924164, -4.511979568633251e-05, 0.0076547181233763695, -0.0026613178197294474, 0.026722922921180725, -0.0016899025067687035, 0.026009580120444298, -0.006708167027682066, 0.0022309112828224897, 0.029055004939436913, 0.0047396146692335606, -0.00874530989676714, 0.0323747918009758, 0.0017764981603249907, -0.008347483351826668, 0.011763298884034157, 0.004160023760050535, 0.008594410493969917, 0.002733337925747037, -0.029686039313673973, 0.002867089817300439, 0.008614987134933472, 0.0008616701816208661, -0.00321004306897521, -0.03352711722254753, -0.007359778042882681, 0.0031517408788204193, -0.009664424695074558, -0.015268282033503056, 0.010926492512226105, 0.0007227741298265755, -0.004647017456591129, -0.031688887625932693, -0.023595187813043594, -0.0011626117629930377, 0.015775851905345917, 0.009204867295920849, -0.01868409663438797, 0.016900738701224327, 0.03273146599531174, -0.0015450046630576253, -0.024582894518971443, -0.016214832663536072, 0.008827618323266506, 0.024720074608922005, 0.000432978558819741, 0.018450887873768806, 0.009547820314764977, -0.0033163586631417274, 0.006221173331141472, 0.0009019672288559377, 0.030563998967409134, -0.021263105794787407, 0.009973082691431046, 0.00032066134735941887, -0.033966097980737686, -0.032072994858026505, -0.12017083913087845, -0.024857256561517715, -0.014170831069350243, -0.0022411998361349106, -0.006207454949617386, 0.012222856283187866, -0.016228551045060158, 0.03223761171102524, 0.016338296234607697, 0.04433700442314148, -0.032072994858026505, 0.0011831889860332012, -0.004883655346930027, -0.005288340151309967, -0.03248453885316849, 0.005387796554714441, -0.0048802257515490055, 0.0055009713396430016, -0.018601788207888603, 0.042663391679525375, -0.01108425110578537, -0.04013925790786743, -0.009698719717562199, 0.003919956274330616, -0.0002863660338334739, 0.012442346662282944, -0.032319922000169754, 0.013416334055364132, -0.015021354891359806, 0.01189362071454525, 0.018876150250434875, -0.01836857944726944, -0.0090059544891119, -0.02403416857123375, 0.008827618323266506, -0.01185932569205761, -0.02068694494664669, 0.002145173028111458, 0.014417757280170918, -0.02927449531853199, -0.001357237808406353, 0.008951081894338131, 0.0022411998361349106, 0.00995936430990696, -0.010926492512226105, -0.014801865443587303, -0.039919767528772354, 0.04979682341217995, 0.007771322038024664, -0.01875268667936325, 0.007030542939901352, -0.023279670625925064, -0.03352711722254753, -0.014033650048077106, 0.027916399762034416, 0.006478388328105211, -0.012188561260700226, 0.01657150499522686, -0.014541220851242542, -0.014609810896217823, -0.029356803745031357, 0.02336197905242443, -0.02727164700627327, -0.0036455937661230564, 0.007085415534675121, -0.0072363149374723434, -0.018176525831222534, -0.011605540290474892, 0.026229070499539375, 0.016983048990368843, 0.001335803186520934, 0.026942413300275803, -0.007538113743066788, 0.015131100080907345, -0.022195938974618912, 0.011516372673213482, -0.036298178136348724, -0.009287175722420216, 0.0106589887291193, -0.018588069826364517, 0.007846771739423275, -0.011372331529855728, -0.00990449171513319, -0.013045944273471832, -0.004890514072030783, 0.010672707110643387, -0.0036112985108047724, 0.005212890449911356, 0.0006160298944450915, -0.033801477402448654, -0.006426945328712463, 0.024047886952757835, 0.0429377555847168, -0.0013435196597129107, -0.0021743241231888533, 0.0033763754181563854, 0.019205385819077492, -0.01967180147767067, 0.01433544885367155, 0.010165136307477951, -0.0041394466534256935, -0.008573832921683788, -0.04236159473657608, 0.015336872078478336, 0.029603730887174606, -0.00972615648061037, -0.008669859729707241, 0.011468359269201756, 0.030838362872600555, -0.03226504847407341, 0.00846408773213625, 0.01787472702562809, -0.006958522833883762, -0.0035632848739624023, -0.025104183703660965, -0.00877960491925478, -0.015350590460002422, -0.05322635546326637, 0.007030542939901352, -0.02097502537071705, 0.016516631469130516, 0.011742721311748028, 0.00823087990283966, 0.010226868093013763, 0.020110782235860825, 0.031935811042785645, -0.020878998562693596, -0.008100557141005993, 0.006663582753390074, 0.014815582893788815, -0.008786464110016823, -0.03278633579611778, 0.0018468035850673914, -0.0411543995141983, -0.0017207682831212878, 0.007051120046526194, -0.021276824176311493, -0.0036250166594982147, 0.01685958541929722, -0.002386955078691244, 0.03662741556763649, 0.017833571881055832, 0.0029236769769340754, -0.014541220851242542, -0.0011454641353338957, 0.005055131856352091, -0.02209991216659546, -0.008134853094816208, -0.024569176137447357, -0.02241542935371399, 0.003601009724661708, 0.017147665843367577, 0.007455805316567421, -0.010528666898608208, -0.01839601621031761, -0.037066396325826645, 0.0032169020269066095, -0.030097583308815956, 0.023416852578520775, -0.008937363512814045, -0.003895949572324753, -0.03273146599531174, 0.03429533168673515, 0.008855055086314678, 0.004091433249413967, -0.0025670055765658617, 0.006169730331748724, -0.030344508588314056, 0.012181702069938183, 0.02086528018116951, -0.022580046206712723, 0.003793063573539257, -0.01699676550924778, 0.002044001827016473, -0.010096545331180096, 0.014952764846384525, 0.012517795898020267, 0.020824125036597252, 0.0036455937661230564, 0.009348907507956028, -0.0180119089782238, 0.008107416331768036, 0.02576265297830105, -0.0313870869576931, -0.006430374458432198, 0.010034814476966858, 0.012751004658639431, 0.01931513100862503, -0.00944493431597948, 0.002153746783733368, 0.008566973730921745, 0.014184549450874329, -0.015227126888930798, 0.006574415136128664, -0.006063414737582207, 0.023814678192138672, -0.011797593906521797, 0.0013529508141800761, -0.005765045061707497, -0.00778504041954875, -0.013683836907148361, 0.014952764846384525, -0.0013263719156384468, -0.006255468353629112, -0.018629224970936775, -0.039069242775440216, -0.025886116549372673, -0.018409734591841698, -0.0026938982773572206, -0.029000133275985718, 0.004173741675913334, 0.01632457785308361, 0.014211985282599926, -0.008985376916825771, -0.0012852175859734416, -0.0037793456576764584, -0.013862173072993755, 0.022676073014736176, 0.0015732983592897654, -0.019273975864052773, -0.031935811042785645, 0.00872473232448101, 0.010741298086941242, 0.012620681896805763, 0.04088003560900688, -0.010638412088155746, 0.012408050708472729, 0.012716708704829216, 0.030618872493505478, -0.007394073531031609, 0.030070146545767784, 0.0050894273445010185, -0.0055386959575116634, -0.002112592337653041, 0.006101139355450869, -0.007860490120947361, 0.010213149711489677, 5.862358375452459e-05, 0.0077301678247749805, 0.005353501066565514, 0.0113997682929039, 0.07424253225326538, 0.022442864254117012, -0.03190837800502777, -0.005353501066565514, -0.0110293785110116, 0.02470635622739792, 0.008971658535301685, 0.02293671853840351, -0.028917822986841202, -0.031688887625932693, 0.01562495343387127, -0.0034946943633258343, -0.01688702218234539, -0.018286271020770073, -0.008100557141005993, 0.024281095713377, 0.011022519320249557, 0.008738450706005096, -0.015405463054776192, 0.006574415136128664, 0.004856219049543142, 0.007558691315352917, 0.021153360605239868, 0.015638671815395355, 0.011996506713330746, 0.003235764568671584, 0.037066396325826645, 0.015720980241894722, -0.017079075798392296, -0.039425913244485855, -0.022003885358572006, -0.0023955288343131542, -0.027600882574915886, -0.006821341346949339, 0.019205385819077492, -0.024116476997733116, -0.008422933518886566, -0.008525819517672062, -0.000971415254753083, 0.023759806528687477, 0.017188820987939835, -0.009438075125217438, 0.0008509529288858175, -0.0265994593501091, -0.02504931017756462, 0.01808049902319908, -0.014788147062063217, -0.021647213026881218, -0.013971918262541294], metadata={'file_path': '/content/mixed_data/output_text.txt', 'file_name': 'output_text.txt', 'file_type': 'text/plain', 'file_size': 3400, 'creation_date': '2024-04-14', 'last_modified_date': '2024-04-14'}, excluded_embed_metadata_keys=['file_name', 'file_type', 'file_size', 'creation_date', 'last_modified_date', 'last_accessed_date'], excluded_llm_metadata_keys=['file_name', 'file_type', 'file_size', 'creation_date', 'last_modified_date', 'last_accessed_date'], relationships={<NodeRelationship.SOURCE: '1'>: RelatedNodeInfo(node_id='09c0191a-19c1-4e39-9fdc-c18e60a34ca4', node_type=<ObjectType.DOCUMENT: '4'>, metadata={'file_path': '/content/mixed_data/output_text.txt', 'file_name': 'output_text.txt', 'file_type': 'text/plain', 'file_size': 3400, 'creation_date': '2024-04-14', 'last_modified_date': '2024-04-14'}, hash='3d05f78a6b2b7e664afc1c0c2467dc21b073aeb279b3ff8eabb701c2e3c6d9b7'), <NodeRelationship.PREVIOUS: '2'>: RelatedNodeInfo(node_id='804b2ab2-f727-4fc8-8313-9eff9a4adb0c', node_type=<ObjectType.IMAGE: '2'>, metadata={'file_path': '/content/mixed_data/frame0046.png', 'file_name': 'frame0046.png', 'file_type': 'image/png', 'file_size': 2820, 'creation_date': '2024-04-14', 'last_modified_date': '2024-04-14'}, hash='2c4224a2d0140e07e6bc3c52cc5da011d83cf193942ebbb659305b3af3b81ffd')}, text=\"Lanyard regression is a statistical technique for modeling the relationship between an output variable and one or more input variables. In layman's terms, think of it as fitting a line through some data points as shown here, so you can make predictions on unknown data, assuming there is a linear relationship between the variables. You might be familiar with the linear function y equals mx plus b, where y is the output variable, also called the dependent variable. You may also see expressed as f of x, the function of the input variable. x on the other hand, would serve as the input variable, also called the independent variable. It's likely you'll see the coefficients m and b expressed as beta 1 and beta 0 respectively. So what do the m and b coefficients do? The m or beta 1 coefficient controls the slope of the line. The b or the beta 0 controls the intercept of the line. In machine learning, we also know it as the bias. These two coefficients are what we are solving for in linear regression. We can also extend to multiple input variables, so x1, x2, x3, with beta 1, beta 2, and beta 3, and so on, acting as slopes for each of those variables. In these higher dimensions, you would visualize the linear regression as a hyperplane. So how do we fit the line to these points? Well, you'll notice that there's these differences between the points and the line, these little red segments, these are called residuals. They are the differences between the data points and the predictions the line would produce. Take each of these residuals and square them. These are the squared errors, and notice that the large of the residuals are, the more amplified area of the squares are. If we total the areas of all of these squares for a given line, we will get the sum of the squared error, and this is known as our loss function. We need to find the beta 0 and beta 1 coefficients that will minimize that sum of squared error. The coefficients can be solved with a variety of techniques ranging from matrix decomposition to gradient descent, which is depicted right here. Thankfully, a lot of libraries are available to do this for us, and we will deep dive into these topics in other videos. To validate a linear regression, there are a number of techniques. Machine learning practitioners will often take a third of the data and put it into the test data set. The remaining two thirds will become the training data set. The training data set will then be used to fit the regression line. The test data set will then be used to validate the regression line. This is done to make sure that the regression performs well on data it has not seen before. The tricks used to evaluate the linear regression vary from the R square, standard error of the estimate, prediction intervals, as well as statistical significance. These are topics we will cover in future videos. If you enjoyed this video, please like and subscribe. Look at my two O'Reilly books, Essential Math for Data Science, and getting started with SQL. Chapter five of Essential Math for Data Science actually covers linear regression and much more depth. If you want live instruction, I also do teach on the O'Reilly platform. Promotional link below. I teach classes including machine learning from scratch, probability, and SQL. Comment on what topics you would like to see next, and I will see you again on 3 Minute Data Science.\", start_char_idx=1, end_char_idx=3400, text_template='{metadata_str}\\n\\n{content}', metadata_template='{key}: {value}', metadata_seperator='\\n'), score=0.7717532515525818),\n",
              " NodeWithScore(node=ImageNode(id_='37e9f92d-6d44-4cd9-a345-e8e4c5a6f4db', embedding=[0.05328369140625, -0.09033203125, -0.169921875, -0.1859130859375, -0.34326171875, -0.062103271484375, 0.3271484375, 0.408447265625, 0.0115203857421875, 0.3671875, 0.54541015625, 0.027618408203125, 0.15234375, 0.29638671875, -0.53955078125, 0.2025146484375, -0.65576171875, 0.40771484375, -0.293701171875, -0.51513671875, -0.021026611328125, 0.0308685302734375, -0.576171875, 0.361083984375, -0.074951171875, 0.048797607421875, 0.05242919921875, -0.0863037109375, 0.193603515625, -0.486328125, 0.0130462646484375, 0.02099609375, -0.18408203125, 0.0838623046875, -0.194091796875, -0.3603515625, -0.61328125, 0.189697265625, -0.377197265625, -1.4560546875, 0.175537109375, 0.06671142578125, -0.29931640625, 0.2022705078125, -0.437255859375, 0.08929443359375, 0.1324462890625, 0.2178955078125, -0.246337890625, -0.177978515625, -0.254638671875, -0.182861328125, -0.08172607421875, 0.016876220703125, -0.1888427734375, -0.014617919921875, 0.309326171875, 0.324951171875, -0.0185089111328125, -0.30615234375, -0.06085205078125, 0.1536865234375, 0.8291015625, 0.24951171875, 0.04156494140625, 0.00597381591796875, 0.133544921875, 0.2301025390625, 0.4423828125, 0.0268096923828125, -0.281494140625, 0.40625, 0.29296875, -0.29833984375, -0.483642578125, 0.041778564453125, -0.1099853515625, 0.04986572265625, -0.5859375, -0.177978515625, 0.12115478515625, -0.2430419921875, -0.047454833984375, 0.6708984375, -0.04351806640625, -0.2362060546875, 1.2197265625, -0.0882568359375, 0.5576171875, -0.1881103515625, -0.11846923828125, -0.398193359375, -4.12109375, 0.0609130859375, -0.051361083984375, -0.31884765625, -0.08477783203125, 0.18310546875, 0.57861328125, -1.0234375, 0.06781005859375, -0.07061767578125, -0.1287841796875, -0.268798828125, -0.2783203125, -0.16015625, -1.0517578125, 0.63134765625, 0.043731689453125, -0.080322265625, -0.716796875, 0.21240234375, 0.63330078125, 0.428955078125, -0.2034912109375, -0.11761474609375, -0.1768798828125, -0.5380859375, -0.39990234375, -0.59423828125, -0.1951904296875, 0.30224609375, -0.21533203125, 0.5283203125, 0.00603485107421875, 0.4189453125, -0.140869140625, 0.30029296875, 0.419189453125, -0.65234375, 0.482421875, 0.5498046875, 0.147216796875, 0.853515625, 0.04620361328125, -0.127685546875, 0.796875, 0.0232391357421875, -0.2171630859375, -0.29150390625, 0.1431884765625, -0.0147705078125, 0.0087890625, 0.1273193359375, -0.451416015625, 0.337890625, -0.505859375, 0.093505859375, 0.1776123046875, 0.03826904296875, 0.298583984375, -0.49951171875, 0.497802734375, -0.1597900390625, -0.0195465087890625, -0.55810546875, 0.263427734375, -0.0254058837890625, -0.033355712890625, -0.01314544677734375, -0.369140625, -0.2734375, -0.12200927734375, 0.1904296875, 0.04327392578125, -0.37353515625, -0.5263671875, -0.1806640625, -0.0889892578125, -0.08746337890625, 0.744140625, 0.09649658203125, -0.58251953125, -0.204345703125, 0.0531005859375, -0.2296142578125, 0.155029296875, -0.048126220703125, -0.072509765625, -0.2149658203125, 0.224365234375, -0.03607177734375, -0.002197265625, 0.315673828125, -0.07781982421875, -0.259033203125, 0.08062744140625, 0.1519775390625, -0.282470703125, 0.5908203125, -0.07037353515625, 0.08013916015625, -0.360107421875, -0.210693359375, 0.1387939453125, -0.051666259765625, -0.3564453125, 0.081298828125, 0.0113372802734375, 0.304931640625, 0.2275390625, -0.0309906005859375, -0.293701171875, -0.0250396728515625, -0.047454833984375, -0.292724609375, -0.53369140625, 0.264892578125, 0.337158203125, 0.56591796875, -0.08489990234375, 0.6083984375, 0.1846923828125, 0.01265716552734375, 0.00428009033203125, -0.341552734375, 0.343505859375, 0.051483154296875, -0.048736572265625, -0.005401611328125, 0.53515625, 0.029998779296875, -0.303466796875, -0.048065185546875, -0.64306640625, -0.266845703125, 0.52099609375, -0.239013671875, 0.1290283203125, 0.01094818115234375, -0.291015625, 0.2880859375, 0.342041015625, -0.455810546875, 0.0535888671875, -0.004039764404296875, 0.2432861328125, 0.046600341796875, 0.1993408203125, 0.289306640625, -0.17578125, -0.036102294921875, 0.4638671875, 0.2379150390625, -0.053314208984375, 0.168701171875, 0.0517578125, 0.49609375, 0.07208251953125, -0.10992431640625, -0.2064208984375, -0.53955078125, 0.10906982421875, 0.19140625, 0.298095703125, -0.6796875, -0.271240234375, 0.09112548828125, -1.29296875, 0.28125, -0.501953125, 0.031951904296875, 0.202880859375, -0.09930419921875, 0.107177734375, -0.06719970703125, 0.1778564453125, -0.264404296875, -0.1285400390625, -0.09722900390625, -0.6259765625, 0.262451171875, -0.46484375, -0.43994140625, -0.2254638671875, 0.282470703125, -0.148681640625, 0.16162109375, 0.560546875, 0.07415771484375, -0.101318359375, -0.30322265625, -0.265869140625, -0.61474609375, -0.1744384765625, -0.311279296875, -0.6669921875, -0.3828125, 0.1802978515625, -0.6181640625, 0.2325439453125, 0.48095703125, 0.326171875, -0.273681640625, 0.04638671875, 0.38623046875, -0.41650390625, 0.489990234375, 0.26904296875, -0.42822265625, 0.44775390625, 0.1466064453125, -0.05084228515625, 0.2093505859375, -0.4345703125, -0.053619384765625, 0.26220703125, 0.0557861328125, -0.15478515625, -0.0078582763671875, -0.38525390625, 0.137451171875, 0.853515625, -0.1666259765625, 0.11260986328125, 0.3984375, -0.1103515625, -0.2548828125, -0.284912109375, -0.171630859375, 0.01690673828125, 1.064453125, 0.346923828125, 0.1695556640625, -0.412841796875, 0.231689453125, 0.339599609375, -0.431396484375, 0.2498779296875, -0.062042236328125, -0.0174713134765625, 0.2269287109375, 0.402099609375, -0.50634765625, -0.268798828125, -0.08758544921875, -0.265380859375, -0.059234619140625, -0.501953125, -0.338134765625, 0.0947265625, -0.12445068359375, 0.2042236328125, -0.459716796875, -0.1807861328125, -0.0716552734375, 0.269775390625, 0.08935546875, 0.5595703125, -0.1763916015625, 0.1739501953125, -0.0830078125, 0.3193359375, 0.72314453125, 0.2423095703125, 0.250732421875, 0.0924072265625, -0.428955078125, -0.186767578125, -0.4267578125, -0.50390625, 0.0504150390625, -0.01483917236328125, 0.280517578125, -0.448486328125, 0.272705078125, -0.0789794921875, -1.001953125, 0.5205078125, 0.365234375, 0.442138671875, 0.35107421875, 0.375244140625, -0.0576171875, 0.15185546875, 0.033416748046875, -0.19287109375, -0.0885009765625, -0.7451171875, 0.55029296875, -0.42431640625, 0.227294921875, 0.337158203125, 0.0589599609375, -0.239013671875, 0.2236328125, -0.03509521484375, -0.0794677734375, -0.09588623046875, 0.454833984375, -0.2115478515625, 0.25830078125, 0.282470703125, 0.2135009765625, 0.25634765625, 0.09344482421875, -0.423095703125, -0.0341796875, 0.1353759765625, -0.135498046875, 0.2091064453125, 0.284423828125, 0.1072998046875, -0.1307373046875, 0.228515625, 0.037811279296875, -0.2071533203125, 0.324462890625, 0.3984375, 0.04876708984375, -0.0726318359375, 0.135009765625, 0.10382080078125, -0.1038818359375, -0.37255859375, -0.62548828125, -0.100341796875, -0.456787109375, 0.201416015625, -0.46728515625, 0.2138671875, -0.449462890625, -0.24853515625, 0.5390625, 0.06805419921875, -0.47705078125, -0.39111328125, -0.472900390625, -0.9384765625, 0.1715087890625, -0.01288604736328125, -0.1591796875, -1.05859375, -0.039581298828125, 0.043243408203125, -0.48974609375, -0.12225341796875, 0.01751708984375, 0.435302734375, -0.62353515625, -0.5703125, 0.111083984375, -0.114013671875, 0.33935546875, 0.2578125, -0.11724853515625, -0.103759765625, -0.06646728515625, -0.09130859375, 0.37158203125, -0.396240234375, -0.1080322265625, -0.045166015625, -0.51513671875, -0.419921875, -0.72119140625, -0.85888671875, 0.325927734375, -0.6796875, 0.456298828125, -0.0281524658203125, -0.5107421875, -0.4921875, 0.1390380859375, 0.08203125, -0.1092529296875, 0.05401611328125, 0.4384765625, 0.25634765625, 0.09417724609375, -0.1370849609375, -0.1575927734375, -0.04742431640625, -0.677734375, -0.017486572265625, -0.082275390625, -0.100341796875, 0.08612060546875, 0.09906005859375, 0.1826171875, -0.139404296875, -0.037261962890625, 0.1263427734375, 0.30517578125, -0.1923828125, -0.312255859375, -0.404052734375, -0.177734375, 0.1527099609375, -0.268310546875, -0.093994140625, -0.397216796875, -0.5751953125, -0.321044921875, 0.367919921875, 0.65478515625, -0.27001953125, 0.455810546875, 0.1722412109375, -0.158935546875, -0.6044921875, 0.1767578125, 0.487548828125, -0.385009765625, 0.054351806640625, 0.1661376953125, 0.2308349609375, -0.457275390625, -0.08367919921875, 0.54736328125, 0.06292724609375, 0.459716796875], metadata={'file_path': '/content/mixed_data/frame0003.png', 'file_name': 'frame0003.png', 'file_type': 'image/png', 'file_size': 61264, 'creation_date': '2024-04-14', 'last_modified_date': '2024-04-14'}, excluded_embed_metadata_keys=['file_name', 'file_type', 'file_size', 'creation_date', 'last_modified_date', 'last_accessed_date'], excluded_llm_metadata_keys=['file_name', 'file_type', 'file_size', 'creation_date', 'last_modified_date', 'last_accessed_date'], relationships={<NodeRelationship.SOURCE: '1'>: RelatedNodeInfo(node_id='2998b14c-7e40-4571-a1f7-e745427573d0', node_type=<ObjectType.DOCUMENT: '4'>, metadata={'file_path': '/content/mixed_data/frame0003.png', 'file_name': 'frame0003.png', 'file_type': 'image/png', 'file_size': 61264, 'creation_date': '2024-04-14', 'last_modified_date': '2024-04-14'}, hash='8ab7c4f20c3d4885a9f753a78fe84728aa77e9002ed47014854fad3614fde855'), <NodeRelationship.PREVIOUS: '2'>: RelatedNodeInfo(node_id='a729ff77-704a-427b-998b-86a67a5ecbf5', node_type=<ObjectType.IMAGE: '2'>, metadata={'file_path': '/content/mixed_data/frame0002.png', 'file_name': 'frame0002.png', 'file_type': 'image/png', 'file_size': 83490, 'creation_date': '2024-04-14', 'last_modified_date': '2024-04-14'}, hash='c311b98238c1416910288e543ebe06ccd88ba249abe69bbf2f3f27f89ec7374e'), <NodeRelationship.NEXT: '3'>: RelatedNodeInfo(node_id='1620408c-3494-41d1-9f26-bde221ffd257', node_type=<ObjectType.IMAGE: '2'>, metadata={}, hash='44136fa355b3678a1146ad16f7e8649e94fb4fc21fe77e8310c060f61caaff8a')}, text='', start_char_idx=0, end_char_idx=0, text_template='{metadata_str}\\n\\n{content}', metadata_template='{key}: {value}', metadata_seperator='\\n', image=None, image_path='/content/mixed_data/frame0003.png', image_url=None, image_mimetype=None, text_embedding=None), score=0.0),\n",
              " NodeWithScore(node=ImageNode(id_='19b23e07-d21f-43be-ac1f-8f2bb4477ca4', embedding=[-0.08270263671875, 0.45166015625, -0.2578125, 0.1051025390625, -0.294677734375, 0.2391357421875, 0.006275177001953125, 0.474853515625, 0.450927734375, 0.107421875, 0.397705078125, 0.1220703125, -0.533203125, 0.07177734375, -0.42724609375, 0.1082763671875, -0.212158203125, 0.3056640625, -0.391845703125, 0.239501953125, 0.318115234375, -0.048736572265625, -0.10772705078125, 0.11480712890625, 0.375, 0.2218017578125, -0.450439453125, -0.18017578125, 0.04412841796875, -0.282470703125, -0.08526611328125, 0.2498779296875, -0.47265625, 0.09869384765625, 0.33935546875, 0.403564453125, 0.014556884765625, -0.0772705078125, 0.089599609375, -1.7119140625, -0.56884765625, -0.19970703125, 0.0003714561462402344, -0.155029296875, -0.267333984375, 0.135009765625, 0.4560546875, -0.57861328125, -0.0108795166015625, -0.465576171875, -0.03717041015625, -0.394287109375, -0.48974609375, -0.1309814453125, -0.3818359375, -0.1734619140625, -0.18408203125, -0.1146240234375, 0.290771484375, 0.2322998046875, -0.52685546875, -0.032135009765625, 0.428466796875, -0.123291015625, -0.461669921875, -0.431640625, -0.360595703125, 0.06646728515625, -0.12255859375, -0.60791015625, 0.04119873046875, -0.003932952880859375, 0.5068359375, 0.0308074951171875, 0.339111328125, -0.228271484375, -0.41357421875, -0.1697998046875, -0.0560302734375, -0.16455078125, -0.12237548828125, -0.08270263671875, 0.07220458984375, 0.59521484375, -0.479248046875, -0.06036376953125, 0.68701171875, 0.356689453125, 0.66015625, 0.1876220703125, -0.0557861328125, 0.48779296875, -5.09765625, 0.005916595458984375, -0.2529296875, -0.2340087890625, -0.2252197265625, 0.045074462890625, 0.1717529296875, -0.289306640625, -0.493896484375, 0.0149688720703125, -0.1302490234375, -0.65478515625, 0.13037109375, -0.10186767578125, -2.138671875, -0.09320068359375, -0.75439453125, -0.2159423828125, 0.521484375, -0.1170654296875, 0.04315185546875, -0.038360595703125, 0.055389404296875, 0.10540771484375, 0.052459716796875, -0.69384765625, -0.01435089111328125, -0.69921875, -0.26416015625, -0.059906005859375, -0.25830078125, -0.032379150390625, 0.11651611328125, 0.01132965087890625, -0.132568359375, 0.64697265625, -0.2119140625, -0.49365234375, 0.420166015625, -0.15087890625, 0.481689453125, 0.8671875, 0.0174407958984375, 0.26123046875, -0.184326171875, -0.107421875, 0.187255859375, -0.3056640625, 0.6728515625, -0.28271484375, -0.116455078125, 0.00533294677734375, -0.08795166015625, 0.04278564453125, -0.438720703125, 0.8876953125, 0.170654296875, -0.006809234619140625, 0.2529296875, -0.424560546875, 0.449462890625, 0.2142333984375, 0.185791015625, -0.11639404296875, -0.52001953125, -0.21484375, 0.1629638671875, 0.400390625, 0.0009322166442871094, -0.28076171875, 0.388671875, -0.129638671875, 1.083984375, -0.14208984375, -0.6259765625, -0.0251312255859375, -0.210693359375, 0.1302490234375, 0.236572265625, -0.134765625, -0.038421630859375, -0.21240234375, 0.397705078125, 0.07220458984375, -0.3291015625, 0.45751953125, 0.27294921875, 0.442626953125, -0.09832763671875, -0.30126953125, -0.0819091796875, 0.007556915283203125, 0.190185546875, -0.35302734375, -0.0634765625, 0.08770751953125, 0.44140625, -0.01529693603515625, 0.0099639892578125, -0.0504150390625, 0.1629638671875, 0.05303955078125, -0.168701171875, 0.401611328125, 0.1898193359375, 0.2313232421875, -0.06744384765625, 0.23046875, -0.09722900390625, -0.04754638671875, 0.020965576171875, 0.08251953125, -0.55908203125, -0.35595703125, -0.41162109375, -0.1654052734375, -0.00019431114196777344, 0.275390625, -0.214599609375, -0.399169921875, -0.03277587890625, 0.077392578125, 0.157470703125, -0.4423828125, 0.1929931640625, 0.363037109375, -0.0208282470703125, -0.262451171875, 0.41259765625, -0.08544921875, 0.271484375, 0.2010498046875, 0.1788330078125, 0.00640869140625, 0.224853515625, 0.186767578125, -0.2432861328125, 0.06317138671875, -0.043121337890625, 0.07305908203125, -0.20361328125, -0.057861328125, 0.0328369140625, -0.6787109375, 0.256591796875, -0.390380859375, -0.1085205078125, -0.461181640625, 0.209228515625, -0.1365966796875, 0.021820068359375, 0.443603515625, -0.1221923828125, 0.485595703125, 0.51806640625, 0.5654296875, 0.27978515625, -0.0246429443359375, -0.135009765625, -0.54931640625, -0.1788330078125, 0.261474609375, 0.301513671875, -0.2091064453125, -0.485107421875, 0.0270843505859375, -0.9794921875, -0.311767578125, -0.042938232421875, -0.533203125, -0.450439453125, 0.8876953125, 0.06683349609375, 0.338134765625, -0.164794921875, -0.232421875, 0.1343994140625, 0.0865478515625, -0.62109375, 0.48486328125, -0.382568359375, -0.383544921875, -0.21240234375, -0.266357421875, 0.016632080078125, -0.35986328125, 0.421142578125, -0.1986083984375, 0.01153564453125, -0.14892578125, -0.3681640625, -0.2398681640625, 0.361328125, 0.279052734375, -0.41259765625, -0.433349609375, 0.09246826171875, -0.331298828125, 0.1832275390625, 0.0963134765625, 0.278564453125, -0.42724609375, 0.27392578125, 0.230224609375, -0.5234375, 0.2325439453125, 0.325927734375, -0.18359375, 0.6005859375, -0.268798828125, -0.50146484375, 0.374267578125, -0.311767578125, -0.14697265625, -0.330078125, -0.352294921875, 0.2177734375, -0.183837890625, -0.52978515625, -0.299072265625, 0.8671875, 0.8544921875, -0.34375, 0.06719970703125, -0.421875, -0.0262908935546875, -0.201904296875, -0.1658935546875, 0.35107421875, 0.1619873046875, 0.03961181640625, -0.10113525390625, -0.251708984375, 0.53759765625, 0.0543212890625, -0.40576171875, 0.265869140625, 0.10986328125, -0.12188720703125, 0.53173828125, -0.27587890625, -0.4140625, 0.146484375, 0.012603759765625, 0.0078887939453125, 0.287353515625, -0.031341552734375, -0.452880859375, 0.171875, -0.08734130859375, 0.025970458984375, 0.0859375, -0.33935546875, -0.180908203125, 0.321044921875, 0.293212890625, 0.62060546875, 0.029266357421875, 0.1251220703125, -0.366943359375, -0.06378173828125, 0.2802734375, 0.48486328125, -0.44287109375, -0.1746826171875, -0.51708984375, -0.01558685302734375, 0.045867919921875, 0.432373046875, 0.1671142578125, 0.299072265625, -0.10406494140625, -0.9013671875, 0.134765625, -0.3720703125, -0.1632080078125, 0.5732421875, 0.26611328125, -0.04656982421875, -0.171875, 0.4287109375, -0.37744140625, -0.1766357421875, -0.292236328125, -0.72802734375, 0.046234130859375, -0.65869140625, -0.07110595703125, -0.59521484375, -0.06060791015625, -0.0743408203125, -0.39794921875, 0.257080078125, -0.265869140625, -0.228271484375, -0.281005859375, -0.27001953125, 0.26025390625, 0.451904296875, 0.01544952392578125, 0.35791015625, -0.689453125, 0.01470947265625, -0.208984375, -0.319091796875, 0.07830810546875, -0.1202392578125, -0.2103271484375, 0.448974609375, 0.0211029052734375, -0.0144195556640625, -0.294189453125, -0.387451171875, 0.318359375, -0.03704833984375, -0.04693603515625, 0.3623046875, -0.220458984375, 0.061279296875, 0.266357421875, -0.17333984375, -0.387451171875, 0.2294921875, 0.2127685546875, -0.373779296875, 0.00885009765625, 0.158203125, 0.017120361328125, -0.071533203125, 0.038848876953125, -0.24853515625, 0.01467132568359375, 0.047088623046875, -0.3515625, 0.54638671875, -0.471923828125, -1.3056640625, -0.1229248046875, 0.50927734375, 0.1724853515625, -0.19677734375, -0.412109375, -0.3515625, 0.013641357421875, -0.07073974609375, 0.419189453125, -0.153076171875, -0.1376953125, 0.302734375, 0.50537109375, 0.235107421875, 0.1976318359375, -0.6455078125, 0.12322998046875, 0.0257720947265625, -0.1851806640625, 0.146240234375, -0.132568359375, -0.27880859375, 0.057373046875, -0.08203125, -0.045196533203125, 0.1563720703125, 0.0531005859375, -0.1536865234375, 0.07958984375, 0.1756591796875, 0.325439453125, -0.1446533203125, -0.0792236328125, -0.25732421875, 0.0399169921875, -0.006183624267578125, 0.05694580078125, 0.1246337890625, 0.1036376953125, -0.67578125, 0.156494140625, -0.2039794921875, 0.326416015625, -0.175537109375, -0.66552734375, 0.10443115234375, -0.10626220703125, 0.1787109375, 0.096923828125, -0.212646484375, 0.06964111328125, -0.1553955078125, -0.26513671875, -0.091064453125, 0.55908203125, -0.016265869140625, 0.053558349609375, 0.0047607421875, -0.477783203125, 0.1798095703125, -0.25390625, 0.450439453125, -0.367431640625, 0.2099609375, -0.3251953125, 0.2266845703125, -0.044830322265625, -0.28759765625, -0.045379638671875, 0.404296875, 0.222900390625, -0.492919921875, 0.45947265625, -0.054901123046875, -0.09033203125, 0.27783203125, 0.15576171875, -0.29443359375, 0.253173828125, -0.494384765625, 0.72802734375, -0.0009236335754394531, 0.9599609375], metadata={'file_path': '/content/mixed_data/frame0038.png', 'file_name': 'frame0038.png', 'file_type': 'image/png', 'file_size': 76762, 'creation_date': '2024-04-14', 'last_modified_date': '2024-04-14'}, excluded_embed_metadata_keys=['file_name', 'file_type', 'file_size', 'creation_date', 'last_modified_date', 'last_accessed_date'], excluded_llm_metadata_keys=['file_name', 'file_type', 'file_size', 'creation_date', 'last_modified_date', 'last_accessed_date'], relationships={<NodeRelationship.SOURCE: '1'>: RelatedNodeInfo(node_id='6cd93511-e026-4c3c-8aa3-b203c9f46623', node_type=<ObjectType.DOCUMENT: '4'>, metadata={'file_path': '/content/mixed_data/frame0038.png', 'file_name': 'frame0038.png', 'file_type': 'image/png', 'file_size': 76762, 'creation_date': '2024-04-14', 'last_modified_date': '2024-04-14'}, hash='b95001782da030d538d701124fd0acf9ad5f520f54896747ef25a8201dfdfc18'), <NodeRelationship.PREVIOUS: '2'>: RelatedNodeInfo(node_id='806695e6-456c-4b1c-bbe7-967355d39769', node_type=<ObjectType.IMAGE: '2'>, metadata={'file_path': '/content/mixed_data/frame0037.png', 'file_name': 'frame0037.png', 'file_type': 'image/png', 'file_size': 79921, 'creation_date': '2024-04-14', 'last_modified_date': '2024-04-14'}, hash='045a5d042e6e5f8b22c983c9374efe4f05f5989e23fb87d6c8cd7d26a3da005f'), <NodeRelationship.NEXT: '3'>: RelatedNodeInfo(node_id='3b60cc4d-52ea-4463-a199-e14e4bd8cebe', node_type=<ObjectType.IMAGE: '2'>, metadata={}, hash='44136fa355b3678a1146ad16f7e8649e94fb4fc21fe77e8310c060f61caaff8a')}, text='', start_char_idx=0, end_char_idx=0, text_template='{metadata_str}\\n\\n{content}', metadata_template='{key}: {value}', metadata_seperator='\\n', image=None, image_path='/content/mixed_data/frame0038.png', image_url=None, image_mimetype=None, text_embedding=None), score=0.0),\n",
              " NodeWithScore(node=ImageNode(id_='4a5e05d7-e174-4a3f-bfd8-2ccc0d1609bf', embedding=[0.07489013671875, -0.58837890625, -0.252685546875, -0.1666259765625, -0.365966796875, -0.03729248046875, 0.07476806640625, 0.445556640625, 0.477294921875, 0.0716552734375, -0.0460205078125, 0.03082275390625, -0.88720703125, -0.25732421875, -0.0748291015625, 0.10052490234375, -0.032501220703125, -0.061737060546875, -0.067626953125, -0.09930419921875, 0.024444580078125, -0.0391845703125, -0.094482421875, -0.208251953125, -0.08648681640625, 0.447998046875, -0.460205078125, -0.3955078125, 0.2264404296875, -0.50439453125, 0.34619140625, -0.279296875, -0.26806640625, 0.1544189453125, 0.65869140625, 0.464599609375, 0.07281494140625, -0.01538848876953125, -0.1534423828125, -1.0419921875, -0.0751953125, 0.11859130859375, -0.283203125, -0.04852294921875, -0.02252197265625, -0.10699462890625, 0.391357421875, 0.18359375, -0.26904296875, -0.17041015625, 0.1156005859375, -0.11578369140625, 0.0023059844970703125, -0.166259765625, -0.213623046875, -0.114501953125, -0.418212890625, 0.393310546875, -0.164794921875, 0.638671875, 0.45361328125, -0.35498046875, -0.17919921875, 0.391357421875, 0.316162109375, -0.07257080078125, -0.568359375, 0.6240234375, 0.106201171875, -0.1907958984375, -0.367431640625, -0.317138671875, -0.00024235248565673828, 0.11004638671875, -0.0014495849609375, -0.461181640625, 0.463134765625, -0.83642578125, -0.09765625, -0.34521484375, -0.1251220703125, -0.339599609375, 0.158447265625, 1.146484375, 0.032257080078125, -0.1566162109375, 0.9912109375, -0.1767578125, 0.231689453125, -0.005428314208984375, -0.4677734375, 0.304931640625, -5.73828125, 0.25048828125, 0.1107177734375, -0.1107177734375, 0.268798828125, -0.30859375, 0.280029296875, -0.1998291015625, -0.400390625, 0.057281494140625, -0.08856201171875, -0.04833984375, 0.16943359375, -0.250244140625, -2.4921875, 0.073974609375, -0.0548095703125, 0.18310546875, 0.136474609375, -0.286376953125, -0.2083740234375, -0.279296875, -0.036224365234375, -0.108642578125, -0.71826171875, -0.7275390625, 0.418212890625, -0.282470703125, -0.10650634765625, 0.269287109375, -0.21142578125, 0.343017578125, 0.180419921875, 0.11907958984375, -0.263671875, -0.0875244140625, 0.0845947265625, -0.01535797119140625, 0.33447265625, 0.228271484375, -0.0172576904296875, 0.8212890625, -0.08807373046875, -0.2364501953125, -0.2451171875, -0.380126953125, -0.053741455078125, -0.1484375, 0.416259765625, -0.287109375, -0.55322265625, 0.2083740234375, -0.389892578125, 0.354736328125, -0.2578125, 0.666015625, 0.293701171875, -0.144287109375, 0.116943359375, 0.372802734375, -0.08148193359375, -0.246337890625, 0.59228515625, -0.5673828125, -0.323486328125, 0.16455078125, 0.52587890625, 0.044830322265625, 0.3125, 0.1693115234375, 0.03143310546875, -0.008209228515625, 0.51953125, -0.358642578125, -0.79248046875, -0.1185302734375, -0.37646484375, -0.09429931640625, -0.349365234375, 0.1248779296875, -0.34326171875, 0.3447265625, -0.2413330078125, -0.07720947265625, -0.63525390625, 0.040435791015625, 0.57421875, 0.58544921875, -0.1280517578125, -0.2254638671875, -0.39208984375, -0.289306640625, 0.28173828125, -0.374267578125, 0.79052734375, 0.1761474609375, 0.220703125, 0.365234375, 0.2064208984375, 0.2398681640625, -0.34814453125, 0.3916015625, -0.7080078125, -0.12213134765625, 0.1812744140625, 0.55224609375, 0.247802734375, 0.297607421875, 0.324951171875, -0.0110931396484375, 0.12200927734375, -0.0302886962890625, -0.209228515625, 0.1553955078125, 0.099365234375, 0.2471923828125, 0.0440673828125, -0.0250091552734375, 0.123291015625, 0.499267578125, 0.1578369140625, -0.2381591796875, -0.1312255859375, 0.15283203125, 0.42626953125, 0.2030029296875, -0.4619140625, -0.0296630859375, 0.55517578125, -0.037811279296875, -0.0283203125, 0.03021240234375, -0.15185546875, -0.4287109375, -0.401611328125, -0.390625, 0.0963134765625, 0.313232421875, -0.2108154296875, -0.2242431640625, -0.30859375, -0.3828125, -0.31103515625, -0.546875, 0.30126953125, -0.4912109375, -0.2113037109375, -0.217529296875, 0.06854248046875, 0.35693359375, -0.08984375, 0.10797119140625, -0.483154296875, 0.1658935546875, 0.60595703125, 0.239990234375, 0.34326171875, 0.05743408203125, 0.055389404296875, -0.16748046875, 0.296875, -0.060760498046875, -0.48779296875, 0.108154296875, -0.351318359375, -0.309326171875, -0.23681640625, -0.479248046875, -0.11920166015625, -0.10540771484375, -0.0655517578125, 1.3017578125, -0.023193359375, 0.032745361328125, -0.192138671875, -0.171630859375, 0.326904296875, 0.296142578125, -0.250732421875, 0.272216796875, 0.1114501953125, 0.1531982421875, -0.1800537109375, 0.0287017822265625, -0.048583984375, 0.38525390625, 0.41162109375, -0.375, 0.43798828125, -0.078857421875, -0.287109375, -0.052825927734375, 0.1192626953125, 0.34765625, -0.38232421875, -0.2330322265625, -0.2017822265625, -0.12548828125, 0.256591796875, 0.173583984375, -0.09808349609375, -0.154296875, 0.0269317626953125, 0.74755859375, -0.464599609375, -0.049072265625, -0.2318115234375, 0.128173828125, -0.1790771484375, -0.5078125, -0.419189453125, 0.2081298828125, 0.3017578125, 0.05255126953125, 0.06610107421875, 0.2177734375, 0.302490234375, 0.350830078125, -0.452392578125, 0.5, 0.822265625, 0.75439453125, -0.1287841796875, 0.1295166015625, 0.07843017578125, -0.004730224609375, -0.02630615234375, -0.0823974609375, 0.7705078125, 0.0298004150390625, -0.55224609375, -0.2685546875, -0.35546875, 0.02337646484375, -0.0645751953125, -0.21435546875, 0.16552734375, 0.0906982421875, 0.023406982421875, -0.0291748046875, 0.226318359375, -0.1328125, -0.35546875, -0.143310546875, -0.428466796875, -0.150634765625, 0.325927734375, 0.442138671875, -0.016357421875, -0.1727294921875, 0.2734375, -0.142822265625, 0.155029296875, -0.1561279296875, -0.333251953125, 0.052215576171875, 0.1331787109375, -0.207275390625, 0.2288818359375, 0.313720703125, 0.2449951171875, -0.254638671875, -0.3447265625, -0.284912109375, 0.337890625, -0.94970703125, -0.1826171875, 0.143798828125, -0.145751953125, -0.1944580078125, 0.23583984375, -0.39892578125, -1.0693359375, -0.11309814453125, -0.00927734375, 0.2303466796875, 0.389404296875, 0.29345703125, 0.257080078125, -0.5263671875, 0.291259765625, 0.52685546875, 0.0789794921875, -0.12066650390625, -0.58349609375, 0.2103271484375, -0.08612060546875, -0.1361083984375, -0.638671875, -0.6142578125, -0.465087890625, -0.52978515625, 0.2164306640625, 0.62646484375, -0.024658203125, -0.37890625, 0.006183624267578125, 0.51220703125, -0.40380859375, 0.141845703125, 0.0977783203125, -0.6435546875, 0.0144500732421875, 0.01136016845703125, -0.024261474609375, -0.24755859375, -0.30126953125, -0.181640625, -0.08868408203125, 0.16845703125, 0.2406005859375, -0.21923828125, -0.384521484375, -0.24755859375, -0.1632080078125, 0.06292724609375, 0.9716796875, -0.0791015625, -0.257080078125, -0.086181640625, 0.39599609375, -0.345458984375, -0.29931640625, 0.173095703125, -0.7861328125, -0.1746826171875, 0.142578125, -0.447509765625, 0.4833984375, -0.80126953125, -0.019683837890625, -0.358642578125, 0.322265625, -0.12939453125, -0.58837890625, -0.30615234375, -1.7431640625, 0.045013427734375, 0.34765625, -0.228271484375, -0.47119140625, 0.2218017578125, -0.46533203125, -0.1475830078125, -0.1119384765625, -0.11566162109375, 0.2489013671875, -0.23583984375, -0.09063720703125, 0.07647705078125, -0.30224609375, -0.11004638671875, -0.06988525390625, -0.1978759765625, 0.396728515625, -0.329833984375, -0.32958984375, -0.1043701171875, 0.1783447265625, -0.1055908203125, -0.2266845703125, -0.53564453125, 0.53515625, 0.18603515625, -0.1636962890625, 0.06097412109375, -0.21923828125, 0.257568359375, 0.2081298828125, -0.1258544921875, -0.156982421875, -0.20361328125, 0.00916290283203125, 0.5224609375, 0.10418701171875, -0.10906982421875, 0.256103515625, 0.3291015625, -0.340087890625, 0.263916015625, -0.044891357421875, -0.031402587890625, -0.09503173828125, -0.218017578125, 0.259765625, -0.39697265625, 0.2100830078125, -0.29345703125, 0.08056640625, 0.150390625, -0.12841796875, 0.488525390625, 0.2374267578125, -0.161376953125, -0.2305908203125, 0.030792236328125, 0.019744873046875, -0.3310546875, 0.40380859375, -0.00505828857421875, 0.2841796875, -0.472900390625, 0.056884765625, -0.057586669921875, -0.158203125, -0.40966796875, 0.059661865234375, 0.2076416015625, -0.8212890625, -0.1925048828125, -0.07928466796875, -0.06304931640625, -0.256103515625, -0.00994873046875, -0.19140625, 0.223876953125, -0.350830078125, 1.1474609375, 0.262451171875, 0.10626220703125], metadata={'file_path': '/content/mixed_data/frame0028.png', 'file_name': 'frame0028.png', 'file_type': 'image/png', 'file_size': 65903, 'creation_date': '2024-04-14', 'last_modified_date': '2024-04-14'}, excluded_embed_metadata_keys=['file_name', 'file_type', 'file_size', 'creation_date', 'last_modified_date', 'last_accessed_date'], excluded_llm_metadata_keys=['file_name', 'file_type', 'file_size', 'creation_date', 'last_modified_date', 'last_accessed_date'], relationships={<NodeRelationship.SOURCE: '1'>: RelatedNodeInfo(node_id='759281d9-bab3-4dc1-b9e4-769ebb6c3c83', node_type=<ObjectType.DOCUMENT: '4'>, metadata={'file_path': '/content/mixed_data/frame0028.png', 'file_name': 'frame0028.png', 'file_type': 'image/png', 'file_size': 65903, 'creation_date': '2024-04-14', 'last_modified_date': '2024-04-14'}, hash='424a336f4fd7215216cbfe0193b47e857019800b3d6177fc82db03c693bd9075'), <NodeRelationship.PREVIOUS: '2'>: RelatedNodeInfo(node_id='1e77c3dd-ff80-4203-a753-94be56733e59', node_type=<ObjectType.IMAGE: '2'>, metadata={'file_path': '/content/mixed_data/frame0027.png', 'file_name': 'frame0027.png', 'file_type': 'image/png', 'file_size': 70238, 'creation_date': '2024-04-14', 'last_modified_date': '2024-04-14'}, hash='e05d3e8a0a0484b295e3ae7df720783905ed00558307c7a03c944420e0ce9915'), <NodeRelationship.NEXT: '3'>: RelatedNodeInfo(node_id='3453810e-f875-46e1-86d8-ee6fd6c944be', node_type=<ObjectType.IMAGE: '2'>, metadata={}, hash='44136fa355b3678a1146ad16f7e8649e94fb4fc21fe77e8310c060f61caaff8a')}, text='', start_char_idx=0, end_char_idx=0, text_template='{metadata_str}\\n\\n{content}', metadata_template='{key}: {value}', metadata_seperator='\\n', image=None, image_path='/content/mixed_data/frame0028.png', image_url=None, image_mimetype=None, text_embedding=None), score=0.0)]"
            ]
          },
          "metadata": {},
          "execution_count": 114
        }
      ]
    },
    {
      "cell_type": "code",
      "source": [
        "retrieved_image=[]\n",
        "retrieved_text=[]"
      ],
      "metadata": {
        "id": "xP9Fc9JwbuQ9"
      },
      "execution_count": null,
      "outputs": []
    },
    {
      "cell_type": "code",
      "source": [
        "for res_node in retrieval_results:\n",
        "  if isinstance(res_node.node,ImageNode):\n",
        "    retrieved_image.append(res_node.node.metadata[\"file_path\"])\n",
        "  else:\n",
        "     display_source_node(res_node, source_length=200)\n",
        "     retrieved_text.append(res_node.text)\n",
        "\n",
        "\n"
      ],
      "metadata": {
        "colab": {
          "base_uri": "https://localhost:8080/",
          "height": 98
        },
        "id": "jR055oPTb3c-",
        "outputId": "98f1b7a6-f39f-413e-fe4e-48aa965ba362"
      },
      "execution_count": null,
      "outputs": [
        {
          "output_type": "display_data",
          "data": {
            "text/plain": [
              "<IPython.core.display.Markdown object>"
            ],
            "text/markdown": "**Node ID:** 71fddc3a-eb16-449e-aeec-f12625256544<br>**Similarity:** 0.7717532515525818<br>**Text:** Lanyard regression is a statistical technique for modeling the relationship between an output variable and one or more input variables. In layman's terms, think of it as fitting a line through some...<br>"
          },
          "metadata": {}
        }
      ]
    },
    {
      "cell_type": "code",
      "source": [
        "retrieved_image"
      ],
      "metadata": {
        "colab": {
          "base_uri": "https://localhost:8080/"
        },
        "id": "aGqznXHfdFy8",
        "outputId": "def0f6e7-7ef5-47ab-a29d-2db34744670e"
      },
      "execution_count": null,
      "outputs": [
        {
          "output_type": "execute_result",
          "data": {
            "text/plain": [
              "['/content/mixed_data/frame0003.png',\n",
              " '/content/mixed_data/frame0038.png',\n",
              " '/content/mixed_data/frame0028.png']"
            ]
          },
          "metadata": {},
          "execution_count": 125
        }
      ]
    },
    {
      "cell_type": "code",
      "source": [
        "retrieved_text"
      ],
      "metadata": {
        "colab": {
          "base_uri": "https://localhost:8080/"
        },
        "id": "gib_LdutcAxv",
        "outputId": "9f9e952a-2449-4599-98cf-ba38ed18fb46"
      },
      "execution_count": null,
      "outputs": [
        {
          "output_type": "execute_result",
          "data": {
            "text/plain": [
              "[\"Lanyard regression is a statistical technique for modeling the relationship between an output variable and one or more input variables. In layman's terms, think of it as fitting a line through some data points as shown here, so you can make predictions on unknown data, assuming there is a linear relationship between the variables. You might be familiar with the linear function y equals mx plus b, where y is the output variable, also called the dependent variable. You may also see expressed as f of x, the function of the input variable. x on the other hand, would serve as the input variable, also called the independent variable. It's likely you'll see the coefficients m and b expressed as beta 1 and beta 0 respectively. So what do the m and b coefficients do? The m or beta 1 coefficient controls the slope of the line. The b or the beta 0 controls the intercept of the line. In machine learning, we also know it as the bias. These two coefficients are what we are solving for in linear regression. We can also extend to multiple input variables, so x1, x2, x3, with beta 1, beta 2, and beta 3, and so on, acting as slopes for each of those variables. In these higher dimensions, you would visualize the linear regression as a hyperplane. So how do we fit the line to these points? Well, you'll notice that there's these differences between the points and the line, these little red segments, these are called residuals. They are the differences between the data points and the predictions the line would produce. Take each of these residuals and square them. These are the squared errors, and notice that the large of the residuals are, the more amplified area of the squares are. If we total the areas of all of these squares for a given line, we will get the sum of the squared error, and this is known as our loss function. We need to find the beta 0 and beta 1 coefficients that will minimize that sum of squared error. The coefficients can be solved with a variety of techniques ranging from matrix decomposition to gradient descent, which is depicted right here. Thankfully, a lot of libraries are available to do this for us, and we will deep dive into these topics in other videos. To validate a linear regression, there are a number of techniques. Machine learning practitioners will often take a third of the data and put it into the test data set. The remaining two thirds will become the training data set. The training data set will then be used to fit the regression line. The test data set will then be used to validate the regression line. This is done to make sure that the regression performs well on data it has not seen before. The tricks used to evaluate the linear regression vary from the R square, standard error of the estimate, prediction intervals, as well as statistical significance. These are topics we will cover in future videos. If you enjoyed this video, please like and subscribe. Look at my two O'Reilly books, Essential Math for Data Science, and getting started with SQL. Chapter five of Essential Math for Data Science actually covers linear regression and much more depth. If you want live instruction, I also do teach on the O'Reilly platform. Promotional link below. I teach classes including machine learning from scratch, probability, and SQL. Comment on what topics you would like to see next, and I will see you again on 3 Minute Data Science.\"]"
            ]
          },
          "metadata": {},
          "execution_count": 126
        }
      ]
    },
    {
      "cell_type": "code",
      "source": [],
      "metadata": {
        "id": "5B4BiT94dLlw"
      },
      "execution_count": null,
      "outputs": []
    }
  ]
}